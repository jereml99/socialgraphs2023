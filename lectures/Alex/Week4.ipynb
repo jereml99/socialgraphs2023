{
 "cells": [
  {
   "cell_type": "markdown",
   "metadata": {},
   "source": [
    "# Overview\n",
    "\n",
    "This week is all about working with data. I'm not going to lie to you. This part might be frustrating - but frustration is an integral part of learning. Real data is almost always messy & difficult ... and learning to deal with that fact, is a key part of being a data scientist. \n"
   ]
  },
  {
   "cell_type": "markdown",
   "metadata": {},
   "source": [
    "Enough about the process, let's get to the content. \n",
    "\n",
    "![Text](https://wallpapers.com/images/high/cool-rapper-zs7xat10uqylszmy.webp \"Great image choice, Jonas\")\n",
    "\n",
    "Today, we will use network science and Wikipedia to learn about the relationships of **[West Coast](https://en.wikipedia.org/wiki/Category:West_Coast_hip_hop_musicians)** and **[East coast](https://en.wikipedia.org/wiki/Category:East_Coast_hip_hop_musicians)** rappers. \n",
    "\n",
    "To create the network, we will download the Wikipedia pages for all rappers from each coast. Next, we will create the network of the pages that link to each other. Since wikipedia pages link to each other. So [Snoop Dogg](https://en.wikipedia.org/wiki/Snoop_Dogg) links to [Dr. Dre](https://en.wikipedia.org/wiki/Dr._Dre), for example.\n",
    "\n",
    "Next time, we'll use our network skills (as well as new ones) to understand that network. Further down the line, we'll use natural language processing to understand the text displayed on those pages.\n",
    "\n",
    "But for today, the tasks are\n",
    "\n",
    "* Learn about regular expressions\n",
    "* Learn about Pandas dataframes\n",
    "* Download and store (for later use) all the rapper-pages from Wikipedia\n",
    "* Extract all the internal wikipedia-links that connect the rappers on wikipedia\n",
    "* Generate the network of rappers on wikipedia. \n",
    "* Calculate some simple network statistics."
   ]
  },
  {
   "cell_type": "markdown",
   "metadata": {},
   "source": [
    "## The Guide to Week 4 (not to be missed)\n",
    "\n",
    "Today I talk about \n",
    "\n",
    "* Results of the user satisfaction questionnaire\n",
    "* Assignment 1\n",
    "* Today's exercises\n",
    "\n",
    "> * ***Video lecture*** Guide to week 4 https://www.dropbox.com/scl/fi/b760tkugfrnm9kca1apnb/GuideToWeek4.mp4?rlkey=r7y6pijkafc9zn5tcz1cmj8dg&dl=0"
   ]
  },
  {
   "cell_type": "markdown",
   "metadata": {},
   "source": [
    "---\n",
    "\n",
    "# Prelude: Regular expressions"
   ]
  },
  {
   "cell_type": "markdown",
   "metadata": {},
   "source": [
    "Before we get started, we have to get a little head start on the _Natural Language Processing_ part of the class. This is a new direction for us, up to now, we've mostly been doing math-y stuff with Python, but today, we're going to be using Python to work through a text. The central thing we need to be able to do today, is to extract internal wikipedia links. And for that we need regular expressions.\n",
    "\n",
    "> _Exercises_: Regular expressions round 1\\.\n",
    "> \n",
    "> * Read [**this tutorial**](https://developers.google.com/edu/python/regular-expressions) to form an overview of regular expressions. This is important to understand the content of the tutorial (also very useful later), so you may actually want to work through the examples.\n",
    "> * Now, explain in your own words: what are regular expressions?\n",
    ">   * **Solution**: Codes that are used to search and match patterns in a text. "
   ]
  },
  {
   "cell_type": "code",
   "execution_count": 10,
   "metadata": {},
   "outputs": [],
   "source": [
    "import nltk\n",
    "from bs4 import BeautifulSoup   \n",
    "import urllib3\n",
    "\n",
    "http = urllib3.PoolManager()\n",
    "\n",
    "url = 'https://raw.githubusercontent.com/SocialComplexityLab/socialgraphs2020/master/files/regex_exercise.txt'\n",
    "response = http.request('GET', url)\n",
    "soup = BeautifulSoup(response.data)\n",
    "texts = soup.body.strings\n",
    "\n",
    "text = '\\n'.join(texts)"
   ]
  },
  {
   "cell_type": "markdown",
   "metadata": {},
   "source": [
    "> * Provide an example of a regex to match 4 digits numbers (by this, I mean precisely 4 digits, you should not match any part of numbers with e.g. 5 digits). In your notebook, use `findall` to show that your regex works on this [test-text](https://raw.githubusercontent.com/SocialComplexityLab/socialgraphs2020/master/files/regex_exercise.txt). **Hint**: a great place to test out regular expressions is: https://regex101.com.\n",
    ">   * **Solution**: '\\b\\d\\d\\d\\d\\b'"
   ]
  },
  {
   "cell_type": "code",
   "execution_count": 11,
   "metadata": {},
   "outputs": [
    {
     "name": "stdout",
     "output_type": "stream",
     "text": [
      "1234\n",
      "9999\n"
     ]
    }
   ],
   "source": [
    "import re\n",
    "\n",
    "matches = re.findall(r'\\b\\d\\d\\d\\d\\b', text)\n",
    "\n",
    "for match in matches:\n",
    "    # do something with each found email string\n",
    "    print(match)"
   ]
  },
  {
   "cell_type": "markdown",
   "metadata": {},
   "source": [
    "> * Provide an example of a regex to match words starting with \"super\". Show that it works on the [test-text](https://raw.githubusercontent.com/SocialComplexityLab/socialgraphs2020/master/files/regex_exercise.txt).\n",
    ">   * **Solution**: '\\bsuper\\w*\\b' if you want the word \"super\" to match, or '\\bsuper\\w+\\b' if you don't."
   ]
  },
  {
   "cell_type": "code",
   "execution_count": 12,
   "metadata": {},
   "outputs": [
    {
     "name": "stdout",
     "output_type": "stream",
     "text": [
      "superpolaroid\n",
      "supertaxidermy\n",
      "superbeer\n"
     ]
    }
   ],
   "source": [
    "import re\n",
    "\n",
    "matches = re.findall(r'\\bsuper\\w*\\b', text)\n",
    "\n",
    "for match in matches:\n",
    "    # do something with each found email string\n",
    "    print(match)"
   ]
  },
  {
   "cell_type": "markdown",
   "metadata": {},
   "source": [
    "Finally, we need to figure out how how to match internal wiki links. Wiki links come in two flavors. They're always enclosed in double square brackets, e.g. `[[wiki-link]]` and can either occur like this:\n",
    "\n",
    "    ... some text [[Aristotle]] some more text ...\n",
    "\n",
    "which links to the page [`https://en.wikipedia.org/wiki/Aristotle`](https://en.wikipedia.org/wiki/Aristotle). \n",
    "\n",
    "The second flavor has two parts, so that links can handle spaces and other more fancy forms of references, here's an example:\n",
    "\n",
    "    ... some text [[John_McCain|John McCain]] some more text ...\n",
    "\n",
    "which links to the page [`https://en.wikipedia.org/wiki/John_McCain`](https://en.wikipedia.org/wiki/Eudemus_of_Rhodes). Now it's your turn.\n",
    "\n",
    "> _Exercise_: Regular expressions round 2\\. Show that you can extract the wiki-links from the [test-text](https://raw.githubusercontent.com/SocialComplexityLab/socialgraphs2020/master/files/regex_exercise.txt). Perhaps you can find inspiration on stack overflow or similar. **Hint**: Try to solve this exercise on your own (that's what you will get the most out of - learning wise), but if you get stuck ... you will find the solution in one of the video lectures below.\n",
    "> "
   ]
  },
  {
   "cell_type": "code",
   "execution_count": 13,
   "metadata": {},
   "outputs": [
    {
     "name": "stdout",
     "output_type": "stream",
     "text": [
      "['drinking vinegar', 'gentrify', 'hashtag', 'Bicycle|Bicycle(two-wheeled type)', 'Pitchfork|Pitchfork Magazine']\n"
     ]
    }
   ],
   "source": [
    "import re\n",
    "regex = r\"\\[\\[(.*?)\\]\\]\"\n",
    "matches = re.findall(regex, text)\n",
    "\n",
    "print(matches)"
   ]
  },
  {
   "cell_type": "markdown",
   "metadata": {},
   "source": [
    "# Prelude part 2: Pandas DataFrames\n"
   ]
  },
  {
   "cell_type": "markdown",
   "metadata": {},
   "source": [
    "Before starting, we will also learn a bit about [pandas dataframes](https://pandas.pydata.org/pandas-docs/stable/generated/pandas.DataFrame.html), a very user-friendly data structure that you can use to manipulate tabular data. Pandas dataframes are implemented within the [pandas package] (https://pandas.pydata.org/).\n",
    "\n",
    "Pandas dataframes should be intuitive to use. **We suggest you to go through the [10 minutes to Pandas tutorial](https://pandas.pydata.org/pandas-docs/version/0.22/10min.html#min) to learn what you need to solve the next exercise.**"
   ]
  },
  {
   "cell_type": "markdown",
   "metadata": {},
   "source": [
    "---\n",
    "\n",
    "# Part A: Download the Wikipedia pages of rappers"
   ]
  },
  {
   "cell_type": "markdown",
   "metadata": {},
   "source": [
    "It's time to download all of the pages of the characters. Use your experience with APIs from Week 1\\. To get started, I **strongly** recommend that you revisit the [**APIs note book**](https://github.com/SocialComplexityLab/socialgraphs2023/blob/main/files/API_check.ipynb) from that week - it contains lots of useful tips on this specific activity (yes, I had planned this all along!). ."
   ]
  },
  {
   "cell_type": "markdown",
   "metadata": {},
   "source": [
    "Now, you could first download the names of all the rappers, starting from \n",
    "\n",
    "* https://en.wikipedia.org/wiki/Category:West_Coast_hip_hop_musicians\n",
    "* https://en.wikipedia.org/wiki/Category:East_Coast_hip_hop_musicians\n",
    "\n",
    "But this might result in so much pain and suffering that I will not make you do that (although you are very much welcome to try!). Instead, you can download all the names, nice and clean, here (it might still include couple of *noisy* links, but should be fine in 95% of records):\n",
    " \n",
    "* **[West coast List](https://github.com/SocialComplexityLab/socialgraphs2023/blob/main/files/WestCoastRappers.csv)**\n",
    "* **[East coast List](https://github.com/SocialComplexityLab/socialgraphs2023/blob/main/files/EastCoastRappers.csv)**\n",
    "\n",
    "The files contain the wiki-link of all rappers in the two lists above. \n"
   ]
  },
  {
   "cell_type": "code",
   "execution_count": 14,
   "metadata": {},
   "outputs": [],
   "source": [
    "# As the professor did it\n",
    "# import pandas as pd\n",
    "# import re\n",
    "# EastCoast = pd.read_csv('../data/EastCoastRappers.csv')\n",
    "# WestCoast = pd.read_csv('../data/WestCoastRappers.csv')\n",
    "# toprapper = EastCoast.WikipediaPageName[1]\n",
    "# import requests\n",
    "# baseurl = \"https://en.wikipedia.org/w/api.php?\"\n",
    "# params = {\n",
    "#     \"action\": \"query\",\n",
    "#     \"prop\": \"revisions\",\n",
    "#     \"rvprop\": \"content\",\n",
    "#     \"format\": \"json\",\n",
    "#     \"titles\": toprapper\n",
    "# }\n",
    "# wikitext = requests.get(baseurl, params=params)\n",
    "# wikijson = wikitext.json()"
   ]
  },
  {
   "cell_type": "code",
   "execution_count": 15,
   "metadata": {},
   "outputs": [],
   "source": [
    "# Jeremi: Using pywikibot\n",
    "import pywikibot\n",
    "import pandas as pd\n",
    "\n",
    "# Connect to Wikipedia\n",
    "wiki = pywikibot.Site('en', 'wikipedia')"
   ]
  },
  {
   "cell_type": "code",
   "execution_count": 16,
   "metadata": {},
   "outputs": [
    {
     "name": "stdout",
     "output_type": "stream",
     "text": [
      "     Unnamed: 0 WikipediaPageName\n",
      "0             0         03 Greedo\n",
      "1             1          24kGoldn\n",
      "2             2          40 Glocc\n",
      "3             3   A-Plus (rapper)\n",
      "4             4         DJ A-Tron\n",
      "..          ...               ...\n",
      "349         349           Young L\n",
      "350         350          Yukmouth\n",
      "351         351        Arif Zahir\n",
      "352         352          Zealous1\n",
      "353         353        Asaiah Ziv\n",
      "\n",
      "[354 rows x 2 columns]\n",
      "     Unnamed: 0 WikipediaPageName\n",
      "0             0           6ix9ine\n",
      "1             1        9th Prince\n",
      "2             2              22Gz\n",
      "3             3          38 Spesh\n",
      "4             4       The 45 King\n",
      "..          ...               ...\n",
      "442         442  Young Music DYMG\n",
      "443         443         Younglord\n",
      "444         444       Nosson Zand\n",
      "445         445         ZillaKami\n",
      "446         446       Mike Zombie\n",
      "\n",
      "[447 rows x 2 columns]\n",
      "['03 Greedo', '24kGoldn', '40 Glocc', 'A-Plus (rapper)', 'DJ A-Tron', 'Ab-Soul', 'Abstract Rude', 'Aceyalone', 'Afroman', 'Ahmad (rapper)', \"Ak'Sent\", 'The Alchemist (musician)', 'AMG (rapper)', 'Aminé (rapper)', 'Antwon', 'Aztlan Underground', 'B-Legit', 'B-Real', 'B.G. Knocc Out', 'Show Banga', 'Ant Banks', 'Sho Baraka', 'Bavgate', 'Becky G', 'Beeda Weeda', 'Beefy (rapper)', 'Berner (rapper)', 'Big B (rapper)', 'Big Dave (rapper)', 'Big Ed (rapper)', 'Big Fase 100', 'Bizzle', 'Aloe Blacc', 'Black Pegasus', 'Guerilla Black', 'Nissim Black', 'Toni Blackman', 'Blueface', 'Blxst', 'Bones (rapper)', 'Braille (musician)', 'Buddy (rapper)', 'Busdriver', 'Scott Caan', 'Sway Calloway', 'Nick Cannon', \"Captain Save 'Em\", 'Clyde Carson', 'Celestaphone', 'DJ Cheapshot', 'Tha Chill', 'Shawn Chrystopher', 'Chanel West Coast', 'Conceit (rapper)', 'Coolio', 'Cozz', 'Crooked I', 'Omega Crosby', 'Cut Chemist', 'D-Loc', 'The D.O.C.', 'Daddy X', 'DJ Dahi', 'Dazzie Dee', 'DB Tha General', 'Del the Funky Homosapien', 'Timothy DeLaGhetto', 'Demrick', 'Den Fenn', 'Scoop DeVille', 'Daz Dillinger', 'Nate Dogg', 'Snoop Dogg', 'Dolla Will', 'Domino (rapper)', 'Drakeo the Ruler', 'Dr. Dre', 'Droop-E', 'DTTX (rapper)', 'Dubb 20', 'Dumbfoundead', 'Duna (rapper)', 'E-40', 'Eazy-E', 'MC Eiht', 'Eprhyme', 'Evidence (musician)', 'Exile (producer)', 'Fashawn', 'Fatlip', 'Joey Fatts', 'Kevin Federline', 'Roshon Fegan', 'JT the Bigga Figga', 'Flash Bang Grenada', 'Flying Lotus', 'Shawn Fonteno', 'Foreknown (rapper)', 'Dave Free', 'Mike Free', 'Fresh Kid Ice', 'DJ Fresh (American DJ)', 'MC Frontalot', 'Frost (rapper)', 'Futuristic (rapper)', 'The Futuristics', 'G-Nut', 'G-Stack', 'The Game (rapper)', 'GaTa', 'O.T. Genasis', 'Domo Genesis', 'Getter (DJ)', 'Gift of Gab (rapper)', 'Grieves', \"Haiku d'Etat\", 'Hi-C (rapper)', 'Adam Hicks', 'Hit-Boy', 'Hittman', 'Hodgy', 'Hopsin', 'Hot Rod (rapper)', 'Houston (singer)', 'Brotha Lynch Hung', 'Hurt-M-Badd', 'Nipsey Hussle', 'Skhye Hutch', 'Iame (rapper)', 'Iamsu!', 'Ice Cube', 'Ice-T', 'ILoveMakonnen', 'The Jacka', 'Jake One', 'Noa James', 'Jel (music producer)', 'Jeff Jericho', 'JGivens', 'JHawk', 'Sir Jinx', 'Hobo Johnson', 'Judge Da Boss', 'Self Jupiter', 'K-the-I???', 'Kam (rapper)', 'Kaveo', 'Keak da Sneak', 'Baby Keem', 'Dom Kennedy', 'DJ Khalil', 'Kid Ink', 'Killa Keise', 'DJ King Assassin', 'King Lil G', 'King Tech', 'King T', 'Curtiss King', 'Rydah J. Klyde', 'Knightowl', 'Knxwledge', 'Kokane', 'Kossisko', 'Kreayshawn', 'Krondon', 'Kurupt', 'Kyle (musician)', 'Kendrick Lamar', 'Bishop Lamont', 'MC Lars', 'Laz-D', 'Lecrae', 'Lefty (rapper)', 'Shorty (American rapper)', 'Lil B', 'Lil Coner', 'Lil Debbie', \"Lil' Fizz\", 'Lil Italy', 'Lil Ric', 'Lil Rob', 'Lil Uno', 'Lil Xan', \"Lil' C-Style\", 'Amber Liu (singer)', 'Locksmith (rapper)', 'LoveRance', 'Luni Coleone', 'Mac Dre', 'CJ Mac', 'Mack 10', 'Macklemore', 'Madlib', 'Mac Mall', 'Glasses Malone', 'Mann (rapper)', 'Mayne Mannish', 'Brother Marquis', 'Terrace Martin', 'Young Maylay', 'Trevor McFedries', 'Mr. J. Medeiros', 'Eli Meltzer', 'Messy Marv', 'Miami (rapper)', 'Cymphonique Miller', 'Mistah F.A.B.', 'Mix Master Mike', 'Mr. Mixx', 'Slim the Mobster', 'KC Montero', 'Jonathan Moore (musician)', 'Lil Mosey', 'Mr. Capone-E', 'Mr. Skrillz', 'Mugzi', 'Murs (rapper)', 'Myka 9', 'Emcee N.I.C.E.', 'Nappy Nina', 'Shady Nate', 'Nichkhun', 'Damani Nkosi', 'Nobody (producer)', 'Nocando', 'Cool Nutz', 'O.Y.G Redrum 781', 'Oh No (musician)', 'OhGeesy', 'Only Won', 'Paris (rapper)', 'Jay Park', 'Teddy Park', 'Passion (rapper)', 'Peace (rapper)', 'J Peezy', 'Dudley Perkins (rapper)', 'Phats Bossi', 'Phil Da Agony', 'Playalitical', 'Pooh-Man', 'Vidal Prevost', 'Problem (rapper)', 'Prodeje', 'Psychosiz', 'Punch (rapper)', 'Schoolboy Q', 'Quazedelic', 'DJ Quik', 'San Quinn', 'Captain Rapp', \"Rappin' 4-Tay\", 'Ras Kass', 'RBX', 'Reason (American rapper)', 'Red Cloud (rapper)', 'Redfoo', 'RiceGum', 'The Real Richie Rich', 'Boots Riley', 'Ash Riser', 'RJ (rapper)', 'Jay Rock', 'V. Rose', 'Sadistik', 'Sage the Gemini', 'Saint Dog', 'Saweetie', 'Seagram (rapper)', 'Amanda Seales', 'Tupac Shakur', 'Mac Shawn', 'Shade Sheist', 'Mike Shinoda', 'Too Short', 'Shorty Mack', 'Shwayze', 'Dom Sicily', 'Raz Simone', 'Sir Mix-a-Lot', 'Skee-Lo', 'Skeme', 'Skinhead Rob', 'Alex Skolnick', 'Sky Blu (rapper)', 'Sleep (rapper)', 'Sleep Dank', 'Mitchy Slick', 'Slimkid3', 'Slip Capone', 'Slow Pain', 'Na-Kel Smith', 'D Smoke', 'Smooth (singer)', 'Snow Tha Product', 'Snupe', 'Soopafly', 'Sounwave', 'Speak!', 'Spice 1', 'Spider Loc', 'Vince Staples', 'Parlay Starr', 'Rob Stone (rapper)', 'Stressmatic', 'Stunnaman', 'Suga Free', 'Suga-T', 'Earl Sweatshirt', 'SwinDoe', 'Syd (singer)', 'Big Syke', 'T-Pup', 'Ali Tabatabaee', 'Taboo (rapper)', 'Tairrie B', 'Tanna Leone', 'Tap Dat Ass', 'Tedashii', 'TeeFlii', 'Thurz', 'Tiger JK', 'Time (rapper)', 'Ms. Toi', 'Tone Loc', 'Isaiah Toothtaker', 'Channel Tres', 'MC Trouble', 'Ty Dolla Sign', 'Tyler, the Creator', 'The Unknown DJ', 'V-Nasty', 'V-White', 'Casey Veggies', 'Bryce Vine', 'Warren G', 'WC (rapper)', \"Tim'm T. West\", 'Willie B (producer)', 'Dizzy Wright', 'Xzibit', 'Ya Boy', 'Yeat', 'YG (rapper)', 'YGD Tha Top Dogg', 'Yo-Yo (rapper)', 'MC Yogi', 'Young Chozen', 'Young Dru', 'Young L', 'Yukmouth', 'Arif Zahir', 'Zealous1', 'Asaiah Ziv', '6ix9ine', '9th Prince', '22Gz', '38 Spesh', 'The 45 King', '50 Cent', '60 Second Assassin (rapper)', '88-Keys', 'Sammy Adams', 'Adeem (rapper)', 'Aesop Rock', 'Afu-Ra', 'Akir', 'Akrobatik', 'Alias (musician)', 'Hoodie Allen', 'Amil', 'Antoinette (rapper)', 'Aone Beats', 'Apache (rapper)', 'Apathy (rapper)', 'AR-Ab', 'AraabMuzik', 'Arkatech Beatz', 'M. K. Asante', 'Asheru', 'The Audible Doctor', 'Awkwafina', 'AZ (rapper)', 'Apani B. Fly', 'DJ Babu', 'Bahamadia', 'Marty Baller', 'Charli Baltimore', 'Afrika Bambaataa', 'Bodega Bamz', 'Azealia Banks', 'Lloyd Banks', 'MC Paul Barman', 'Mark Batson', 'The Beat Bully', 'Jahlil Beats', 'Beedie (rapper)', 'Benny the Butcher', 'Benzino', 'Big Body Bes', 'Big Daddy Kane', 'Big Pun', 'Big Shug', 'Bkorn', 'Black Child', 'Black Rob', 'Black Thought', 'Memphis Bleek', 'Blockhead (music producer)', 'Action Bronson', 'Bronx Style Bob', 'Foxy Brown (rapper)', 'Tommy Brown (record producer)', 'Ron Browz', 'Buckshot (rapper)', 'Buckwild (music producer)', 'Joe Budden', 'Dai Burger', 'Cage (rapper)', 'Crystal Caines', 'Call Me Ace', \"Cam'ron\", 'Canibus', 'Don Cannon', 'Capella Grey', 'Capital Steez', 'Capone (rapper)', 'Cappadonna', 'Kid Capri', 'Cardi B', 'Cardiak', 'Casanova (rapper)', 'Cassidy (rapper)', 'Grandmaster Caz', 'Cazwell', \"Lil' Cease\", 'John Cena', 'Ceschi', 'DJ Charlie Chase', 'Chinx', 'DJ Chuck Chillout', 'Chyskillz', 'CJ (rapper)', 'Clams Casino (musician)', 'Sean Combs', 'Consequence (rapper)', 'Conway the Machine', 'Cool C', 'Cordae', 'Cousin Stizz', 'Keef Cowboy', 'Jay Critch', 'Cuban Link', 'D-Nice', 'Daddy-O (rapper)', 'Danger Mouse (musician)', 'Danny Boy (rapper)', 'Dash (rapper)', 'Desiigner', 'Diabolic (rapper)', 'Kosha Dillz', 'Flipp Dinero', 'Disco King Mario', 'DJ Disco Wiz', 'DMX', 'Tim Dog', 'B. Dolan', 'Don Q (rapper)', 'MF Doom', 'Dot da Genius', 'Drag-On', 'DJ Drama', 'Dub-L', 'Dutch ReBelle', 'DVLP', 'Smoke DZA', 'E.D.I. Mean', 'East Flatbush Project', 'Dave East', 'Ed O.G.', 'El-P', 'Eric B.', 'Esoteric (rapper)', 'Eve (rapper)', 'Eyenine', 'Fabolous', 'Mickey Factz', 'Fat Joe', 'Hussein Fatal', 'Felly', 'ASAP Ferg', 'Grandmaster Flash', 'CJ Fly', 'Focus...', 'Q Da Fool', 'Fivio Foreign', 'Freddie Foxxx', 'Njena Reddd Foxxx', 'Sage Francis', 'Harry Fraud', 'Fred the Godson', 'Freekey Zekey', 'Frenchie (rapper)', 'Fresh Kid Ice', 'Doug E. Fresh', 'Funkmaster Flex', 'Ty Fyffe', 'G Koop', 'Heather B. Gardner', 'Mic Geronimo', 'GFMBryyce', 'Ghostface Killah', 'Godfather Don', 'Irv Gotti', 'Jean Grae', 'Grafh', 'Dame Grease', 'MF Grimm', 'Cory Gunz', 'Guru (rapper)', 'GZA', 'Half a Mill', 'Sleepy Hallow', 'Charles Hamilton (rapper)', 'Andre Harrell', 'Havoc (musician)', 'Emile Haynie', 'Heavy D', 'Hell Rell', 'Samuel T. Herring', 'Chad Hugo', 'DJ Hurricane', 'Ice Spice', 'Ill Bill', 'Inspectah Deck', 'Islord', 'J.I the Prince of N.Y', 'J57 (rapper)', 'Ja Rule', 'Jadakiss', 'Ms. Jade', 'Mike Jaggerr', 'Jam Master Jay', 'Jasiri X', 'Jay-Z', 'Jaz-O', 'MC Jazzy Jeff', 'DJ Jazzy Joyce', 'MC Jin', 'Jipsta', 'Joey Badass', 'Chilla Jones', 'Serius Jones', 'JPEGMafia', 'Junglepussy', 'Just Blaze', 'Just-Ice', 'Ka$hdami', 'Kangol Kid', 'Kastro (rapper)', 'DJ Kay Slay', 'Kemba (rapper)', 'Jamie Kennedy', 'Wiz Khalifa', 'Killa Sin', 'Kirk Knight', 'Tate Kobang', 'Kool G Rap', 'Kool Moe Dee', 'KRS-One', 'Talib Kweli', 'Big L', 'Coke La Rock', 'Scott La Rock', 'Lady B', 'Lady Crush', 'Al Sherrod Lambert', 'Lamiere', 'Knero Lapaé', 'Larry Larr', 'Sabor Latino', 'Lee on the Beats', 'HeeSun Lee', 'Trip Lee', 'Le1f', 'Johan Lenox', 'Coi Leray', 'Alrad Lewis', 'Rob Lewis (record producer)', 'Mr. Lif', 'Like (record producer)', 'Lil Dicky', 'Lil Mama', 'Lil Peep', 'Lil Tjay', \"Lil' Kim\", 'Lin Que', 'Ex-plicit linez', 'Dusty Locane', 'Nicholas Loftin', 'DJ Logic', 'Sheek Louch', 'Louis Logic', 'Ed Lover', 'Jan Lucanus', 'Joyner Lucas', 'MC Lyte', 'M-Dot', 'Remy Ma', 'China Mac', 'Mach-Hommy', 'Craig Mack', 'Kellee Maize', 'Malik B.', 'Roc Marciano', 'Biz Markie', 'Marley Marl', 'Brother Marquis', 'Skizzy Mars', 'Theo Martins', 'Mase', 'Masta Killa', 'Mathematics (producer)', 'Ivan Matias', 'Lady May (rapper)', 'Darryl McDaniels', 'McGruff (rapper)', 'Megahertz (record producer)', 'Melle Mel', 'Method Man', 'Mike D', 'Mikey D', 'Derrick Milano', 'Meek Mill', 'Mac Miller', 'Jae Millz', 'Mims (rapper)', 'Andy Mineo', \"Mr. Muthafuckin' eXquire\", 'Mr. Mixx', 'Easy Mo Bee', 'Pharoahe Monch', 'French Montana', 'Mos Def', 'Ali Shaheed Muhammad', 'Uncle Murda', 'Keith Murray', 'Myzery', 'N.O.R.E.', 'Nas', 'ASAP Nast', 'Necro (rapper)', 'Bishop Nehru', 'Neo da Matrix', 'Nine (rapper)', 'Nitty (musician)', 'No Malice', 'Young Noble', 'NOE (rapper)', 'Princess Nokia', 'The Notorious B.I.G.', 'O.C. (rapper)', \"Ol' Dirty Bastard\", \"Shaquille O'Neal\", 'Oompa (rapper)', 'Joell Ortiz', 'Styles P', 'Prince Paul (producer)', 'Felicia Pearson', 'Pepa (rapper)', 'Percee P', 'Pete Rock', 'Petey Pablo', 'Thee Phantom', 'Phife Dawg', 'Stelios Phili', 'Jamal Phillips', 'Phresher', 'Pras', 'DJ Premier', 'Sean Price', 'Prince Whipper Whip', 'Princess Superstar', 'Prodigy (rapper)', 'Large Professor', 'Prolyphic', 'Pumpkinhead (rapper)', 'Pusha T', 'Q-Tip (musician)', 'Queen Latifah', 'Queen Pen', 'Radamiz', 'Rah Swish', 'Rakim', 'Kyle Rapps', 'Hell Razah', 'Oryn the Rebel', 'Red Café', 'Redman (rapper)', 'Reks', 'Salaam Remi', 'Moshe Reuven', 'Busta Rhymes', 'DJ Richie Rich', 'Chubb Rock', 'Rockwilder', 'ASAP Rocky', 'Roscoe (rapper)', 'Asher Roth', 'Elle Royal', 'David Rush (rapper)', 'RZA', 'Sadat X', 'Saga (rapper)', 'Saigon (rapper)', 'Salt (rapper)', 'Juelz Santana', 'Sauce Money', 'Scar Lip', 'Schoolly D', 'Jill Scott (singer)', 'DJ Scratch', 'Sensational (musician)', 'Sensato del Patio', 'Erick Sermon', 'Sha Money XL', 'Jonathan Shecter', 'Sheff G', 'Bobby Shmurda', 'Shock G', 'Kiing Shooter', 'Shyne', 'Beanie Sigel', 'Silkski', 'Siya', 'DJ Skee', 'Lil Skies', 'Skinnyfromthe9', 'Slaine (rapper)', 'Rashad Smith (producer)', 'Will Smith', 'Pop Smoke', 'CL Smooth', 'Sam Sneed', 'Sole (hip hop artist)', 'Sonaro', 'Souleye (hip hop artist)', 'Spank Rock', 'Special K (rapper)', 'Jimmy Spicer', 'Spoonie Gee', 'Spose', 'Busy Bee Starski', 'Statik Selektah', 'Stezo', 'David Stones', 'Street Life (rapper)', 'DJ Stretch Armstrong', 'Mike Stud', 'Swizz Beatz', 'Yhaunai Takiyal', 'Teyana Taylor', 'Lil Tecca', 'Sweet Tee', 'Termanology', 'Token (rapper)', 'Tone Trump', 'Tha Trademarc', 'Treach', 'Turbo B', 'ASAP Twelvyy', 'U-God', 'Vado (rapper)', 'Justina Valentine', 'Ali Vegas', 'Vinylz', 'Fetty Wap', 'Ohmega Watts', 'Chris Webby', 'DJ Webstar', 'Sheck Wes', 'Westside Gunn', 'Tierra Whack', 'DJ Whoo Kid', 'Billy Drease Williams', 'Saul Williams', 'Tyler James Williams', 'Wise (musician)', 'Chevy Woods', 'Jimmy Wopo', 'Wordsworth (rapper)', 'J.R. Writer', 'Wyldfyer', 'Tony Yayo', 'Young Chris', 'Young M.A', 'Young Music DYMG', 'Younglord', 'Nosson Zand', 'ZillaKami', 'Mike Zombie']\n"
     ]
    }
   ],
   "source": [
    "west_coast_rapers = pd.read_csv(\"../data/WestCoastRappers.csv\")\n",
    "east_coast_rapers = pd.read_csv(\"../data/EastCoastRappers.csv\")\n",
    "\n",
    "print(west_coast_rapers)\n",
    "print(east_coast_rapers)\n",
    "\n",
    "wiki_page_col_name = \"WikipediaPageName\"\n",
    "\n",
    "wiki_page_names = list(west_coast_rapers[wiki_page_col_name]) + list(east_coast_rapers[wiki_page_col_name])\n",
    "\n",
    "print(wiki_page_names)"
   ]
  },
  {
   "cell_type": "code",
   "execution_count": 17,
   "metadata": {},
   "outputs": [
    {
     "name": "stdout",
     "output_type": "stream",
     "text": [
      "Failed to save the page: K-the-I???.\n"
     ]
    }
   ],
   "source": [
    "for wiki_page_name in west_coast_rapers[wiki_page_col_name]:\n",
    "    page = pywikibot.Page(wiki, wiki_page_name)\n",
    "    try:\n",
    "        with open(f\"../data/west_coast/{wiki_page_name}.txt\", \"w\", encoding=\"utf-8\") as f:\n",
    "            f.write(page.text)\n",
    "    except Exception as e:\n",
    "        print(f\"Failed to save the page: {wiki_page_name}.\")"
   ]
  },
  {
   "cell_type": "code",
   "execution_count": 18,
   "metadata": {},
   "outputs": [],
   "source": [
    "for wiki_page_name in east_coast_rapers[wiki_page_col_name]:\n",
    "    page = pywikibot.Page(wiki, wiki_page_name)\n",
    "    try:\n",
    "        with open(f\"../data/east_coast/{wiki_page_name}.txt\", \"w\", encoding=\"utf-8\") as f:\n",
    "            f.write(page.text)\n",
    "    except Exception as e:\n",
    "        print(f\"Failed to save the page: {wiki_page_name}.\")"
   ]
  },
  {
   "cell_type": "markdown",
   "metadata": {},
   "source": [
    "---\n",
    "\n",
    "# Part B: Building the networks\n",
    "\n",
    "Now, we're going to build one huge NetworkX directed graph, which includes both West-coast and East-coast rappers. \n",
    "\n",
    "The nodes in the network will be all the rappers, and we will place an edge between nodes $A$ and $B$ if the Wikipedia page of node $A$ links to the Wikipedia page of node $B$.\n",
    "\n",
    " "
   ]
  },
  {
   "cell_type": "markdown",
   "metadata": {
    "scrolled": true
   },
   "source": [
    "> ***Video instructions:*** Getting started with rap music. Link: https://www.dropbox.com/scl/fi/ivd99y7tfeqpzj9lxgh0p/GettingStartedWithRapMusic.mp4?rlkey=6y3ye8iex6ogcy93jzyviqlej&dl=0"
   ]
  },
  {
   "cell_type": "markdown",
   "metadata": {},
   "source": [
    "\n",
    "> \n",
    "> _Exercise_: Build the network of rappers \n",
    "\n",
    "> Now we can build the network. Isn't this a little bit cool? What a dataset :)\n",
    "\n",
    "> The overall strategy for this is the following: \n",
    "> Take the pages you have downloaded for each rappers. \n",
    "> Each page corresponds to a rapper, which is a node in your network. \n",
    "> Find all the hyperlinks in a rapper's page that link to another node of the network (e.g. an other character). \n",
    "> There are many ways to do this, but below, I've tried to break it down into natural steps. \n",
    "> Keep in mind that the network should include **both** West-coast and East-coast rappers (and that it is possible that some West-coast rappers will have links to East-coast rappers and vice-versa).\n",
    "> \n",
    "> **Note**: When you add a node to the network, also include an `attribute` (i.e. that specifies the universe where the character comes from; either West coast, or East coast)\n",
    ">\n",
    ">\n",
    "> * Use a regular expression to extract all outgoing links from each of the pages you downloaded above. \n",
    "> * For each link you extract, check if the target is a rapper. If yes, keep it. If no, discard it.\n",
    "> * Use a NetworkX [`DiGraph`](https://networkx.github.io/documentation/development/reference/classes.digraph.html) to store the network. Store also the properties of the nodes (i.e. which coast they represent).\n",
    "> * When have you finished, you'll notice that some nodes do not have any out- or in- degrees. You may *discard* those from the network.\n"
   ]
  },
  {
   "cell_type": "code",
   "execution_count": 35,
   "metadata": {},
   "outputs": [
    {
     "name": "stdout",
     "output_type": "stream",
     "text": [
      "Failed to access file related to rapper: K-the-I???\n"
     ]
    }
   ],
   "source": [
    "import networkx as nx\n",
    "import os\n",
    "import re\n",
    "G = nx.DiGraph()\n",
    "\n",
    "directory = os.path.abspath('../data/')\n",
    "coast = \"east\"\n",
    "regex = r\"\\[\\[(.*?)\\]\\]\"\n",
    "\n",
    "wiki_page_col_name = \"WikipediaPageName\"\n",
    "\n",
    "for rapper in east_coast_rapers[wiki_page_col_name]:\n",
    "    try:\n",
    "        file_text = open(os.path.join(directory, f\"east_coast\", f\"{rapper}.txt\")).read()\n",
    "        G.add_node(rapper, coast=\"east\", contentLength=len(re.findall(r\"\\w+\", file_text)))\n",
    "    except:\n",
    "        print(f\"Failed to access file related to rapper: {rapper}\")\n",
    "        continue\n",
    "    \n",
    "for rapper in west_coast_rapers[wiki_page_col_name]:\n",
    "    try:\n",
    "        file_text = open(os.path.join(directory, f\"west_coast\", f\"{rapper}.txt\")).read()\n",
    "        G.add_node(rapper, coast=\"west\", contentLength=len(re.findall(r\"\\w+\", file_text))) \n",
    "    except:\n",
    "        print(f\"Failed to access file related to rapper: {rapper}\")\n",
    "        continue\n",
    "    "
   ]
  },
  {
   "cell_type": "code",
   "execution_count": 36,
   "metadata": {},
   "outputs": [],
   "source": [
    "for rapper in G.nodes():\n",
    "    try:\n",
    "        file_text = open(os.path.join(directory, f\"{G.nodes[rapper]['coast']}_coast\", f\"{rapper}.txt\")).read()\n",
    "    except:\n",
    "        print(f\"Failed to access file related to rapper: {rapper}\")\n",
    "        continue\n",
    "    matches = re.findall(regex, file_text)\n",
    "    for match in matches:\n",
    "        if '|' in match:\n",
    "            match = match.split('|')[0]\n",
    "        if match in G.nodes():\n",
    "            G.add_edge(rapper, match)\n",
    "        "
   ]
  },
  {
   "cell_type": "markdown",
   "metadata": {},
   "source": [
    "\n",
    "> *Exercise*: Simple network statistics and analysis\n",
    "\n",
    "> * What is the number of nodes in the network?"
   ]
  },
  {
   "cell_type": "code",
   "execution_count": 37,
   "metadata": {},
   "outputs": [
    {
     "data": {
      "text/plain": [
       "797"
      ]
     },
     "execution_count": 37,
     "metadata": {},
     "output_type": "execute_result"
    }
   ],
   "source": [
    "len(G.nodes)"
   ]
  },
  {
   "cell_type": "markdown",
   "metadata": {},
   "source": [
    "> * More importantly, what is the number of links?"
   ]
  },
  {
   "cell_type": "code",
   "execution_count": 38,
   "metadata": {},
   "outputs": [
    {
     "data": {
      "text/plain": [
       "5805"
      ]
     },
     "execution_count": 38,
     "metadata": {},
     "output_type": "execute_result"
    }
   ],
   "source": [
    "len(G.edges)"
   ]
  },
  {
   "cell_type": "markdown",
   "metadata": {},
   "source": [
    "> * What is the number of links connecting West coast and East coast? What do those links mean?"
   ]
  },
  {
   "cell_type": "code",
   "execution_count": 39,
   "metadata": {},
   "outputs": [
    {
     "name": "stdout",
     "output_type": "stream",
     "text": [
      "    East to west: 613\n",
      "    West to east: 644\n",
      "Total: 1257\n"
     ]
    }
   ],
   "source": [
    "east_to_west_links = 0\n",
    "west_to_east_links = 0\n",
    "for rapper in G.nodes:\n",
    "    for adj in dict(G.adj[rapper]).keys():\n",
    "        if G.nodes[rapper]['coast'] == 'east' and G.nodes[adj]['coast'] == 'west':\n",
    "            east_to_west_links += 1\n",
    "        if G.nodes[rapper]['coast'] == 'west' and G.nodes[adj]['coast'] == 'east':\n",
    "            west_to_east_links += 1\n",
    "print(f\"    East to west: {east_to_west_links}\")\n",
    "print(f\"    West to east: {west_to_east_links}\")\n",
    "print(f\"Total: {west_to_east_links+east_to_west_links}\")"
   ]
  },
  {
   "cell_type": "markdown",
   "metadata": {},
   "source": [
    "> * Plot the in and out-degree distributions. What do you observe? Can you explain why the in-degree distribution is different from the out-degree distribution?\n",
    ">     * Compare the degree distribution to a *random network* with the same number of nodes and *p*\n",
    ">     * Compare the degree distribution to a *scale-free* network with the same number of nodes."
   ]
  },
  {
   "cell_type": "code",
   "execution_count": 40,
   "metadata": {},
   "outputs": [],
   "source": [
    "import numpy as np\n",
    "def degree_distribution_plot(d, title=\"\", n_bins=100, figsize=(15,7)):\n",
    "    frq, edges = np.histogram(a= list(d), bins=n_bins)\n",
    "\n",
    "    import matplotlib.pyplot as plt\n",
    "    from math import log\n",
    "    fig, (ax1, ax2) = plt.subplots(1, 2)\n",
    "    fig.set_figwidth(14)\n",
    "    fig.suptitle(title, fontsize=20)\n",
    "    fig.set_figheight(figsize[1])\n",
    "    fig.set_figwidth(figsize[0])\n",
    "\n",
    "    ax1.hist(edges[:-1], n_bins, weights=frq)\n",
    "    ax1.set_xlabel(\"k\")\n",
    "    ax1.set_ylabel(\"count\")\n",
    "\n",
    "    ax2.plot(edges[:-1], frq, marker=\".\", linestyle = 'none')\n",
    "    ax2.set_xscale('log', base=10)\n",
    "    ax2.set_yscale('log', base=10)\n",
    "    ax2.set_xlabel(\"k\")\n",
    "    ax2.set_ylabel(\"count\")"
   ]
  },
  {
   "cell_type": "code",
   "execution_count": 41,
   "metadata": {},
   "outputs": [
    {
     "data": {
      "image/png": "[encoded data removed]",
      "text/plain": [
       "<Figure size 1500x700 with 2 Axes>"
      ]
     },
     "metadata": {},
     "output_type": "display_data"
    },
    {
     "data": {
      "image/png": "[encoded data removed]",
      "text/plain": [
       "<Figure size 1500x700 with 2 Axes>"
      ]
     },
     "metadata": {},
     "output_type": "display_data"
    }
   ],
   "source": [
    "degree_distribution_plot(dict(G.in_degree).values(), title='In-degree distribution', n_bins=100)\n",
    "degree_distribution_plot(dict(G.out_degree).values(), title='Out-degree distribution', n_bins=100)"
   ]
  },
  {
   "cell_type": "markdown",
   "metadata": {},
   "source": [
    "* **Solution**: I observe that there's a lot of rappers with low in-degrees and a few with very high in-degrees, whicih suggests that the majority of rappers are mentioned few times in other rapper's pages, but there's a distinct group of rappers that are probably more influential in hip hop culture that are mentioned a lot of times. The out-degrees function in a similar way, but there's fewer high out-degrees and there's much more rappers with low out-degrees, as it probably relates to the length of the Wikipedia article."
   ]
  },
  {
   "cell_type": "code",
   "execution_count": 42,
   "metadata": {},
   "outputs": [
    {
     "data": {
      "image/png": "[encoded data removed]",
      "text/plain": [
       "<Figure size 1500x700 with 2 Axes>"
      ]
     },
     "metadata": {},
     "output_type": "display_data"
    },
    {
     "data": {
      "image/png": "[encoded data removed]",
      "text/plain": [
       "<Figure size 1500x700 with 2 Axes>"
      ]
     },
     "metadata": {},
     "output_type": "display_data"
    }
   ],
   "source": [
    "N = len(G.nodes)\n",
    "p = len(G.edges)/(2*N*(N-1))\n",
    "rd_G = nx.erdos_renyi_graph(N, p)\n",
    "degree_distribution_plot(dict(rd_G.degree).values(), title='Degree distribution for a random network', n_bins=100)\n",
    "N = len(G.nodes)\n",
    "p = len(G.edges)/(2*N*(N-1))\n",
    "rd_G = nx.scale_free_graph(N)\n",
    "degree_distribution_plot(dict(rd_G.degree).values(), title='Degree distribution for a scale-free network', n_bins=100)"
   ]
  },
  {
   "cell_type": "markdown",
   "metadata": {},
   "source": [
    "* **Solution**: It seems that out-degree behaves similarly to a random network and the in-degree to a scale-free network."
   ]
  },
  {
   "cell_type": "markdown",
   "metadata": {},
   "source": [
    "> * Who are top 10 most connected rappers? (Report results for in-degrees and out-degrees). Comment on your findings. Is this what you would have expected?"
   ]
  },
  {
   "cell_type": "code",
   "execution_count": 43,
   "metadata": {},
   "outputs": [
    {
     "name": "stderr",
     "output_type": "stream",
     "text": [
      "WARNING: C:\\Users\\PC-312\\AppData\\Local\\Temp\\ipykernel_23368\\363714586.py:9: FutureWarning: The frame.append method is deprecated and will be removed from pandas in a future version. Use pandas.concat instead.\n",
      "  df = df.append(new_row, ignore_index=True)\n",
      "\n",
      "WARNING: C:\\Users\\PC-312\\AppData\\Local\\Temp\\ipykernel_23368\\363714586.py:9: FutureWarning: The frame.append method is deprecated and will be removed from pandas in a future version. Use pandas.concat instead.\n",
      "  df = df.append(new_row, ignore_index=True)\n",
      "\n",
      "WARNING: C:\\Users\\PC-312\\AppData\\Local\\Temp\\ipykernel_23368\\363714586.py:9: FutureWarning: The frame.append method is deprecated and will be removed from pandas in a future version. Use pandas.concat instead.\n",
      "  df = df.append(new_row, ignore_index=True)\n",
      "\n",
      "WARNING: C:\\Users\\PC-312\\AppData\\Local\\Temp\\ipykernel_23368\\363714586.py:9: FutureWarning: The frame.append method is deprecated and will be removed from pandas in a future version. Use pandas.concat instead.\n",
      "  df = df.append(new_row, ignore_index=True)\n",
      "\n",
      "WARNING: C:\\Users\\PC-312\\AppData\\Local\\Temp\\ipykernel_23368\\363714586.py:9: FutureWarning: The frame.append method is deprecated and will be removed from pandas in a future version. Use pandas.concat instead.\n",
      "  df = df.append(new_row, ignore_index=True)\n",
      "\n",
      "WARNING: C:\\Users\\PC-312\\AppData\\Local\\Temp\\ipykernel_23368\\363714586.py:9: FutureWarning: The frame.append method is deprecated and will be removed from pandas in a future version. Use pandas.concat instead.\n",
      "  df = df.append(new_row, ignore_index=True)\n",
      "\n",
      "WARNING: C:\\Users\\PC-312\\AppData\\Local\\Temp\\ipykernel_23368\\363714586.py:9: FutureWarning: The frame.append method is deprecated and will be removed from pandas in a future version. Use pandas.concat instead.\n",
      "  df = df.append(new_row, ignore_index=True)\n",
      "\n",
      "WARNING: C:\\Users\\PC-312\\AppData\\Local\\Temp\\ipykernel_23368\\363714586.py:9: FutureWarning: The frame.append method is deprecated and will be removed from pandas in a future version. Use pandas.concat instead.\n",
      "  df = df.append(new_row, ignore_index=True)\n",
      "\n",
      "WARNING: C:\\Users\\PC-312\\AppData\\Local\\Temp\\ipykernel_23368\\363714586.py:9: FutureWarning: The frame.append method is deprecated and will be removed from pandas in a future version. Use pandas.concat instead.\n",
      "  df = df.append(new_row, ignore_index=True)\n",
      "\n",
      "WARNING: C:\\Users\\PC-312\\AppData\\Local\\Temp\\ipykernel_23368\\363714586.py:9: FutureWarning: The frame.append method is deprecated and will be removed from pandas in a future version. Use pandas.concat instead.\n",
      "  df = df.append(new_row, ignore_index=True)\n",
      "\n"
     ]
    }
   ],
   "source": [
    "top = 10\n",
    "most_connected_in = sorted(dict(G.in_degree).items(), key=lambda x:x[1], reverse=True)[0:top]\n",
    "most_connected_out = sorted(dict(G.out_degree).items(), key=lambda x:x[1], reverse=True)[0:top]\n",
    "\n",
    "import pandas as pd\n",
    "df = pd.DataFrame(columns=[\"In-Rapper\", \"In-Connection\", \"In-Coast\", \"Out-Rapper\", \"Out-Connection\", \"Out-Coast\"])\n",
    "for i in range(top):\n",
    "    new_row = { \"In-Rapper\": most_connected_in[i][0], \"In-Connection\": most_connected_in[i][1], \"In-Coast\": G.nodes[most_connected_in[i][0]]['coast'], \"Out-Rapper\": most_connected_out[i][0], \"Out-Connection\": most_connected_out[i][1], \"Out-Coast\": G.nodes[most_connected_out[i][0]]['coast']}\n",
    "    df = df.append(new_row, ignore_index=True)"
   ]
  },
  {
   "cell_type": "code",
   "execution_count": 44,
   "metadata": {},
   "outputs": [
    {
     "data": {
      "text/html": [
       "<div>\n",
       "<style scoped>\n",
       "    .dataframe tbody tr th:only-of-type {\n",
       "        vertical-align: middle;\n",
       "    }\n",
       "\n",
       "    .dataframe tbody tr th {\n",
       "        vertical-align: top;\n",
       "    }\n",
       "\n",
       "    .dataframe thead th {\n",
       "        text-align: right;\n",
       "    }\n",
       "</style>\n",
       "<table border=\"1\" class=\"dataframe\">\n",
       "  <thead>\n",
       "    <tr style=\"text-align: right;\">\n",
       "      <th></th>\n",
       "      <th>In-Rapper</th>\n",
       "      <th>In-Connection</th>\n",
       "      <th>In-Coast</th>\n",
       "      <th>Out-Rapper</th>\n",
       "      <th>Out-Connection</th>\n",
       "      <th>Out-Coast</th>\n",
       "    </tr>\n",
       "  </thead>\n",
       "  <tbody>\n",
       "    <tr>\n",
       "      <th>0</th>\n",
       "      <td>Snoop Dogg</td>\n",
       "      <td>127</td>\n",
       "      <td>west</td>\n",
       "      <td>Drag-On</td>\n",
       "      <td>52</td>\n",
       "      <td>east</td>\n",
       "    </tr>\n",
       "    <tr>\n",
       "      <th>1</th>\n",
       "      <td>Jay-Z</td>\n",
       "      <td>114</td>\n",
       "      <td>east</td>\n",
       "      <td>Black Thought</td>\n",
       "      <td>42</td>\n",
       "      <td>east</td>\n",
       "    </tr>\n",
       "    <tr>\n",
       "      <th>2</th>\n",
       "      <td>Nas</td>\n",
       "      <td>98</td>\n",
       "      <td>east</td>\n",
       "      <td>DJ Dahi</td>\n",
       "      <td>38</td>\n",
       "      <td>west</td>\n",
       "    </tr>\n",
       "    <tr>\n",
       "      <th>3</th>\n",
       "      <td>50 Cent</td>\n",
       "      <td>91</td>\n",
       "      <td>east</td>\n",
       "      <td>Dr. Dre</td>\n",
       "      <td>36</td>\n",
       "      <td>west</td>\n",
       "    </tr>\n",
       "    <tr>\n",
       "      <th>4</th>\n",
       "      <td>Busta Rhymes</td>\n",
       "      <td>82</td>\n",
       "      <td>east</td>\n",
       "      <td>The Game (rapper)</td>\n",
       "      <td>36</td>\n",
       "      <td>west</td>\n",
       "    </tr>\n",
       "    <tr>\n",
       "      <th>5</th>\n",
       "      <td>Dr. Dre</td>\n",
       "      <td>81</td>\n",
       "      <td>west</td>\n",
       "      <td>Kendrick Lamar</td>\n",
       "      <td>36</td>\n",
       "      <td>west</td>\n",
       "    </tr>\n",
       "    <tr>\n",
       "      <th>6</th>\n",
       "      <td>Kendrick Lamar</td>\n",
       "      <td>75</td>\n",
       "      <td>west</td>\n",
       "      <td>Jahlil Beats</td>\n",
       "      <td>35</td>\n",
       "      <td>east</td>\n",
       "    </tr>\n",
       "    <tr>\n",
       "      <th>7</th>\n",
       "      <td>Tupac Shakur</td>\n",
       "      <td>70</td>\n",
       "      <td>west</td>\n",
       "      <td>MC Lyte</td>\n",
       "      <td>35</td>\n",
       "      <td>east</td>\n",
       "    </tr>\n",
       "    <tr>\n",
       "      <th>8</th>\n",
       "      <td>The Notorious B.I.G.</td>\n",
       "      <td>63</td>\n",
       "      <td>east</td>\n",
       "      <td>Kurupt</td>\n",
       "      <td>35</td>\n",
       "      <td>west</td>\n",
       "    </tr>\n",
       "    <tr>\n",
       "      <th>9</th>\n",
       "      <td>E-40</td>\n",
       "      <td>60</td>\n",
       "      <td>west</td>\n",
       "      <td>Uncle Murda</td>\n",
       "      <td>34</td>\n",
       "      <td>east</td>\n",
       "    </tr>\n",
       "  </tbody>\n",
       "</table>\n",
       "</div>"
      ],
      "text/plain": [
       "              In-Rapper In-Connection In-Coast         Out-Rapper  \\\n",
       "0            Snoop Dogg           127     west            Drag-On   \n",
       "1                 Jay-Z           114     east      Black Thought   \n",
       "2                   Nas            98     east            DJ Dahi   \n",
       "3               50 Cent            91     east            Dr. Dre   \n",
       "4          Busta Rhymes            82     east  The Game (rapper)   \n",
       "5               Dr. Dre            81     west     Kendrick Lamar   \n",
       "6        Kendrick Lamar            75     west       Jahlil Beats   \n",
       "7          Tupac Shakur            70     west            MC Lyte   \n",
       "8  The Notorious B.I.G.            63     east             Kurupt   \n",
       "9                  E-40            60     west        Uncle Murda   \n",
       "\n",
       "  Out-Connection Out-Coast  \n",
       "0             52      east  \n",
       "1             42      east  \n",
       "2             38      west  \n",
       "3             36      west  \n",
       "4             36      west  \n",
       "5             36      west  \n",
       "6             35      east  \n",
       "7             35      east  \n",
       "8             35      west  \n",
       "9             34      east  "
      ]
     },
     "execution_count": 44,
     "metadata": {},
     "output_type": "execute_result"
    }
   ],
   "source": [
    "df"
   ]
  },
  {
   "cell_type": "markdown",
   "metadata": {},
   "source": [
    "* **Solution**: For in-degrees, yes, it's exactly what I expected: highly known and influential rappers. In the case of out-degrees, I would expect some of the names there, and I guess the majority of the rest of the names are also producers or rappers that have collaborated with a lot of other rappers. "
   ]
  },
  {
   "cell_type": "markdown",
   "metadata": {},
   "source": [
    "> * Who are the top 5 most connected West coast rappers (again in terms of both in/out-degree)?\n",
    "> * Who are the top 5 most connected East coast rappers (again in terms of both in/out-degree)?"
   ]
  },
  {
   "cell_type": "code",
   "execution_count": 45,
   "metadata": {},
   "outputs": [],
   "source": [
    "COAST = \"\"\n",
    "def just_coast_rappers(pair):\n",
    "    key, _ = pair\n",
    "    if COAST == \"east\":\n",
    "        check = east_coast_rapers\n",
    "    elif COAST == \"west\":\n",
    "        check = west_coast_rapers\n",
    "    else:\n",
    "        raise Exception()\n",
    "    if key in list(check[wiki_page_col_name]):\n",
    "        return True\n",
    "    return False"
   ]
  },
  {
   "cell_type": "code",
   "execution_count": 46,
   "metadata": {},
   "outputs": [],
   "source": [
    "top = 5\n",
    "COAST = \"east\"\n",
    "most_connected_in_east = sorted(dict(filter(just_coast_rappers, G.in_degree)).items(), key=lambda x:x[1], reverse=True)[0:top]\n",
    "most_connected_out_east = sorted(dict(filter(just_coast_rappers, G.out_degree)).items(), key=lambda x:x[1], reverse=True)[0:top]\n",
    "COAST = \"west\"\n",
    "most_connected_in_west = sorted(dict(filter(just_coast_rappers, G.in_degree)).items(), key=lambda x:x[1], reverse=True)[0:top]\n",
    "most_connected_out_west = sorted(dict(filter(just_coast_rappers, G.out_degree)).items(), key=lambda x:x[1], reverse=True)[0:top]"
   ]
  },
  {
   "cell_type": "code",
   "execution_count": 47,
   "metadata": {},
   "outputs": [
    {
     "name": "stderr",
     "output_type": "stream",
     "text": [
      "WARNING: C:\\Users\\PC-312\\AppData\\Local\\Temp\\ipykernel_23368\\1690287565.py:6: FutureWarning: The frame.append method is deprecated and will be removed from pandas in a future version. Use pandas.concat instead.\n",
      "  df = df.append(new_row, ignore_index=True)\n",
      "\n",
      "WARNING: C:\\Users\\PC-312\\AppData\\Local\\Temp\\ipykernel_23368\\1690287565.py:6: FutureWarning: The frame.append method is deprecated and will be removed from pandas in a future version. Use pandas.concat instead.\n",
      "  df = df.append(new_row, ignore_index=True)\n",
      "\n",
      "WARNING: C:\\Users\\PC-312\\AppData\\Local\\Temp\\ipykernel_23368\\1690287565.py:6: FutureWarning: The frame.append method is deprecated and will be removed from pandas in a future version. Use pandas.concat instead.\n",
      "  df = df.append(new_row, ignore_index=True)\n",
      "\n",
      "WARNING: C:\\Users\\PC-312\\AppData\\Local\\Temp\\ipykernel_23368\\1690287565.py:6: FutureWarning: The frame.append method is deprecated and will be removed from pandas in a future version. Use pandas.concat instead.\n",
      "  df = df.append(new_row, ignore_index=True)\n",
      "\n",
      "WARNING: C:\\Users\\PC-312\\AppData\\Local\\Temp\\ipykernel_23368\\1690287565.py:6: FutureWarning: The frame.append method is deprecated and will be removed from pandas in a future version. Use pandas.concat instead.\n",
      "  df = df.append(new_row, ignore_index=True)\n",
      "\n"
     ]
    }
   ],
   "source": [
    "import pandas as pd\n",
    "df = pd.DataFrame(columns=[\"In-East-Rapper\", \"In-East-Connection\", \"Out-East-Rapper\", \"Out-East-Connection\", \"In-West-Rapper\", \"In-West-Connection\", \"Out-West-Rapper\", \"Out-West-Connection\" ])\n",
    "for i in range(top):\n",
    "    new_row = { \"In-East-Rapper\": most_connected_in_east[i][0], \"In-East-Connection\": most_connected_in_east[i][1], \"Out-East-Rapper\": most_connected_out_east[i][0], \"Out-East-Connection\": most_connected_out_east[i][1],\n",
    "               \"In-West-Rapper\": most_connected_in_west[i][0], \"In-West-Connection\": most_connected_in_west[i][1], \"Out-West-Rapper\": most_connected_out_west[i][0], \"Out-West-Connection\": most_connected_out_west[i][1] }\n",
    "    df = df.append(new_row, ignore_index=True)"
   ]
  },
  {
   "cell_type": "code",
   "execution_count": 48,
   "metadata": {},
   "outputs": [
    {
     "data": {
      "text/html": [
       "<div>\n",
       "<style scoped>\n",
       "    .dataframe tbody tr th:only-of-type {\n",
       "        vertical-align: middle;\n",
       "    }\n",
       "\n",
       "    .dataframe tbody tr th {\n",
       "        vertical-align: top;\n",
       "    }\n",
       "\n",
       "    .dataframe thead th {\n",
       "        text-align: right;\n",
       "    }\n",
       "</style>\n",
       "<table border=\"1\" class=\"dataframe\">\n",
       "  <thead>\n",
       "    <tr style=\"text-align: right;\">\n",
       "      <th></th>\n",
       "      <th>In-East-Rapper</th>\n",
       "      <th>In-East-Connection</th>\n",
       "      <th>Out-East-Rapper</th>\n",
       "      <th>Out-East-Connection</th>\n",
       "      <th>In-West-Rapper</th>\n",
       "      <th>In-West-Connection</th>\n",
       "      <th>Out-West-Rapper</th>\n",
       "      <th>Out-West-Connection</th>\n",
       "    </tr>\n",
       "  </thead>\n",
       "  <tbody>\n",
       "    <tr>\n",
       "      <th>0</th>\n",
       "      <td>Jay-Z</td>\n",
       "      <td>114</td>\n",
       "      <td>Drag-On</td>\n",
       "      <td>52</td>\n",
       "      <td>Snoop Dogg</td>\n",
       "      <td>127</td>\n",
       "      <td>DJ Dahi</td>\n",
       "      <td>38</td>\n",
       "    </tr>\n",
       "    <tr>\n",
       "      <th>1</th>\n",
       "      <td>Nas</td>\n",
       "      <td>98</td>\n",
       "      <td>Black Thought</td>\n",
       "      <td>42</td>\n",
       "      <td>Dr. Dre</td>\n",
       "      <td>81</td>\n",
       "      <td>Dr. Dre</td>\n",
       "      <td>36</td>\n",
       "    </tr>\n",
       "    <tr>\n",
       "      <th>2</th>\n",
       "      <td>50 Cent</td>\n",
       "      <td>91</td>\n",
       "      <td>Jahlil Beats</td>\n",
       "      <td>35</td>\n",
       "      <td>Kendrick Lamar</td>\n",
       "      <td>75</td>\n",
       "      <td>The Game (rapper)</td>\n",
       "      <td>36</td>\n",
       "    </tr>\n",
       "    <tr>\n",
       "      <th>3</th>\n",
       "      <td>Busta Rhymes</td>\n",
       "      <td>82</td>\n",
       "      <td>MC Lyte</td>\n",
       "      <td>35</td>\n",
       "      <td>Tupac Shakur</td>\n",
       "      <td>70</td>\n",
       "      <td>Kendrick Lamar</td>\n",
       "      <td>36</td>\n",
       "    </tr>\n",
       "    <tr>\n",
       "      <th>4</th>\n",
       "      <td>The Notorious B.I.G.</td>\n",
       "      <td>63</td>\n",
       "      <td>Uncle Murda</td>\n",
       "      <td>34</td>\n",
       "      <td>E-40</td>\n",
       "      <td>60</td>\n",
       "      <td>Kurupt</td>\n",
       "      <td>35</td>\n",
       "    </tr>\n",
       "  </tbody>\n",
       "</table>\n",
       "</div>"
      ],
      "text/plain": [
       "         In-East-Rapper In-East-Connection Out-East-Rapper  \\\n",
       "0                 Jay-Z                114         Drag-On   \n",
       "1                   Nas                 98   Black Thought   \n",
       "2               50 Cent                 91    Jahlil Beats   \n",
       "3          Busta Rhymes                 82         MC Lyte   \n",
       "4  The Notorious B.I.G.                 63     Uncle Murda   \n",
       "\n",
       "  Out-East-Connection  In-West-Rapper In-West-Connection    Out-West-Rapper  \\\n",
       "0                  52      Snoop Dogg                127            DJ Dahi   \n",
       "1                  42         Dr. Dre                 81            Dr. Dre   \n",
       "2                  35  Kendrick Lamar                 75  The Game (rapper)   \n",
       "3                  35    Tupac Shakur                 70     Kendrick Lamar   \n",
       "4                  34            E-40                 60             Kurupt   \n",
       "\n",
       "  Out-West-Connection  \n",
       "0                  38  \n",
       "1                  36  \n",
       "2                  36  \n",
       "3                  36  \n",
       "4                  35  "
      ]
     },
     "execution_count": 48,
     "metadata": {},
     "output_type": "execute_result"
    }
   ],
   "source": [
    "df"
   ]
  },
  {
   "cell_type": "markdown",
   "metadata": {},
   "source": [
    "> The total degree distribution (in + out degree) for you network should resemble the distribution displayed on the image below:\n",
    "![img](https://github.com/SocialComplexityLab/socialgraphs2023/blob/main/files/WestcoastvsEastcoast_degrees.png?raw=true)\n",
    "![img](https://github.com/SocialComplexityLab/socialgraphs2023/blob/main/files/WestcoastvsEastcoast_degrees_loglog.png?raw=true)\n"
   ]
  },
  {
   "cell_type": "code",
   "execution_count": 49,
   "metadata": {},
   "outputs": [],
   "source": [
    "import pickle\n",
    "\n",
    "# save graph object to file\n",
    "pickle.dump(G, open('./Week4_graph.pickle', 'wb'))"
   ]
  }
 ],
 "metadata": {
  "anaconda-cloud": {},
  "kernelspec": {
   "display_name": "Python 3 (ipykernel)",
   "language": "python",
   "name": "python3"
  },
  "language_info": {
   "codemirror_mode": {
    "name": "ipython",
    "version": 3
   },
   "file_extension": ".py",
   "mimetype": "text/x-python",
   "name": "python",
   "nbconvert_exporter": "python",
   "pygments_lexer": "ipython3",
   "version": "3.11.4"
  }
 },
 "nbformat": 4,
 "nbformat_minor": 4
}
