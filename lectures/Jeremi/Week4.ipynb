{
 "cells": [
  {
   "cell_type": "markdown",
   "metadata": {},
   "source": [
    "# Overview\n",
    "\n",
    "This week is all about working with data. I'm not going to lie to you. This part might be frustrating - but frustration is an integral part of learning. Real data is almost always messy & difficult ... and learning to deal with that fact, is a key part of being a data scientist. \n"
   ]
  },
  {
   "cell_type": "markdown",
   "metadata": {},
   "source": [
    "Enough about the process, let's get to the content. \n",
    "\n",
    "![Text](https://wallpapers.com/images/high/cool-rapper-zs7xat10uqylszmy.webp \"Great image choice, Jonas\")\n",
    "\n",
    "Today, we will use network science and Wikipedia to learn about the relationships of **[West Coast](https://en.wikipedia.org/wiki/Category:West_Coast_hip_hop_musicians)** and **[East coast](https://en.wikipedia.org/wiki/Category:East_Coast_hip_hop_musicians)** rappers. \n",
    "\n",
    "To create the network, we will download the Wikipedia pages for all rappers from each coast. Next, we will create the network of the pages that link to each other. Since wikipedia pages link to each other. So [Snoop Dogg](https://en.wikipedia.org/wiki/Snoop_Dogg) links to [Dr. Dre](https://en.wikipedia.org/wiki/Dr._Dre), for example.\n",
    "\n",
    "Next time, we'll use our network skills (as well as new ones) to understand that network. Further down the line, we'll use natural language processing to understand the text displayed on those pages.\n",
    "\n",
    "But for today, the tasks are\n",
    "\n",
    "* Learn about regular expressions\n",
    "* Learn about Pandas dataframes\n",
    "* Download and store (for later use) all the rapper-pages from Wikipedia\n",
    "* Extract all the internal wikipedia-links that connect the rappers on wikipedia\n",
    "* Generate the network of rappers on wikipedia. \n",
    "* Calculate some simple network statistics."
   ]
  },
  {
   "cell_type": "markdown",
   "metadata": {},
   "source": [
    "## The Guide to Week 4 (not to be missed)\n",
    "\n",
    "Today I talk about \n",
    "\n",
    "* Results of the user satisfaction questionnaire\n",
    "* Assignment 1\n",
    "* Today's exercises\n",
    "\n",
    "> * ***Video lecture*** Guide to week 4 https://www.dropbox.com/scl/fi/b760tkugfrnm9kca1apnb/GuideToWeek4.mp4?rlkey=r7y6pijkafc9zn5tcz1cmj8dg&dl=0"
   ]
  },
  {
   "cell_type": "markdown",
   "metadata": {},
   "source": [
    "---\n",
    "\n",
    "# Prelude: Regular expressions\n",
    "\n",
    "Before we get started, we have to get a little head start on the _Natural Language Processing_ part of the class. This is a new direction for us, up to now, we've mostly been doing math-y stuff with Python, but today, we're going to be using Python to work through a text. The central thing we need to be able to do today, is to extract internal wikipedia links. And for that we need regular expressions.\n",
    "\n",
    "> _Exercises_: Regular expressions round 1\\.\n",
    "> \n",
    "> * Read [**this tutorial**](https://developers.google.com/edu/python/regular-expressions) to form an overview of regular expressions. This is important to understand the content of the tutorial (also very useful later), so you may actually want to work through the examples.\n",
    "> * Now, explain in your own words: what are regular expressions?\n",
    "> Answer: Regular expression is compact way of defining pattern in text that can be use to extract specific substring for string\n",
    "> * Provide an example of a regex to match 4 digits numbers (by this, I mean precisely 4 digits, you should not match any part of numbers with e.g. 5 digits). In your notebook, use `findall` to show that your regex works on this [test-text](https://raw.githubusercontent.com/SocialComplexityLab/socialgraphs2020/master/files/regex_exercise.txt). **Hint**: a great place to test out regular expressions is: https://regex101.com.\n",
    "> * Provide an example of a regex to match words starting with \"super\". Show that it works on the [test-text](https://raw.githubusercontent.com/SocialComplexityLab/socialgraphs2020/master/files/regex_exercise.txt).\n",
    "> \n",
    "\n",
    "Finally, we need to figure out how how to match internal wiki links. Wiki links come in two flavors. They're always enclosed in double square brackets, e.g. `[[wiki-link]]` and can either occur like this:\n",
    "\n",
    "    ... some text [[Aristotle]] some more text ...\n",
    "\n",
    "which links to the page [`https://en.wikipedia.org/wiki/Aristotle`](https://en.wikipedia.org/wiki/Aristotle). \n",
    "\n",
    "The second flavor has two parts, so that links can handle spaces and other more fancy forms of references, here's an example:\n",
    "\n",
    "    ... some text [[John_McCain|John McCain]] some more text ...\n",
    "\n",
    "which links to the page [`https://en.wikipedia.org/wiki/John_McCain`](https://en.wikipedia.org/wiki/Eudemus_of_Rhodes). Now it's your turn.\n",
    "\n",
    "> _Exercise_: Regular expressions round 2\\. Show that you can extract the wiki-links from the [test-text](https://raw.githubusercontent.com/SocialComplexityLab/socialgraphs2020/master/files/regex_exercise.txt). Perhaps you can find inspiration on stack overflow or similar. **Hint**: Try to solve this exercise on your own (that's what you will get the most out of - learning wise), but if you get stuck ... you will find the solution in one of the video lectures below.\n",
    "> "
   ]
  },
  {
   "cell_type": "code",
   "execution_count": 1,
   "metadata": {},
   "outputs": [],
   "source": [
    "import re\n",
    "\n",
    "test_text = \"\"\"Tousled try-hard blog Carles, typewriter fap hella salvia fanny pack selvage mlkshk crucifix. Next level retro quinoa post-ironic. Heirloom keffiyeh synth street art meggings, drinking vinegar Schlitz actually raw denim. 1234 Normcore freegan post-ironic meggings cred, cardigan yr locavore 3 wolf moon. Bitters ennui ugh superpolaroid, artisan scenester distillery kale chips wolf pork belly keffiyeh. Actually Tumblr twee [[drinking vinegar]], squid pickled cronut banh mi taxidermy deep v 8-bit narwhal Odd Future. Sriracha bicycle rights listicle, keffiyeh typewriter authentic selvage cred selfies.\n",
    "\n",
    "Ugh lo-fi tattooed chambray, DIY Marfa banh mi whatever narwhal jean shorts photo booth keytar listicle. Chambray Truffaut cardigan skateboard, hashtag disrupt next level. Normcore Blue Bottle yr, Odd Future skateboard chillwave iPhone slow-carb sriracha letterpress meditation cronut. IPhone fashion axe Neutra fingerstache tofu gluten-free [[gentrify]], wolf before they sold out pork belly retro Vice skateboard DIY Marfa. Mustache supertaxidermy cliche 9999 fashion axe Pitchfork, iPhone cred literally McSweeney's normcore. Health goth meggings skateboard 90's 3 wolf moon, PBR&B kale chips biodiesel fashion axe. Sartorial crucifix retro, four dollar toast kogi forage swag deep v wayfarers tilde.\n",
    "\n",
    "Synth typewriter messenger bag health goth scenester pour-over. Pour-over Truffaut 90's fashion axe post-ironic, Portland Wes Anderson forage occupy sartorial gentrify hashtag beard kitsch quinoa. Occupy [[hashtag]] street art 3 wolf moon, Echo Park quinoa Tumblr Pitchfork fanny pack High Life. Helvetica banjo gentrify authentic mumblecore, tote bag blog. Scenester +1 American Apparel organic literally, Intelligentsia butcher bitters. Seitan lumbersexual fanny pack organic, letterpress umami ethical wayfarers. Cronut biodiesel Wes Anderson, jean shorts lo-fi keffiyeh Carles.\n",
    "\n",
    "Bushwick health goth chambray gluten-free distillery. Keytar selvage Shoreditch, seitan YOLO tote bag listicle Marfa farm-to-table keffiyeh meditation tilde. Narwhal freegan meditation, Pitchfork XOXO Brooklyn 23456 whatever photo booth pork belly Blue Bottle gluten-free. Semiotics fashion axe 3 wolf moon, selfies brunch skateboard shabby chic organic wayfarers yr whatever kitsch Thundercats tilde bespoke. [[Bicycle|Bicycle(two-wheeled type)]] rights seitan mlkshk Marfa, church-key cray mustache sartorial banh mi food truck chillwave Echo Park bitters. Craft superbeer bespoke street art, slow-carb pop-up Kickstarter typewriter Etsy try-hard [[Pitchfork|Pitchfork Magazine]] aesthetic keytar Tumblr. 8-bit bitters fanny pack, Portland Odd Future yr selvage crucifix narwhal polaroid sriracha Thundercats.\"\"\""
   ]
  },
  {
   "cell_type": "code",
   "execution_count": 2,
   "metadata": {},
   "outputs": [
    {
     "name": "stdout",
     "output_type": "stream",
     "text": [
      "['1234', '9999', '2345']\n"
     ]
    }
   ],
   "source": [
    "# round 1 4 digits\n",
    "pattern = \"[0-9]{4}\"\n",
    "print(re.findall(pattern, test_text))"
   ]
  },
  {
   "cell_type": "code",
   "execution_count": 4,
   "metadata": {},
   "outputs": [
    {
     "name": "stdout",
     "output_type": "stream",
     "text": [
      "[' superpolaroid,', ' supertaxidermy', ' superbeer']\n"
     ]
    }
   ],
   "source": [
    "super_pattern = \" super\\S*\"\n",
    "print(re.findall(super_pattern, test_text))"
   ]
  },
  {
   "cell_type": "code",
   "execution_count": 8,
   "metadata": {},
   "outputs": [
    {
     "name": "stdout",
     "output_type": "stream",
     "text": [
      "['[[drinking vinegar]]', '[[gentrify]]', '[[hashtag]]', '[[Bicycle|Bicycle(two-wheeled type)]]', '[[Pitchfork|Pitchfork Magazine]]']\n"
     ]
    }
   ],
   "source": [
    "wiki_pattern = \"\\[\\[[^\\[\\]]*\\]\\]\"\n",
    "print(re.findall(wiki_pattern, test_text))"
   ]
  },
  {
   "cell_type": "markdown",
   "metadata": {},
   "source": [
    "# Prelude part 2: Pandas DataFrames\n"
   ]
  },
  {
   "cell_type": "markdown",
   "metadata": {},
   "source": [
    "Before starting, we will also learn a bit about [pandas dataframes](https://pandas.pydata.org/pandas-docs/stable/generated/pandas.DataFrame.html), a very user-friendly data structure that you can use to manipulate tabular data. Pandas dataframes are implemented within the [pandas package] (https://pandas.pydata.org/).\n",
    "\n",
    "Pandas dataframes should be intuitive to use. **We suggest you to go through the [10 minutes to Pandas tutorial](https://pandas.pydata.org/pandas-docs/version/0.22/10min.html#min) to learn what you need to solve the next exercise.**"
   ]
  },
  {
   "cell_type": "markdown",
   "metadata": {},
   "source": [
    "---\n",
    "\n",
    "# Part A: Download the Wikipedia pages of rappers"
   ]
  },
  {
   "cell_type": "markdown",
   "metadata": {},
   "source": [
    "It's time to download all of the pages of the characters. Use your experience with APIs from Week 1\\. To get started, I **strongly** recommend that you revisit the [**APIs note book**](https://github.com/SocialComplexityLab/socialgraphs2023/blob/main/files/API_check.ipynb) from that week - it contains lots of useful tips on this specific activity (yes, I had planned this all along!). ."
   ]
  },
  {
   "cell_type": "markdown",
   "metadata": {},
   "source": [
    "Now, you could first download the names of all the rappers, starting from \n",
    "\n",
    "* https://en.wikipedia.org/wiki/Category:West_Coast_hip_hop_musicians\n",
    "* https://en.wikipedia.org/wiki/Category:East_Coast_hip_hop_musicians\n",
    "\n",
    "But this might result in so much pain and suffering that I will not make you do that (although you are very much welcome to try!). Instead, you can download all the names, nice and clean, here (it might still include couple of *noisy* links, but should be fine in 95% of records):\n",
    " \n",
    "* **[West coast List](https://github.com/SocialComplexityLab/socialgraphs2023/blob/main/files/WestCoastRappers.csv)**\n",
    "* **[East coast List](https://github.com/SocialComplexityLab/socialgraphs2023/blob/main/files/EastCoastRappers.csv)**\n",
    "\n",
    "The files contain the wiki-link of all rappers in the two lists above. \n"
   ]
  },
  {
   "cell_type": "code",
   "execution_count": 23,
   "metadata": {},
   "outputs": [],
   "source": [
    "import pywikibot\n",
    "import pandas as pd\n",
    "\n",
    "# Connect to Wikipedia\n",
    "wiki = pywikibot.Site('en', 'wikipedia')\n"
   ]
  },
  {
   "cell_type": "code",
   "execution_count": 24,
   "metadata": {},
   "outputs": [
    {
     "name": "stdout",
     "output_type": "stream",
     "text": [
      "     Unnamed: 0 WikipediaPageName\n",
      "0             0         03 Greedo\n",
      "1             1          24kGoldn\n",
      "2             2          40 Glocc\n",
      "3             3   A-Plus (rapper)\n",
      "4             4         DJ A-Tron\n",
      "..          ...               ...\n",
      "349         349           Young L\n",
      "350         350          Yukmouth\n",
      "351         351        Arif Zahir\n",
      "352         352          Zealous1\n",
      "353         353        Asaiah Ziv\n",
      "\n",
      "[354 rows x 2 columns]\n",
      "     Unnamed: 0 WikipediaPageName\n",
      "0             0           6ix9ine\n",
      "1             1        9th Prince\n",
      "2             2              22Gz\n",
      "3             3          38 Spesh\n",
      "4             4       The 45 King\n",
      "..          ...               ...\n",
      "442         442  Young Music DYMG\n",
      "443         443         Younglord\n",
      "444         444       Nosson Zand\n",
      "445         445         ZillaKami\n",
      "446         446       Mike Zombie\n",
      "\n",
      "[447 rows x 2 columns]\n",
      "['03 Greedo', '24kGoldn', '40 Glocc', 'A-Plus (rapper)', 'DJ A-Tron', 'Ab-Soul', 'Abstract Rude', 'Aceyalone', 'Afroman', 'Ahmad (rapper)', \"Ak'Sent\", 'The Alchemist (musician)', 'AMG (rapper)', 'Aminé (rapper)', 'Antwon', 'Aztlan Underground', 'B-Legit', 'B-Real', 'B.G. Knocc Out', 'Show Banga', 'Ant Banks', 'Sho Baraka', 'Bavgate', 'Becky G', 'Beeda Weeda', 'Beefy (rapper)', 'Berner (rapper)', 'Big B (rapper)', 'Big Dave (rapper)', 'Big Ed (rapper)', 'Big Fase 100', 'Bizzle', 'Aloe Blacc', 'Black Pegasus', 'Guerilla Black', 'Nissim Black', 'Toni Blackman', 'Blueface', 'Blxst', 'Bones (rapper)', 'Braille (musician)', 'Buddy (rapper)', 'Busdriver', 'Scott Caan', 'Sway Calloway', 'Nick Cannon', \"Captain Save 'Em\", 'Clyde Carson', 'Celestaphone', 'DJ Cheapshot', 'Tha Chill', 'Shawn Chrystopher', 'Chanel West Coast', 'Conceit (rapper)', 'Coolio', 'Cozz', 'Crooked I', 'Omega Crosby', 'Cut Chemist', 'D-Loc', 'The D.O.C.', 'Daddy X', 'DJ Dahi', 'Dazzie Dee', 'DB Tha General', 'Del the Funky Homosapien', 'Timothy DeLaGhetto', 'Demrick', 'Den Fenn', 'Scoop DeVille', 'Daz Dillinger', 'Nate Dogg', 'Snoop Dogg', 'Dolla Will', 'Domino (rapper)', 'Drakeo the Ruler', 'Dr. Dre', 'Droop-E', 'DTTX (rapper)', 'Dubb 20', 'Dumbfoundead', 'Duna (rapper)', 'E-40', 'Eazy-E', 'MC Eiht', 'Eprhyme', 'Evidence (musician)', 'Exile (producer)', 'Fashawn', 'Fatlip', 'Joey Fatts', 'Kevin Federline', 'Roshon Fegan', 'JT the Bigga Figga', 'Flash Bang Grenada', 'Flying Lotus', 'Shawn Fonteno', 'Foreknown (rapper)', 'Dave Free', 'Mike Free', 'Fresh Kid Ice', 'DJ Fresh (American DJ)', 'MC Frontalot', 'Frost (rapper)', 'Futuristic (rapper)', 'The Futuristics', 'G-Nut', 'G-Stack', 'The Game (rapper)', 'GaTa', 'O.T. Genasis', 'Domo Genesis', 'Getter (DJ)', 'Gift of Gab (rapper)', 'Grieves', \"Haiku d'Etat\", 'Hi-C (rapper)', 'Adam Hicks', 'Hit-Boy', 'Hittman', 'Hodgy', 'Hopsin', 'Hot Rod (rapper)', 'Houston (singer)', 'Brotha Lynch Hung', 'Hurt-M-Badd', 'Nipsey Hussle', 'Skhye Hutch', 'Iame (rapper)', 'Iamsu!', 'Ice Cube', 'Ice-T', 'ILoveMakonnen', 'The Jacka', 'Jake One', 'Noa James', 'Jel (music producer)', 'Jeff Jericho', 'JGivens', 'JHawk', 'Sir Jinx', 'Hobo Johnson', 'Judge Da Boss', 'Self Jupiter', 'K-the-I???', 'Kam (rapper)', 'Kaveo', 'Keak da Sneak', 'Baby Keem', 'Dom Kennedy', 'DJ Khalil', 'Kid Ink', 'Killa Keise', 'DJ King Assassin', 'King Lil G', 'King Tech', 'King T', 'Curtiss King', 'Rydah J. Klyde', 'Knightowl', 'Knxwledge', 'Kokane', 'Kossisko', 'Kreayshawn', 'Krondon', 'Kurupt', 'Kyle (musician)', 'Kendrick Lamar', 'Bishop Lamont', 'MC Lars', 'Laz-D', 'Lecrae', 'Lefty (rapper)', 'Shorty (American rapper)', 'Lil B', 'Lil Coner', 'Lil Debbie', \"Lil' Fizz\", 'Lil Italy', 'Lil Ric', 'Lil Rob', 'Lil Uno', 'Lil Xan', \"Lil' C-Style\", 'Amber Liu (singer)', 'Locksmith (rapper)', 'LoveRance', 'Luni Coleone', 'Mac Dre', 'CJ Mac', 'Mack 10', 'Macklemore', 'Madlib', 'Mac Mall', 'Glasses Malone', 'Mann (rapper)', 'Mayne Mannish', 'Brother Marquis', 'Terrace Martin', 'Young Maylay', 'Trevor McFedries', 'Mr. J. Medeiros', 'Eli Meltzer', 'Messy Marv', 'Miami (rapper)', 'Cymphonique Miller', 'Mistah F.A.B.', 'Mix Master Mike', 'Mr. Mixx', 'Slim the Mobster', 'KC Montero', 'Jonathan Moore (musician)', 'Lil Mosey', 'Mr. Capone-E', 'Mr. Skrillz', 'Mugzi', 'Murs (rapper)', 'Myka 9', 'Emcee N.I.C.E.', 'Nappy Nina', 'Shady Nate', 'Nichkhun', 'Damani Nkosi', 'Nobody (producer)', 'Nocando', 'Cool Nutz', 'O.Y.G Redrum 781', 'Oh No (musician)', 'OhGeesy', 'Only Won', 'Paris (rapper)', 'Jay Park', 'Teddy Park', 'Passion (rapper)', 'Peace (rapper)', 'J Peezy', 'Dudley Perkins (rapper)', 'Phats Bossi', 'Phil Da Agony', 'Playalitical', 'Pooh-Man', 'Vidal Prevost', 'Problem (rapper)', 'Prodeje', 'Psychosiz', 'Punch (rapper)', 'Schoolboy Q', 'Quazedelic', 'DJ Quik', 'San Quinn', 'Captain Rapp', \"Rappin' 4-Tay\", 'Ras Kass', 'RBX', 'Reason (American rapper)', 'Red Cloud (rapper)', 'Redfoo', 'RiceGum', 'The Real Richie Rich', 'Boots Riley', 'Ash Riser', 'RJ (rapper)', 'Jay Rock', 'V. Rose', 'Sadistik', 'Sage the Gemini', 'Saint Dog', 'Saweetie', 'Seagram (rapper)', 'Amanda Seales', 'Tupac Shakur', 'Mac Shawn', 'Shade Sheist', 'Mike Shinoda', 'Too Short', 'Shorty Mack', 'Shwayze', 'Dom Sicily', 'Raz Simone', 'Sir Mix-a-Lot', 'Skee-Lo', 'Skeme', 'Skinhead Rob', 'Alex Skolnick', 'Sky Blu (rapper)', 'Sleep (rapper)', 'Sleep Dank', 'Mitchy Slick', 'Slimkid3', 'Slip Capone', 'Slow Pain', 'Na-Kel Smith', 'D Smoke', 'Smooth (singer)', 'Snow Tha Product', 'Snupe', 'Soopafly', 'Sounwave', 'Speak!', 'Spice 1', 'Spider Loc', 'Vince Staples', 'Parlay Starr', 'Rob Stone (rapper)', 'Stressmatic', 'Stunnaman', 'Suga Free', 'Suga-T', 'Earl Sweatshirt', 'SwinDoe', 'Syd (singer)', 'Big Syke', 'T-Pup', 'Ali Tabatabaee', 'Taboo (rapper)', 'Tairrie B', 'Tanna Leone', 'Tap Dat Ass', 'Tedashii', 'TeeFlii', 'Thurz', 'Tiger JK', 'Time (rapper)', 'Ms. Toi', 'Tone Loc', 'Isaiah Toothtaker', 'Channel Tres', 'MC Trouble', 'Ty Dolla Sign', 'Tyler, the Creator', 'The Unknown DJ', 'V-Nasty', 'V-White', 'Casey Veggies', 'Bryce Vine', 'Warren G', 'WC (rapper)', \"Tim'm T. West\", 'Willie B (producer)', 'Dizzy Wright', 'Xzibit', 'Ya Boy', 'Yeat', 'YG (rapper)', 'YGD Tha Top Dogg', 'Yo-Yo (rapper)', 'MC Yogi', 'Young Chozen', 'Young Dru', 'Young L', 'Yukmouth', 'Arif Zahir', 'Zealous1', 'Asaiah Ziv', '6ix9ine', '9th Prince', '22Gz', '38 Spesh', 'The 45 King', '50 Cent', '60 Second Assassin (rapper)', '88-Keys', 'Sammy Adams', 'Adeem (rapper)', 'Aesop Rock', 'Afu-Ra', 'Akir', 'Akrobatik', 'Alias (musician)', 'Hoodie Allen', 'Amil', 'Antoinette (rapper)', 'Aone Beats', 'Apache (rapper)', 'Apathy (rapper)', 'AR-Ab', 'AraabMuzik', 'Arkatech Beatz', 'M. K. Asante', 'Asheru', 'The Audible Doctor', 'Awkwafina', 'AZ (rapper)', 'Apani B. Fly', 'DJ Babu', 'Bahamadia', 'Marty Baller', 'Charli Baltimore', 'Afrika Bambaataa', 'Bodega Bamz', 'Azealia Banks', 'Lloyd Banks', 'MC Paul Barman', 'Mark Batson', 'The Beat Bully', 'Jahlil Beats', 'Beedie (rapper)', 'Benny the Butcher', 'Benzino', 'Big Body Bes', 'Big Daddy Kane', 'Big Pun', 'Big Shug', 'Bkorn', 'Black Child', 'Black Rob', 'Black Thought', 'Memphis Bleek', 'Blockhead (music producer)', 'Action Bronson', 'Bronx Style Bob', 'Foxy Brown (rapper)', 'Tommy Brown (record producer)', 'Ron Browz', 'Buckshot (rapper)', 'Buckwild (music producer)', 'Joe Budden', 'Dai Burger', 'Cage (rapper)', 'Crystal Caines', 'Call Me Ace', \"Cam'ron\", 'Canibus', 'Don Cannon', 'Capella Grey', 'Capital Steez', 'Capone (rapper)', 'Cappadonna', 'Kid Capri', 'Cardi B', 'Cardiak', 'Casanova (rapper)', 'Cassidy (rapper)', 'Grandmaster Caz', 'Cazwell', \"Lil' Cease\", 'John Cena', 'Ceschi', 'DJ Charlie Chase', 'Chinx', 'DJ Chuck Chillout', 'Chyskillz', 'CJ (rapper)', 'Clams Casino (musician)', 'Sean Combs', 'Consequence (rapper)', 'Conway the Machine', 'Cool C', 'Cordae', 'Cousin Stizz', 'Keef Cowboy', 'Jay Critch', 'Cuban Link', 'D-Nice', 'Daddy-O (rapper)', 'Danger Mouse (musician)', 'Danny Boy (rapper)', 'Dash (rapper)', 'Desiigner', 'Diabolic (rapper)', 'Kosha Dillz', 'Flipp Dinero', 'Disco King Mario', 'DJ Disco Wiz', 'DMX', 'Tim Dog', 'B. Dolan', 'Don Q (rapper)', 'MF Doom', 'Dot da Genius', 'Drag-On', 'DJ Drama', 'Dub-L', 'Dutch ReBelle', 'DVLP', 'Smoke DZA', 'E.D.I. Mean', 'East Flatbush Project', 'Dave East', 'Ed O.G.', 'El-P', 'Eric B.', 'Esoteric (rapper)', 'Eve (rapper)', 'Eyenine', 'Fabolous', 'Mickey Factz', 'Fat Joe', 'Hussein Fatal', 'Felly', 'ASAP Ferg', 'Grandmaster Flash', 'CJ Fly', 'Focus...', 'Q Da Fool', 'Fivio Foreign', 'Freddie Foxxx', 'Njena Reddd Foxxx', 'Sage Francis', 'Harry Fraud', 'Fred the Godson', 'Freekey Zekey', 'Frenchie (rapper)', 'Fresh Kid Ice', 'Doug E. Fresh', 'Funkmaster Flex', 'Ty Fyffe', 'G Koop', 'Heather B. Gardner', 'Mic Geronimo', 'GFMBryyce', 'Ghostface Killah', 'Godfather Don', 'Irv Gotti', 'Jean Grae', 'Grafh', 'Dame Grease', 'MF Grimm', 'Cory Gunz', 'Guru (rapper)', 'GZA', 'Half a Mill', 'Sleepy Hallow', 'Charles Hamilton (rapper)', 'Andre Harrell', 'Havoc (musician)', 'Emile Haynie', 'Heavy D', 'Hell Rell', 'Samuel T. Herring', 'Chad Hugo', 'DJ Hurricane', 'Ice Spice', 'Ill Bill', 'Inspectah Deck', 'Islord', 'J.I the Prince of N.Y', 'J57 (rapper)', 'Ja Rule', 'Jadakiss', 'Ms. Jade', 'Mike Jaggerr', 'Jam Master Jay', 'Jasiri X', 'Jay-Z', 'Jaz-O', 'MC Jazzy Jeff', 'DJ Jazzy Joyce', 'MC Jin', 'Jipsta', 'Joey Badass', 'Chilla Jones', 'Serius Jones', 'JPEGMafia', 'Junglepussy', 'Just Blaze', 'Just-Ice', 'Ka$hdami', 'Kangol Kid', 'Kastro (rapper)', 'DJ Kay Slay', 'Kemba (rapper)', 'Jamie Kennedy', 'Wiz Khalifa', 'Killa Sin', 'Kirk Knight', 'Tate Kobang', 'Kool G Rap', 'Kool Moe Dee', 'KRS-One', 'Talib Kweli', 'Big L', 'Coke La Rock', 'Scott La Rock', 'Lady B', 'Lady Crush', 'Al Sherrod Lambert', 'Lamiere', 'Knero Lapaé', 'Larry Larr', 'Sabor Latino', 'Lee on the Beats', 'HeeSun Lee', 'Trip Lee', 'Le1f', 'Johan Lenox', 'Coi Leray', 'Alrad Lewis', 'Rob Lewis (record producer)', 'Mr. Lif', 'Like (record producer)', 'Lil Dicky', 'Lil Mama', 'Lil Peep', 'Lil Tjay', \"Lil' Kim\", 'Lin Que', 'Ex-plicit linez', 'Dusty Locane', 'Nicholas Loftin', 'DJ Logic', 'Sheek Louch', 'Louis Logic', 'Ed Lover', 'Jan Lucanus', 'Joyner Lucas', 'MC Lyte', 'M-Dot', 'Remy Ma', 'China Mac', 'Mach-Hommy', 'Craig Mack', 'Kellee Maize', 'Malik B.', 'Roc Marciano', 'Biz Markie', 'Marley Marl', 'Brother Marquis', 'Skizzy Mars', 'Theo Martins', 'Mase', 'Masta Killa', 'Mathematics (producer)', 'Ivan Matias', 'Lady May (rapper)', 'Darryl McDaniels', 'McGruff (rapper)', 'Megahertz (record producer)', 'Melle Mel', 'Method Man', 'Mike D', 'Mikey D', 'Derrick Milano', 'Meek Mill', 'Mac Miller', 'Jae Millz', 'Mims (rapper)', 'Andy Mineo', \"Mr. Muthafuckin' eXquire\", 'Mr. Mixx', 'Easy Mo Bee', 'Pharoahe Monch', 'French Montana', 'Mos Def', 'Ali Shaheed Muhammad', 'Uncle Murda', 'Keith Murray', 'Myzery', 'N.O.R.E.', 'Nas', 'ASAP Nast', 'Necro (rapper)', 'Bishop Nehru', 'Neo da Matrix', 'Nine (rapper)', 'Nitty (musician)', 'No Malice', 'Young Noble', 'NOE (rapper)', 'Princess Nokia', 'The Notorious B.I.G.', 'O.C. (rapper)', \"Ol' Dirty Bastard\", \"Shaquille O'Neal\", 'Oompa (rapper)', 'Joell Ortiz', 'Styles P', 'Prince Paul (producer)', 'Felicia Pearson', 'Pepa (rapper)', 'Percee P', 'Pete Rock', 'Petey Pablo', 'Thee Phantom', 'Phife Dawg', 'Stelios Phili', 'Jamal Phillips', 'Phresher', 'Pras', 'DJ Premier', 'Sean Price', 'Prince Whipper Whip', 'Princess Superstar', 'Prodigy (rapper)', 'Large Professor', 'Prolyphic', 'Pumpkinhead (rapper)', 'Pusha T', 'Q-Tip (musician)', 'Queen Latifah', 'Queen Pen', 'Radamiz', 'Rah Swish', 'Rakim', 'Kyle Rapps', 'Hell Razah', 'Oryn the Rebel', 'Red Café', 'Redman (rapper)', 'Reks', 'Salaam Remi', 'Moshe Reuven', 'Busta Rhymes', 'DJ Richie Rich', 'Chubb Rock', 'Rockwilder', 'ASAP Rocky', 'Roscoe (rapper)', 'Asher Roth', 'Elle Royal', 'David Rush (rapper)', 'RZA', 'Sadat X', 'Saga (rapper)', 'Saigon (rapper)', 'Salt (rapper)', 'Juelz Santana', 'Sauce Money', 'Scar Lip', 'Schoolly D', 'Jill Scott (singer)', 'DJ Scratch', 'Sensational (musician)', 'Sensato del Patio', 'Erick Sermon', 'Sha Money XL', 'Jonathan Shecter', 'Sheff G', 'Bobby Shmurda', 'Shock G', 'Kiing Shooter', 'Shyne', 'Beanie Sigel', 'Silkski', 'Siya', 'DJ Skee', 'Lil Skies', 'Skinnyfromthe9', 'Slaine (rapper)', 'Rashad Smith (producer)', 'Will Smith', 'Pop Smoke', 'CL Smooth', 'Sam Sneed', 'Sole (hip hop artist)', 'Sonaro', 'Souleye (hip hop artist)', 'Spank Rock', 'Special K (rapper)', 'Jimmy Spicer', 'Spoonie Gee', 'Spose', 'Busy Bee Starski', 'Statik Selektah', 'Stezo', 'David Stones', 'Street Life (rapper)', 'DJ Stretch Armstrong', 'Mike Stud', 'Swizz Beatz', 'Yhaunai Takiyal', 'Teyana Taylor', 'Lil Tecca', 'Sweet Tee', 'Termanology', 'Token (rapper)', 'Tone Trump', 'Tha Trademarc', 'Treach', 'Turbo B', 'ASAP Twelvyy', 'U-God', 'Vado (rapper)', 'Justina Valentine', 'Ali Vegas', 'Vinylz', 'Fetty Wap', 'Ohmega Watts', 'Chris Webby', 'DJ Webstar', 'Sheck Wes', 'Westside Gunn', 'Tierra Whack', 'DJ Whoo Kid', 'Billy Drease Williams', 'Saul Williams', 'Tyler James Williams', 'Wise (musician)', 'Chevy Woods', 'Jimmy Wopo', 'Wordsworth (rapper)', 'J.R. Writer', 'Wyldfyer', 'Tony Yayo', 'Young Chris', 'Young M.A', 'Young Music DYMG', 'Younglord', 'Nosson Zand', 'ZillaKami', 'Mike Zombie']\n"
     ]
    }
   ],
   "source": [
    "west_coast_rapers = pd.read_csv(\"../data/WestCoastRappers.csv\")\n",
    "east_coast_rapers = pd.read_csv(\"../data/EastCoastRappers.csv\")\n",
    "\n",
    "print(west_coast_rapers)\n",
    "print(east_coast_rapers)\n",
    "\n",
    "wiki_page_col_name = \"WikipediaPageName\"\n",
    "\n",
    "wiki_page_names = list(west_coast_rapers[wiki_page_col_name]) + list(east_coast_rapers[wiki_page_col_name])\n",
    "\n",
    "print(wiki_page_names)"
   ]
  },
  {
   "cell_type": "code",
   "execution_count": 21,
   "metadata": {},
   "outputs": [
    {
     "name": "stdout",
     "output_type": "stream",
     "text": [
      "Failed to save the page: K-the-I???.\n"
     ]
    }
   ],
   "source": [
    "for wiki_page_name in west_coast_rapers[wiki_page_col_name]:\n",
    "    page = pywikibot.Page(wiki, wiki_page_name)\n",
    "    try:\n",
    "        with open(f\"../data/west_coast/{wiki_page_name}.txt\", \"w\", encoding=\"utf-8\") as f:\n",
    "            f.write(page.text)\n",
    "    except Exception as e:\n",
    "        print(f\"Failed to save the page: {wiki_page_name}.\")\n",
    "\n"
   ]
  },
  {
   "cell_type": "code",
   "execution_count": 8,
   "metadata": {},
   "outputs": [],
   "source": [
    "wiki_page_name = \"K-the-I%3F%3F%3F\"\n",
    "\n",
    "page = pywikibot.Page(wiki, wiki_page_name)\n",
    "try:\n",
    "    with open(f\"../data/west_coast/{wiki_page_name}.txt\", \"w\", encoding=\"utf-8\") as f:\n",
    "        f.write(page.text)\n",
    "except Exception as e:\n",
    "    print(f\"Failed to save the page: {wiki_page_name}.\")"
   ]
  },
  {
   "cell_type": "code",
   "execution_count": 3,
   "metadata": {},
   "outputs": [
    {
     "ename": "NameError",
     "evalue": "name 'east_coast_rapers' is not defined",
     "output_type": "error",
     "traceback": [
      "\u001b[0;31m---------------------------------------------------------------------------\u001b[0m",
      "\u001b[0;31mNameError\u001b[0m                                 Traceback (most recent call last)",
      "\u001b[1;32m/Users/madis/Dokumendid/GitHub/socialgraphs2023/lectures/Jeremi/Week4.ipynb Cell 18\u001b[0m line \u001b[0;36m1\n\u001b[0;32m----> <a href='vscode-notebook-cell:/Users/madis/Dokumendid/GitHub/socialgraphs2023/lectures/Jeremi/Week4.ipynb#X22sZmlsZQ%3D%3D?line=0'>1</a>\u001b[0m \u001b[39mfor\u001b[39;00m wiki_page_name \u001b[39min\u001b[39;00m east_coast_rapers[wiki_page_col_name]:\n\u001b[1;32m      <a href='vscode-notebook-cell:/Users/madis/Dokumendid/GitHub/socialgraphs2023/lectures/Jeremi/Week4.ipynb#X22sZmlsZQ%3D%3D?line=1'>2</a>\u001b[0m     page \u001b[39m=\u001b[39m pywikibot\u001b[39m.\u001b[39mPage(wiki, wiki_page_name)\n\u001b[1;32m      <a href='vscode-notebook-cell:/Users/madis/Dokumendid/GitHub/socialgraphs2023/lectures/Jeremi/Week4.ipynb#X22sZmlsZQ%3D%3D?line=2'>3</a>\u001b[0m     \u001b[39mtry\u001b[39;00m:\n",
      "\u001b[0;31mNameError\u001b[0m: name 'east_coast_rapers' is not defined"
     ]
    }
   ],
   "source": [
    "for wiki_page_name in east_coast_rapers[wiki_page_col_name]:\n",
    "    page = pywikibot.Page(wiki, wiki_page_name)\n",
    "    try:\n",
    "        with open(f\"../data/east_coast/{wiki_page_name}.txt\", \"w\", encoding=\"utf-8\") as f:\n",
    "            f.write(page.text)\n",
    "    except Exception as e:\n",
    "        print(f\"Failed to save the page: {wiki_page_name}.\")"
   ]
  },
  {
   "cell_type": "markdown",
   "metadata": {},
   "source": [
    "---\n",
    "\n",
    "# Part B: Building the networks\n",
    "\n",
    "Now, we're going to build one huge NetworkX directed graph, which includes both West-coast and East-coast rappers. \n",
    "\n",
    "The nodes in the network will be all the rappers, and we will place an edge between nodes $A$ and $B$ if the Wikipedia page of node $A$ links to the Wikipedia page of node $B$.\n",
    "\n",
    " "
   ]
  },
  {
   "cell_type": "markdown",
   "metadata": {
    "scrolled": true
   },
   "source": [
    "> ***Video instructions:*** Getting started with rap music. Link: https://www.dropbox.com/scl/fi/ivd99y7tfeqpzj9lxgh0p/GettingStartedWithRapMusic.mp4?rlkey=6y3ye8iex6ogcy93jzyviqlej&dl=0"
   ]
  },
  {
   "cell_type": "code",
   "execution_count": 57,
   "metadata": {},
   "outputs": [
    {
     "name": "stdout",
     "output_type": "stream",
     "text": [
      "['Los Angeles', 'California', 'U.S.', 'West Coast hip hop', 'Trap music (hip hop)', 'Hip hop music', 'Todd Moscowitz', 'Rapping', 'Watts, Los Angeles', 'Los Angeles, California', 'Grape Street Watts Crips', 'West Los Angeles, California', 'Gardena, California', 'tympanostomy tube', 'Jordan Downs', 'Watts, Los Angeles', 'Southern hip hop', 'Todd Moscowitz', 'Smokepurpp', 'Lil Pump', 'Lil Uzi Vert', 'Desto Dubb', 'Adam Grandmaison', 'Lil Pump', 'Adam Grandmaison', 'Lil Uzi Vert', 'Blink-182', 'Travis Barker', 'Kenny Beats', 'Key Glock', 'Alamo Records', 'Sony Music Entertainment', 'Cannabis (drug)', 'methamphetamine', 'Kenny Beats', 'Mike Free', 'Nef the Pharaoh', 'Travis Barker', 'Category:Rappers from Los Angeles', 'Category:1987 births', 'Category:Living people', 'Category:People from Watts, Los Angeles', 'Category:21st-century American rappers', 'Category:West Coast hip hop musicians']\n",
      "Ms. Toi\n"
     ]
    }
   ],
   "source": [
    "import pathlib\n",
    "def extract_links(filename):\n",
    "    try:\n",
    "        with open(f\"../data/{filename}\", \"r\", encoding=\"utf-8\") as f:\n",
    "            text = f.read()\n",
    "        raw_links = re.findall(\"\\[\\[([^\\[\\]]*)\\]\\]\", text)\n",
    "        links = [link.split(\"|\")[0] for link in raw_links]\n",
    "        return links\n",
    "    except Exception as e:\n",
    "        print(f\"An error occurred while processing the file {filename}\")\n",
    "        return None\n",
    "    \n",
    "\n",
    "def extract_name_from_filename(filename):\n",
    "    return \".\".join(pathlib.Path(filename).name.split(\".\")[:-1])\n",
    "    \n",
    "print(extract_links(\"west_coast/03 Greedo.txt\"))\n",
    "print(extract_name_from_filename(\"lectures\\data\\west_coast\\Ms. Toi.txt\"))"
   ]
  },
  {
   "cell_type": "markdown",
   "metadata": {},
   "source": [
    "\n",
    "> \n",
    "> _Exercise_: Build the network of rappers \n",
    "\n",
    "> Now we can build the network. Isn't this a little bit cool? What a dataset :)\n",
    "\n",
    "> The overall strategy for this is the following: \n",
    "> Take the pages you have downloaded for each rappers. \n",
    "> Each page corresponds to a rapper, which is a node in your network. \n",
    "> Find all the hyperlinks in a rapper's page that link to another node of the network (e.g. an other character). \n",
    "> There are many ways to do this, but below, I've tried to break it down into natural steps. \n",
    "> Keep in mind that the network should include **both** West-coast and East-coast rappers (and that it is possible that some West-coast rappers will have links to East-coast rappers and vice-versa).\n",
    "> \n",
    "> **Note**: When you add a node to the network, also include an `attribute` (i.e. that specifies the universe where the character comes from; either West coast, or East coast)\n",
    ">\n",
    ">\n",
    "> * Use a regular expression to extract all outgoing links from each of the pages you downloaded above. \n",
    "> * For each link you extract, check if the target is a rapper. If yes, keep it. If no, discard it.\n",
    "> * Use a NetworkX [`DiGraph`](https://networkx.github.io/documentation/development/reference/classes.digraph.html) to store the network. Store also the properties of the nodes (i.e. which coast they represent).\n",
    "> * When have you finished, you'll notice that some nodes do not have any out- or in- degrees. You may *discard* those from the network.\n"
   ]
  },
  {
   "cell_type": "code",
   "execution_count": 36,
   "metadata": {},
   "outputs": [],
   "source": [
    "import networkx as nx\n",
    "Rap_network = nx.DiGraph()"
   ]
  },
  {
   "cell_type": "code",
   "execution_count": 58,
   "metadata": {},
   "outputs": [],
   "source": [
    "from enum import Enum\n",
    "from pathlib import Path\n",
    "\n",
    "root_folder = \"../data/\"\n",
    "\n",
    "class Coast(Enum):\n",
    "    East_Coast = \"east_coast\"\n",
    "    West_Coast = \"west_Coast\"\n",
    "\n",
    "base_rap_names_by_coast = {\n",
    "    Coast.East_Coast : set(east_coast_rapers[\"WikipediaPageName\"]),\n",
    "    Coast.West_Coast : set(west_coast_rapers[\"WikipediaPageName\"])\n",
    "}\n",
    "\n",
    "def add_coast_rap_data(net: nx.DiGraph, coast: Coast):\n",
    "    root = Path(root_folder + coast.value)\n",
    "    \n",
    "    rap_names = []\n",
    "    for current_file in root.rglob(\"*.txt\"):\n",
    "        rap_name = extract_name_from_filename(current_file)\n",
    "        net.add_node(rap_name, coast = coast)\n",
    "        out_rap_names = set(extract_links(current_file)) & (base_rap_names_by_coast[Coast.East_Coast].union( base_rap_names_by_coast[Coast.West_Coast]))\n",
    "        for out_rap_name in out_rap_names:\n",
    "            net.add_edge(rap_name, out_rap_name)\n",
    "        \n",
    "        \n",
    "        \n",
    "add_coast_rap_data(Rap_network, Coast.East_Coast)\n",
    "add_coast_rap_data(Rap_network, Coast.West_Coast)"
   ]
  },
  {
   "cell_type": "code",
   "execution_count": 81,
   "metadata": {},
   "outputs": [],
   "source": [
    "import matplotlib.pyplot as plt\n",
    "\n",
    "def plot_network(net):\n",
    "    # Create a figure and draw the network\n",
    "    plt.figure(figsize=(12, 12))\n",
    "\n",
    "    # Separate nodes by coast\n",
    "    east_nodes = [n for n, attr in net.nodes(data=True) if attr['coast'] == Coast.East_Coast]\n",
    "    west_nodes = [n for n, attr in net.nodes(data=True) if attr['coast'] == Coast.West_Coast]\n",
    "\n",
    "    # Choose a layout for the network\n",
    "    pos = nx.spring_layout(net, seed=42)\n",
    "\n",
    "    # Draw nodes\n",
    "    nx.draw_networkx_nodes(net, pos, nodelist=east_nodes, node_color='blue', label='East Coast', alpha=0.8)\n",
    "    nx.draw_networkx_nodes(net, pos, nodelist=west_nodes, node_color='red', label='West Coast', alpha=0.8)\n",
    "\n",
    "    # Draw edges\n",
    "    nx.draw_networkx_edges(net, pos, edge_color='grey')\n",
    "\n",
    "    # Draw labels\n",
    "    nx.draw_networkx_labels(net, pos, font_size=8, font_family='sans-serif')\n",
    "\n",
    "    # Add legend\n",
    "    plt.legend()\n",
    "\n",
    "    plt.axis(\"off\")\n",
    "    plt.show()\n",
    "\n"
   ]
  },
  {
   "cell_type": "code",
   "execution_count": 84,
   "metadata": {},
   "outputs": [],
   "source": [
    "# Rap_network.remove_node(\"K-the-I???\")\n",
    "plot_network(Rap_network)"
   ]
  },
  {
   "cell_type": "markdown",
   "metadata": {},
   "source": [
    "\n",
    "> *Exercise*: Simple network statistics and analysis\n",
    "\n",
    "> * What is the number of nodes in the network? \n",
    "> * More importantly, what is the number of links?\n",
    "> * What is the number of links connecting West coast and East coast? What do those links mean?\n",
    "> * Plot the in and out-degree distributions. What do you observe? Can you explain why the in-degree distribution is different from the out-degree distribution?\n",
    ">     * Compare the degree distribution to a *random network* with the same number of nodes and *p*\n",
    ">     * Compare the degree distribution to a *scale-free* network with the same number of nodes.\n",
    "> * Who are top 10 most connected rappers? (Report results for in-degrees and out-degrees). Comment on your findings. Is this what you would have expected?\n",
    "> * Who are the top 5 most connected West coast rappers (again in terms of both in/out-degree)?\n",
    "> * Who are the top 5 most connected East coast rappers (again in terms of both in/out-degree)?"
   ]
  },
  {
   "cell_type": "markdown",
   "metadata": {},
   "source": [
    "> The total degree distribution (in + out degree) for you network should resemble the distribution displayed on the image below:\n",
    "![img](https://github.com/SocialComplexityLab/socialgraphs2023/blob/main/files/WestcoastvsEastcoast_degrees.png?raw=true)\n",
    "![img](https://github.com/SocialComplexityLab/socialgraphs2023/blob/main/files/WestcoastvsEastcoast_degrees_loglog.png?raw=true)\n"
   ]
  },
  {
   "cell_type": "code",
   "execution_count": null,
   "metadata": {},
   "outputs": [],
   "source": []
  }
 ],
 "metadata": {
  "anaconda-cloud": {},
  "kernelspec": {
   "display_name": "Python 3 (ipykernel)",
   "language": "python",
   "name": "python3"
  },
  "language_info": {
   "codemirror_mode": {
    "name": "ipython",
    "version": 3
   },
   "file_extension": ".py",
   "mimetype": "text/x-python",
   "name": "python",
   "nbconvert_exporter": "python",
   "pygments_lexer": "ipython3",
   "version": "3.11.4"
  }
 },
 "nbformat": 4,
 "nbformat_minor": 4
}
