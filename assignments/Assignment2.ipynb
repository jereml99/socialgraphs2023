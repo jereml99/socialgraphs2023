{
 "cells": [
  {
   "cell_type": "markdown",
   "metadata": {},
   "source": [
    "Format and emojis: ✅ for solution, 📊 for graph captions, 💬 for comments\n",
    "\n",
    "Copy these ones so that we all use the same ones (Windows 11)"
   ]
  },
  {
   "cell_type": "code",
   "execution_count": 2,
   "metadata": {},
   "outputs": [],
   "source": [
    "from IPython.display import display, Markdown, Latex\n",
    "def printmd(string):\n",
    "    display(Markdown(string))"
   ]
  },
  {
   "cell_type": "markdown",
   "metadata": {},
   "source": [
    "This function lets you print markdown with python code block."
   ]
  },
  {
   "cell_type": "markdown",
   "metadata": {},
   "source": [
    "# Formalia:\n",
    "\n",
    "Please read the [assignment overview page](https://github.com/SocialComplexityLab/socialgraphs2021/wiki/Assignments) carefully before proceeding. This page contains information about formatting (including formats etc.), group sizes, and many other aspects of handing in the assignment. \n",
    "\n",
    "_If you fail to follow these simple instructions, it will negatively impact your grade!_\n",
    "\n",
    "**Due date and time**: The assignment is due on Tuesday October the 31st, 2021 at 23:55. Hand in your IPython notebook file (with extension `.ipynb`) via http://peergrade.io/\n",
    "\n",
    "\n",
    "(If you haven't set up an account on peergrade yet, go to www.peergrade.io/join and type in the class code: ***DPZEV6***.)"
   ]
  },
  {
   "cell_type": "markdown",
   "metadata": {},
   "source": [
    "### Overview\n",
    "\n",
    "This year's Assignment 2 is all about analyzing the network of rappers.\n",
    "\n",
    "Note that this time I'm doing the exercises slightly differently in order to clean things up a bit. The issue is that the weekly lectures/exercises include quite a few instructions and intermediate results that are not quite something you guys can meaningfully answer. \n",
    "\n",
    "Therefore, in the assignment below, I have tried to reformulate the questions from the weekly exercises into something that is (hopefully) easier to answer. *Then I also note which lectures each question comes from*; that way, you can easily go back and find additional tips & tricks on how to solve things 😇\n",
    "\n",
    "\n",
    "----"
   ]
  },
  {
   "cell_type": "markdown",
   "metadata": {},
   "source": [
    "# Part 0: Building the network"
   ]
  },
  {
   "cell_type": "markdown",
   "metadata": {},
   "source": [
    " To create our network, we downloaded the rapper Wiki pages from each coast (during Week 4) and linked them via the hyperlinks connecting pages to each other. To achieve this goal we have used regular expressions."
   ]
  },
  {
   "cell_type": "markdown",
   "metadata": {},
   "source": [
    "* Explain the strategy you have used to extract the hyperlinks from the Wiki-pages, assuming that you have already collected the rapper pages with the Wikipedia API."
   ]
  },
  {
   "cell_type": "markdown",
   "metadata": {},
   "source": [
    "> ✅ Firstly, we iterate over all the rapper text files and we add them as nodes in the network, while also including some attributes like `Coast` and `Content Length`. After that, we iterate again over all of the same files, doing the following:\n",
    "> * We search for **all** Wikipedia internal links that follow a specific format (we do that with a regular expression, explained in the next section). \n",
    "> * Some times these links include more than one wording (separated by '|'), but we are only interested in the first one.\n",
    "> * Then, we check if the resulting word or phrase is in the collection of rapper names we were given at the start of Week 4.\n",
    "> * If it is, then we connect the rapper on which file we are iterating over, edge origin, to the rapper in the Wikipedia internal link, edge destination (the direction is important)."
   ]
  },
  {
   "cell_type": "markdown",
   "metadata": {},
   "source": [
    "* Show the regular expressions you have built and explain in details how they work."
   ]
  },
  {
   "cell_type": "markdown",
   "metadata": {},
   "source": [
    "> ✅ The expression is the following `\\[\\[(.*?)\\]\\]`, which essentially matches everything between double square brackets. In particular:\n",
    "> * The square brackets `\\[ \\]` are *escaped* with a backlash (`\\`) just so they are to matched literally.\n",
    "> * The parenthesis `( )` form a group (although as it's only one group in the whole expression that we don't need to match as repeating, the parenthesis can be removed).\n",
    "> * `.*?`: This is a part of the pattern enclosed in parentheses and it's the interesting part. It uses the following elements:\n",
    ">   * `.`: This period (dot) is a metacharacter in regular expressions that matches any character except for a newline character.\n",
    ">   * `*`: This asterisk is another metacharacter and it means \"zero or more occurrences of the preceding element.\" So, `.*` means zero or more occurrences of any character.\n",
    ">   * `?`: The question mark is another metacharacter, and when used after `*`, it makes the `*` operator non-greedy, meaning it matches as few characters as possible. Without the `?`, `.*` would be greedy and match as many characters as possible, so from the first link's `[[`, to the last link's `]]`."
   ]
  },
  {
   "cell_type": "markdown",
   "metadata": {},
   "source": [
    "# Part 1: Network visualization and basic stats"
   ]
  },
  {
   "cell_type": "markdown",
   "metadata": {},
   "source": [
    "Visualize your network of rappers (from lecture 5) and calculate stats (from lecture 4 and 5). For this exercise, we assume that you have already generated the network and extracted the largest weakly connected component (the \"largest weakly connected component\" of a directed network is the subgraph consisting of the nodes that would constitute the largest connected component if the network were undirected) . The visualization and statistics should be done for the largest weakly connected component only."
   ]
  },
  {
   "cell_type": "code",
   "execution_count": 3,
   "metadata": {},
   "outputs": [],
   "source": [
    "import pickle\n",
    "\n",
    "# Load graph object from pickle file that we saved in lecture 4\n",
    "G = pickle.load(open('./Week4_graph.pickle', 'rb'))\n",
    "SEED = 1234\n",
    "\n",
    "# Extract the largest weakly connected component\n",
    "import networkx as nx\n",
    "\n",
    "largest_cc = max(nx.weakly_connected_components(G), key=len)\n",
    "G = G.subgraph(largest_cc).copy()\n",
    "DIRECTED_GRAPH = G.copy() # directed graph\n",
    "UNDIRECTED_GRAPH = G.to_undirected() #undirected graph"
   ]
  },
  {
   "cell_type": "markdown",
   "metadata": {},
   "source": [
    "## _Exercise 1a_: Stats (see lecture 4 and 5 for more hints)"
   ]
  },
  {
   "cell_type": "markdown",
   "metadata": {},
   "source": [
    "* What is the number of nodes in the network?"
   ]
  },
  {
   "cell_type": "code",
   "execution_count": 4,
   "metadata": {},
   "outputs": [
    {
     "data": {
      "text/markdown": [
       "> ✅ Number of nodes: 727"
      ],
      "text/plain": [
       "<IPython.core.display.Markdown object>"
      ]
     },
     "metadata": {},
     "output_type": "display_data"
    }
   ],
   "source": [
    "printmd(f\"> ✅ Number of nodes: {len(G.nodes)}\")"
   ]
  },
  {
   "cell_type": "markdown",
   "metadata": {},
   "source": [
    "* What is the number of links?"
   ]
  },
  {
   "cell_type": "code",
   "execution_count": 5,
   "metadata": {},
   "outputs": [
    {
     "data": {
      "text/markdown": [
       "> ✅ Number of edges: 5803"
      ],
      "text/plain": [
       "<IPython.core.display.Markdown object>"
      ]
     },
     "metadata": {},
     "output_type": "display_data"
    }
   ],
   "source": [
    "printmd(f\"> ✅ Number of edges: {len(G.edges)}\")"
   ]
  },
  {
   "cell_type": "markdown",
   "metadata": {},
   "source": [
    "* Who is the top connected rapper? (Report results for the in-degrees and out-degrees). Comment on your findings. Is this what you would have expected?"
   ]
  },
  {
   "cell_type": "code",
   "execution_count": 6,
   "metadata": {},
   "outputs": [
    {
     "data": {
      "text/markdown": [
       "> ✅ The most in-connected rapper is 'Snoop Dogg' with 127 in-degree and the most out-connected rapper is 'Drag-On' with 52 out-degree."
      ],
      "text/plain": [
       "<IPython.core.display.Markdown object>"
      ]
     },
     "metadata": {},
     "output_type": "display_data"
    }
   ],
   "source": [
    "G = DIRECTED_GRAPH\n",
    "most_connected_in = sorted(dict(G.in_degree).items(), key=lambda x:x[1], reverse=True)[0]\n",
    "most_connected_out = sorted(dict(G.out_degree).items(), key=lambda x:x[1], reverse=True)[0]\n",
    "printmd(f\"> ✅ The most in-connected rapper is '{most_connected_in[0]}' with {most_connected_in[1]} in-degree and \" +\n",
    "        f\"the most out-connected rapper is '{most_connected_out[0]}' with {most_connected_out[1]} out-degree.\")"
   ]
  },
  {
   "cell_type": "markdown",
   "metadata": {},
   "source": [
    "> ✅ "
   ]
  },
  {
   "cell_type": "markdown",
   "metadata": {},
   "source": [
    "* Who are the top 5 most connected east-coast rappers (again in terms of in/out-degree)? "
   ]
  },
  {
   "cell_type": "markdown",
   "metadata": {},
   "source": [
    "> ✅ "
   ]
  },
  {
   "cell_type": "markdown",
   "metadata": {},
   "source": [
    "* Who are the top 5 most connected west-coast rappers (again in terms of in/out-degree)?"
   ]
  },
  {
   "cell_type": "markdown",
   "metadata": {},
   "source": [
    "> ✅ "
   ]
  },
  {
   "cell_type": "markdown",
   "metadata": {},
   "source": [
    "* Plot the in- and out-degree distributions for the whole network. \n",
    "   * Use axes that make sense for visualizing this particular distribution.\n",
    "   * What do you observe? \n",
    "   * Give a pedagogical explaination of why the in-degree distribution is different from the out-degree distribution?"
   ]
  },
  {
   "cell_type": "markdown",
   "metadata": {},
   "source": [
    "> 📊"
   ]
  },
  {
   "cell_type": "markdown",
   "metadata": {},
   "source": [
    "> ✅ "
   ]
  },
  {
   "cell_type": "markdown",
   "metadata": {},
   "source": [
    "* Find the exponent (by using the `powerlaw` package) for the in- and out-degree distributions. What does it say about our network?"
   ]
  },
  {
   "cell_type": "markdown",
   "metadata": {},
   "source": [
    "> ✅ "
   ]
  },
  {
   "cell_type": "markdown",
   "metadata": {},
   "source": [
    "* Compare the two degree distributions two the degree distribution of a *random network* (undirected) with the same number of nodes and probability of connection *p*. Comment your results."
   ]
  },
  {
   "cell_type": "markdown",
   "metadata": {},
   "source": [
    "> ✅ "
   ]
  },
  {
   "cell_type": "markdown",
   "metadata": {},
   "source": [
    "## _Exercise 1b_: Visualization (see lecture 5 for more hints)"
   ]
  },
  {
   "cell_type": "markdown",
   "metadata": {},
   "source": [
    "* Create a nice visualization of the total (directed) network:\n",
    "   * Color nodes according to the role;\n",
    "   * Scale node-size according to degree;\n",
    "   * Get node positions based on either the Force Atlas 2 algorithm, or the built-in algorithms for networkX;\n",
    "   * Whatever else you feel like that would make the visualization nicer."
   ]
  },
  {
   "cell_type": "markdown",
   "metadata": {},
   "source": [
    "* Describe the structure you observe. What useful information can you decipher from this?"
   ]
  },
  {
   "cell_type": "markdown",
   "metadata": {},
   "source": [
    "# Part 2: Word-clouds\n",
    "\n",
    "Create your own version of the word-clouds (from lecture 7). For this exercise we assume you know how to download and clean text from rappers' Wikipedia pages.\n",
    "\n",
    "Here's what you need to do:\n",
    "> * Create a word-cloud for each coast according to the novel TF-TR method. Feel free to make it as fancy as you like. Explain your process and comment on your results.\n",
    "> * For each coast, what are the 5 words with the highest TR scores? Comment on your result."
   ]
  },
  {
   "cell_type": "markdown",
   "metadata": {},
   "source": [
    "# Part 3: Communities\n",
    "\n",
    "Find communities and their modularity (from lecture 7).\n",
    "\n",
    "Here's what you need to do:\n"
   ]
  },
  {
   "cell_type": "markdown",
   "metadata": {},
   "source": [
    " * In your own words, explain what the measure \"modularity\" is, and the intuition behind the formula you use to compute it. \n"
   ]
  },
  {
   "cell_type": "markdown",
   "metadata": {},
   "source": [
    "> ✅ "
   ]
  },
  {
   "cell_type": "markdown",
   "metadata": {},
   "source": [
    "* Find communities in the network"
   ]
  },
  {
   "cell_type": "code",
   "execution_count": 7,
   "metadata": {},
   "outputs": [],
   "source": [
    "import community as community_louvain\n",
    "\n",
    "rap_graph = UNDIRECTED_GRAPH \n",
    "partition = community_louvain.best_partition(rap_graph)"
   ]
  },
  {
   "cell_type": "markdown",
   "metadata": {},
   "source": [
    "* ...and explain how you chose to identify the communities: Which algorithm did you use and how does it work?\n"
   ]
  },
  {
   "cell_type": "markdown",
   "metadata": {},
   "source": [
    "> ✅ "
   ]
  },
  {
   "cell_type": "markdown",
   "metadata": {},
   "source": [
    "* Comment on your results:\n",
    "    * How many communities did you find in total?\n"
   ]
  },
  {
   "cell_type": "code",
   "execution_count": 8,
   "metadata": {},
   "outputs": [
    {
     "data": {
      "text/markdown": [
       "> ✅ Number of communities: 9"
      ],
      "text/plain": [
       "<IPython.core.display.Markdown object>"
      ]
     },
     "metadata": {},
     "output_type": "display_data"
    }
   ],
   "source": [
    "printmd(f\"> ✅ Number of communities: {max(partition.values()) + 1}\")"
   ]
  },
  {
   "cell_type": "markdown",
   "metadata": {},
   "source": [
    "   * Compute the value of modularity with the partition created by the algorithm.\n"
   ]
  },
  {
   "cell_type": "code",
   "execution_count": 9,
   "metadata": {},
   "outputs": [
    {
     "data": {
      "text/markdown": [
       "> ✅ Modularity: 0.410"
      ],
      "text/plain": [
       "<IPython.core.display.Markdown object>"
      ]
     },
     "metadata": {},
     "output_type": "display_data"
    }
   ],
   "source": [
    "modularity_value = community_louvain.modularity(partition, rap_graph)\n",
    "\n",
    "printmd(f\"> ✅ Modularity: {modularity_value:.3f}\")"
   ]
  },
  {
   "cell_type": "markdown",
   "metadata": {},
   "source": [
    ">   * Plot and/or print the distribution of community sizes (whichever makes most sense). Comment on your result.\n"
   ]
  },
  {
   "cell_type": "code",
   "execution_count": 10,
   "metadata": {},
   "outputs": [],
   "source": [
    "import matplotlib.pyplot as plt\n",
    "from collections import Counter\n",
    "### TODO PROBABLY BETTER TO HAVE THIS ON TOP OF THE DOC\n",
    "def create_histogram(data, title, xlabel, ylabel, color='blue', figuresize= (10, 6)):\n",
    "    counter = Counter(data)\n",
    "    labels = list(counter.keys())\n",
    "    values = list(counter.values())\n",
    "\n",
    "    plt.figure(figsize=figuresize)\n",
    "    plt.bar(labels, values, color=color, edgecolor='black')\n",
    "    plt.title(title)\n",
    "    plt.xlabel(xlabel)\n",
    "    plt.ylabel(ylabel)\n",
    "    plt.show()\n"
   ]
  },
  {
   "cell_type": "code",
   "execution_count": 11,
   "metadata": {},
   "outputs": [
    {
     "data": {
      "image/png": "[encoded data removed]",
      "text/plain": [
       "<Figure size 1000x600 with 1 Axes>"
      ]
     },
     "metadata": {},
     "output_type": "display_data"
    }
   ],
   "source": [
    "community_labels = list(partition.values())\n",
    "\n",
    "create_histogram(community_labels, 'Community Sizes', 'Community Label', 'Number of Nodes')"
   ]
  },
  {
   "cell_type": "markdown",
   "metadata": {},
   "source": [
    "> 📊"
   ]
  },
  {
   "cell_type": "markdown",
   "metadata": {},
   "source": [
    "> * Now, partition your rappers into two communities based on which coast they represent.\n",
    ">   * What is the modularity of this partition? Comment on the result."
   ]
  },
  {
   "cell_type": "code",
   "execution_count": 12,
   "metadata": {},
   "outputs": [
    {
     "data": {
      "text/markdown": [
       "> ✅ The modularity of the partition is: 0.250"
      ],
      "text/plain": [
       "<IPython.core.display.Markdown object>"
      ]
     },
     "metadata": {},
     "output_type": "display_data"
    }
   ],
   "source": [
    "def calculate_modularity(graph: nx.Graph):\n",
    "    L = graph.number_of_edges()\n",
    "    communities = [\"west\", \"east\"]\n",
    "    \n",
    "    communities_nodes =[]\n",
    "    for community in communities:\n",
    "        communities_nodes.append([n for n, attr in graph.nodes(data=True) if attr['coast'] == community])\n",
    "    \n",
    "    return nx.community.modularity(graph, communities_nodes)\n",
    "\n",
    "\n",
    "modularity = calculate_modularity(rap_graph)\n",
    "printmd(f\"> ✅ The modularity of the partition is: {modularity:.3f}\")"
   ]
  },
  {
   "cell_type": "markdown",
   "metadata": {},
   "source": [
    "> ✅ modularity of the coast partition is smaller than the modularity of the best partition. #TODO Add more description "
   ]
  },
  {
   "cell_type": "markdown",
   "metadata": {},
   "source": [
    "# Part 4: Sentiment of communities\n",
    "\n",
    "Analyze the sentiment of communities (lecture 8). More tips & tricks can be found, if you take a look at Lecture 8's exercises.\n",
    "\n",
    "A couple of additional instructions you will need below:\n",
    "* Average the average sentiment of the nodes in each community to find a community-level sentiment.\n",
    "\n",
    "Here's what you need to do (use the LabMT wordlist approach):\n"
   ]
  },
  {
   "cell_type": "markdown",
   "metadata": {},
   "source": [
    "* Calculate and store sentiment for every rapper\n"
   ]
  },
  {
   "cell_type": "code",
   "execution_count": 13,
   "metadata": {},
   "outputs": [],
   "source": [
    "labmt_dict = {}\n",
    "with open('..\\lectures\\data\\labMIT-1.0.txt', 'r') as file:\n",
    "    lines = file.readlines()\n",
    "    for line in lines[1:]:  # Skipping header line\n",
    "        parts = line.strip().split('\\t')\n",
    "        word = parts[0]\n",
    "        score = float(parts[2])\n",
    "        labmt_dict[word] = score\n",
    "\n",
    "def calculate_sentiment(tokens):\n",
    "    total_score = 0\n",
    "    num_tokens = 0\n",
    "    \n",
    "    for token in tokens:\n",
    "        if token in labmt_dict:\n",
    "            total_score += labmt_dict[token]\n",
    "            num_tokens += 1\n",
    "            \n",
    "    if num_tokens == 0:\n",
    "        return 0\n",
    "    \n",
    "    return total_score / num_tokens"
   ]
  },
  {
   "cell_type": "code",
   "execution_count": 55,
   "metadata": {},
   "outputs": [],
   "source": [
    "import re\n",
    "ROOT_FOLDER = \"../lectures/data/\"\n",
    "\n",
    "def tokenize_text(text):\n",
    "    return re.findall(r'\\b\\w+\\b', text.lower())\n",
    "\n",
    "def read_text_from_file(filename):\n",
    "    try:\n",
    "        with open(filename, \"r\", encoding=\"utf-8\") as f:\n",
    "            return f.read()\n",
    "    except Exception as e:\n",
    "        print(f\"An error occurred while processing the file {filename}\")\n",
    "        return None\n",
    "\n",
    "def extract_filename_from_name(rap_name, root_folder, coast):\n",
    "    safe_name = rap_name.replace(\"?\", \"%3F\")\n",
    "    filename = f\"{root_folder}{coast}/{safe_name}.txt\"\n",
    "    return filename\n",
    "\n",
    "def add_sentiment_to_nodes(net, root_folder):\n",
    "    coast_path_dictionary={\n",
    "        \"east\": \"east_coast\",\n",
    "        \"west\": \"west_coast\"\n",
    "    } \n",
    "    for node, attrs in net.nodes(data=True):\n",
    "        coast = coast_path_dictionary[attrs['coast']]\n",
    "        filename = extract_filename_from_name(node, root_folder, coast)\n",
    "        \n",
    "        text = read_text_from_file(filename)\n",
    "        if text is None:\n",
    "            continue\n",
    "\n",
    "        tokens = tokenize_text(text)\n",
    "        sentiment = calculate_sentiment(tokens)\n",
    "        \n",
    "        net.nodes[node]['sentiment'] = sentiment\n",
    "\n",
    "\n",
    "rap_graph_with_sentiment = DIRECTED_GRAPH.copy()\n",
    "add_sentiment_to_nodes(rap_graph_with_sentiment, ROOT_FOLDER)"
   ]
  },
  {
   "cell_type": "markdown",
   "metadata": {},
   "source": [
    "* Create a histogram of all rappers' associated sentiments.\n"
   ]
  },
  {
   "cell_type": "code",
   "execution_count": 56,
   "metadata": {},
   "outputs": [
    {
     "data": {
      "image/png": "[encoded data removed]",
      "text/plain": [
       "<Figure size 640x480 with 1 Axes>"
      ]
     },
     "metadata": {},
     "output_type": "display_data"
    }
   ],
   "source": [
    "sentiments = [attrs['sentiment'] for _, attrs in rap_graph_with_sentiment.nodes(data=True)]\n",
    "\n",
    "    \n",
    "plt.hist(sentiments, bins=20, color='blue', edgecolor='black')\n",
    "\n",
    "plt.title(\"Distribution of Page Sentiments\")\n",
    "plt.xlabel(\"Sentiment Score\")\n",
    "plt.ylabel(\"Frequency\")\n",
    "plt.grid(True)"
   ]
  },
  {
   "cell_type": "markdown",
   "metadata": {},
   "source": [
    "* What are the 10 rappers with happiest and saddest pages?\n"
   ]
  },
  {
   "cell_type": "code",
   "execution_count": 57,
   "metadata": {},
   "outputs": [
    {
     "name": "stdout",
     "output_type": "stream",
     "text": [
      "10 Rappers with the Saddest Pages:\n",
      "1. Slip Capone (Sentiment: 5.27)\n",
      "2. Slow Pain (Sentiment: 5.27)\n",
      "3. Ol' Dirty Bastard (Sentiment: 5.28)\n",
      "4. Droop-E (Sentiment: 5.29)\n",
      "5. Knightowl (Sentiment: 5.32)\n",
      "6. Killa Sin (Sentiment: 5.34)\n",
      "7. Sir Jinx (Sentiment: 5.35)\n",
      "8. Rydah J. Klyde (Sentiment: 5.36)\n",
      "9. Black Rob (Sentiment: 5.36)\n",
      "10. The Jacka (Sentiment: 5.36)\n",
      "\n",
      "10 Rappers with the Happiest Pages:\n",
      "1. Phil Da Agony (Sentiment: 6.11)\n",
      "2. Young Music DYMG (Sentiment: 5.89)\n",
      "3. Skizzy Mars (Sentiment: 5.85)\n",
      "4. Dave Free (Sentiment: 5.84)\n",
      "5. Lamiere (Sentiment: 5.83)\n",
      "6. Jay Critch (Sentiment: 5.83)\n",
      "7. V. Rose (Sentiment: 5.83)\n",
      "8. Mark Batson (Sentiment: 5.81)\n",
      "9. Omega Crosby (Sentiment: 5.80)\n",
      "10. Futuristic (rapper) (Sentiment: 5.80)\n"
     ]
    }
   ],
   "source": [
    "def top_and_bottom_rappers_by_sentiment(net):\n",
    "    sorted_rappers = sorted(net.nodes(data=True), key=lambda x: x[1]['sentiment'])\n",
    "    \n",
    "    bottom_10 = sorted_rappers[:10]\n",
    "    top_10 = sorted_rappers[-10:]\n",
    "    \n",
    "    print(\"10 Rappers with the Saddest Pages:\")\n",
    "    for i, (rapper, attrs) in enumerate(bottom_10, 1):\n",
    "        print(f\"{i}. {rapper} (Sentiment: {attrs['sentiment']:.2f})\")\n",
    "\n",
    "    print(\"\\n10 Rappers with the Happiest Pages:\")\n",
    "    for i, (rapper, attrs) in enumerate(reversed(top_10), 1):\n",
    "        print(f\"{i}. {rapper} (Sentiment: {attrs['sentiment']:.2f})\")\n",
    "        \n",
    "top_and_bottom_rappers_by_sentiment(rap_graph_with_sentiment)"
   ]
  },
  {
   "cell_type": "markdown",
   "metadata": {},
   "source": [
    "\n",
    "Now, compute the sentiment of each coast: \n",
    "* Which is the happiest and which is saddest coast according to the LabMT wordlist approach? (Take the coast's sentiment to be the average sentiment of the coast's rappers' pages (disregarding any rappers with sentiment 0).\n"
   ]
  },
  {
   "cell_type": "code",
   "execution_count": 58,
   "metadata": {},
   "outputs": [
    {
     "data": {
      "text/markdown": [
       "✅ The happiest coast is **West** with an average sentiment of **5.592**."
      ],
      "text/plain": [
       "<IPython.core.display.Markdown object>"
      ]
     },
     "metadata": {},
     "output_type": "display_data"
    },
    {
     "data": {
      "text/markdown": [
       "✅ The saddest coast is **East** with an average sentiment of **5.590**."
      ],
      "text/plain": [
       "<IPython.core.display.Markdown object>"
      ]
     },
     "metadata": {},
     "output_type": "display_data"
    }
   ],
   "source": [
    "import numpy as np\n",
    "def sentiment_mean_for_coast(net, coast):\n",
    "    sentiments = [attrs['sentiment'] for _, attrs in net.nodes(data=True) if attrs[\"coast\"] == coast]\n",
    "    return np.mean(sentiments)\n",
    "\n",
    "east_coast_sentiment = sentiment_mean_for_coast(rap_graph_with_sentiment, \"east\")\n",
    "west_coast_sentiment = sentiment_mean_for_coast(rap_graph_with_sentiment, \"west\")\n",
    "\n",
    "# Determine happiest and saddest coasts\n",
    "if east_coast_sentiment is not None and west_coast_sentiment is not None:\n",
    "    if east_coast_sentiment > west_coast_sentiment:\n",
    "        happiest_coast = \"East\"\n",
    "        saddest_coast = \"West\"\n",
    "    elif west_coast_sentiment > east_coast_sentiment:\n",
    "        happiest_coast = \"West\"\n",
    "        saddest_coast = \"East\"\n",
    "    else:\n",
    "        happiest_coast = saddest_coast = \"Both coasts have the same sentiment.\"\n",
    "\n",
    "    printmd(f\"✅ The happiest coast is **{happiest_coast}** with an average sentiment of **{max(east_coast_sentiment, west_coast_sentiment):.3f}**.\")\n",
    "    printmd(f\"✅ The saddest coast is **{saddest_coast}** with an average sentiment of **{min(east_coast_sentiment, west_coast_sentiment):.3f}**.\")\n",
    "else:\n",
    "    printmd(\"❌ Unable to compute sentiment for one or both coasts.\")\n",
    "\n"
   ]
  },
  {
   "cell_type": "markdown",
   "metadata": {},
   "source": [
    "* Use the \"label shuffling test\" (Week 5 and 8) to test if the coast with the highest wikipedia page sentiment has a page sentiment that is significantly higher (5% confidence bound) than a randomly selected group of rappers of the same size.\n"
   ]
  },
  {
   "cell_type": "code",
   "execution_count": 59,
   "metadata": {},
   "outputs": [
    {
     "data": {
      "text/markdown": [
       "✅ Actual mean sentiment of **West Coast** pages: **5.59**"
      ],
      "text/plain": [
       "<IPython.core.display.Markdown object>"
      ]
     },
     "metadata": {},
     "output_type": "display_data"
    },
    {
     "data": {
      "text/markdown": [
       "✅ The Actual mean was higher than random in: **62.4%** of cases"
      ],
      "text/plain": [
       "<IPython.core.display.Markdown object>"
      ]
     },
     "metadata": {},
     "output_type": "display_data"
    },
    {
     "data": {
      "text/markdown": [
       "❌ Fail to prove the hypothesis that West coast have sentiment significantly higher than random group."
      ],
      "text/plain": [
       "<IPython.core.display.Markdown object>"
      ]
     },
     "metadata": {},
     "output_type": "display_data"
    }
   ],
   "source": [
    "import random\n",
    "random.seed(SEED)\n",
    "\n",
    "def label_shuffling_test(rap_network, happiest_coast):\n",
    "    coast_sentiments = [attrs['sentiment'] for n, attrs in rap_network.nodes(data=True) if attrs['coast'].lower() == happiest_coast.lower() and attrs['sentiment'] != 0]\n",
    "    all_sentiments = [attrs['sentiment'] for n, attrs in rap_network.nodes(data=True) if attrs['sentiment'] != 0]\n",
    "\n",
    "    actual_coast_mean = np.mean(coast_sentiments)\n",
    "\n",
    "    num_trials = 1000\n",
    "    fake_means = []\n",
    "\n",
    "    for _ in range(num_trials):\n",
    "        random.shuffle(all_sentiments)\n",
    "        fake_coast_mean = np.mean(all_sentiments[:len(coast_sentiments)])\n",
    "        fake_means.append(fake_coast_mean)\n",
    "\n",
    "    higher_than_random = len([x for x in fake_means if actual_coast_mean > x])\n",
    "\n",
    "    p_value_higher = higher_than_random / num_trials\n",
    "\n",
    "    printmd(f\"✅ Actual mean sentiment of **{happiest_coast.capitalize()} Coast** pages: **{actual_coast_mean:.2f}**\")\n",
    "    printmd(f\"✅ The Actual mean was higher than random in: **{p_value_higher*100}%** of cases\")\n",
    "\n",
    "    # Conclusion based on a 5% significance level\n",
    "    if p_value_higher >= 0.95:\n",
    "        printmd(\"✅  Proved the hypothesis that {happiest_coast} have sentiment significantly higher than random group.\")\n",
    "    else:\n",
    "        printmd(f\"❌ Fail to prove the hypothesis that {happiest_coast} coast have sentiment significantly higher than random group.\")\n",
    "\n",
    "# Example usage assuming `rap_graph_with_sentiment` is your network and the happiest coast is \"West\"\n",
    "label_shuffling_test(rap_graph_with_sentiment, happiest_coast)"
   ]
  },
  {
   "cell_type": "markdown",
   "metadata": {},
   "source": [
    "\n",
    "* Does the result make sense to you? Elaborate.\n"
   ]
  },
  {
   "cell_type": "markdown",
   "metadata": {},
   "source": [
    "> ✅ #TODO modify.  To be honest I would like to see some more diverse results but i think due to style in which the wikipedia pages are written the mean sentiment will be around neutral "
   ]
  },
  {
   "cell_type": "markdown",
   "metadata": {},
   "source": [
    "\n",
    "\n",
    "**Congratulations for making it to the end of the Assignment. Good luck with your independent project**\n",
    "\n"
   ]
  }
 ],
 "metadata": {
  "anaconda-cloud": {},
  "kernelspec": {
   "display_name": "Python 3 (ipykernel)",
   "language": "python",
   "name": "python3"
  },
  "language_info": {
   "codemirror_mode": {
    "name": "ipython",
    "version": 3
   },
   "file_extension": ".py",
   "mimetype": "text/x-python",
   "name": "python",
   "nbconvert_exporter": "python",
   "pygments_lexer": "ipython3",
   "version": "3.11.5"
  }
 },
 "nbformat": 4,
 "nbformat_minor": 1
}
