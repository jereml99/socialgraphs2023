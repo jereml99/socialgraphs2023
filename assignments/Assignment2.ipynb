{
 "cells": [
  {
   "cell_type": "markdown",
   "metadata": {},
   "source": [
    "Format and emojis: ✅ for solution, 📊 for graph captions, 💬 for comments\n",
    "\n",
    "Copy these ones so that we all use the same ones (Windows 11)"
   ]
  },
  {
   "cell_type": "code",
   "execution_count": 2,
   "metadata": {},
   "outputs": [],
   "source": [
    "from IPython.display import display, Markdown, Latex\n",
    "def printmd(string):\n",
    "    display(Markdown(string))"
   ]
  },
  {
   "cell_type": "markdown",
   "metadata": {},
   "source": [
    "This function lets you print markdown with python code block."
   ]
  },
  {
   "cell_type": "markdown",
   "metadata": {},
   "source": [
    "# Formalia:\n",
    "\n",
    "Please read the [assignment overview page](https://github.com/SocialComplexityLab/socialgraphs2021/wiki/Assignments) carefully before proceeding. This page contains information about formatting (including formats etc.), group sizes, and many other aspects of handing in the assignment. \n",
    "\n",
    "_If you fail to follow these simple instructions, it will negatively impact your grade!_\n",
    "\n",
    "**Due date and time**: The assignment is due on Tuesday October the 31st, 2021 at 23:55. Hand in your IPython notebook file (with extension `.ipynb`) via http://peergrade.io/\n",
    "\n",
    "\n",
    "(If you haven't set up an account on peergrade yet, go to www.peergrade.io/join and type in the class code: ***DPZEV6***.)"
   ]
  },
  {
   "cell_type": "markdown",
   "metadata": {},
   "source": [
    "### Overview\n",
    "\n",
    "This year's Assignment 2 is all about analyzing the network of rappers.\n",
    "\n",
    "Note that this time I'm doing the exercises slightly differently in order to clean things up a bit. The issue is that the weekly lectures/exercises include quite a few instructions and intermediate results that are not quite something you guys can meaningfully answer. \n",
    "\n",
    "Therefore, in the assignment below, I have tried to reformulate the questions from the weekly exercises into something that is (hopefully) easier to answer. *Then I also note which lectures each question comes from*; that way, you can easily go back and find additional tips & tricks on how to solve things 😇\n",
    "\n",
    "\n",
    "----"
   ]
  },
  {
   "cell_type": "markdown",
   "metadata": {},
   "source": [
    "# Part 0: Building the network"
   ]
  },
  {
   "cell_type": "markdown",
   "metadata": {},
   "source": [
    " To create our network, we downloaded the rapper Wiki pages from each coast (during Week 4) and linked them via the hyperlinks connecting pages to each other. To achieve this goal we have used regular expressions."
   ]
  },
  {
   "cell_type": "markdown",
   "metadata": {},
   "source": [
    "* Explain the strategy you have used to extract the hyperlinks from the Wiki-pages, assuming that you have already collected the rapper pages with the Wikipedia API."
   ]
  },
  {
   "cell_type": "markdown",
   "metadata": {},
   "source": [
    "> ✅ Firstly, we iterate over all the rapper text files and we add them as nodes in the network, while also including some attributes like `Coast` and `Content Length`. After that, we iterate again over all of the same files, doing the following:\n",
    "> * We search for **all** Wikipedia internal links that follow a specific format (we do that with a regular expression, explained in the next section). \n",
    "> * Some times these links include more than one wording (separated by '|'), but we are only interested in the first one.\n",
    "> * Then, we check if the resulting word or phrase is in the collection of rapper names we were given at the start of Week 4.\n",
    "> * If it is, then we connect the rapper on which file we are iterating over, edge origin, to the rapper in the Wikipedia internal link, edge destination (the direction is important)."
   ]
  },
  {
   "cell_type": "markdown",
   "metadata": {},
   "source": [
    "* Show the regular expressions you have built and explain in details how they work."
   ]
  },
  {
   "cell_type": "markdown",
   "metadata": {},
   "source": [
    "> ✅ The expression is the following `\\[\\[(.*?)\\]\\]`, which essentially matches everything between double square brackets. In particular:\n",
    "> * The square brackets `\\[ \\]` are *escaped* with a backlash (`\\`) just so they are to matched literally.\n",
    "> * The parenthesis `( )` form a group (although as it's only one group in the whole expression that we don't need to match as repeating, the parenthesis can be removed).\n",
    "> * `.*?`: This is a part of the pattern enclosed in parentheses and it's the interesting part. It uses the following elements:\n",
    ">   * `.`: This period (dot) is a metacharacter in regular expressions that matches any character except for a newline character.\n",
    ">   * `*`: This asterisk is another metacharacter and it means \"zero or more occurrences of the preceding element.\" So, `.*` means zero or more occurrences of any character.\n",
    ">   * `?`: The question mark is another metacharacter, and when used after `*`, it makes the `*` operator non-greedy, meaning it matches as few characters as possible. Without the `?`, `.*` would be greedy and match as many characters as possible, so from the first link's `[[`, to the last link's `]]`."
   ]
  },
  {
   "cell_type": "markdown",
   "metadata": {},
   "source": [
    "# Part 1: Network visualization and basic stats"
   ]
  },
  {
   "cell_type": "markdown",
   "metadata": {},
   "source": [
    "Visualize your network of rappers (from lecture 5) and calculate stats (from lecture 4 and 5). For this exercise, we assume that you have already generated the network and extracted the largest weakly connected component (the \"largest weakly connected component\" of a directed network is the subgraph consisting of the nodes that would constitute the largest connected component if the network were undirected) . The visualization and statistics should be done for the largest weakly connected component only."
   ]
  },
  {
   "cell_type": "code",
   "execution_count": 3,
   "metadata": {},
   "outputs": [],
   "source": [
    "import pickle\n",
    "\n",
    "# Load graph object from pickle file that we saved in lecture 4\n",
    "G = pickle.load(open('./Week4_graph.pickle', 'rb'))\n",
    "SEED = 1234\n",
    "\n",
    "# Extract the largest weakly connected component\n",
    "import networkx as nx\n",
    "\n",
    "largest_cc = max(nx.weakly_connected_components(G), key=len)\n",
    "G = G.subgraph(largest_cc).copy()\n",
    "DIRECTED_GRAPH = G.copy() # directed graph\n",
    "UNDIRECTED_GRAPH = G.to_undirected() #undirected graph"
   ]
  },
  {
   "cell_type": "markdown",
   "metadata": {},
   "source": [
    "## _Exercise 1a_: Stats (see lecture 4 and 5 for more hints)"
   ]
  },
  {
   "cell_type": "markdown",
   "metadata": {},
   "source": [
    "* What is the number of nodes in the network?"
   ]
  },
  {
   "cell_type": "code",
   "execution_count": 4,
   "metadata": {},
   "outputs": [
    {
     "data": {
      "text/markdown": [
       "> ✅ Number of nodes: 727"
      ],
      "text/plain": [
       "<IPython.core.display.Markdown object>"
      ]
     },
     "metadata": {},
     "output_type": "display_data"
    }
   ],
   "source": [
    "printmd(f\"> ✅ Number of nodes: {len(G.nodes)}\")"
   ]
  },
  {
   "cell_type": "markdown",
   "metadata": {},
   "source": [
    "* What is the number of links?"
   ]
  },
  {
   "cell_type": "code",
   "execution_count": 5,
   "metadata": {},
   "outputs": [
    {
     "data": {
      "text/markdown": [
       "> ✅ Number of edges: 5803"
      ],
      "text/plain": [
       "<IPython.core.display.Markdown object>"
      ]
     },
     "metadata": {},
     "output_type": "display_data"
    }
   ],
   "source": [
    "printmd(f\"> ✅ Number of edges: {len(G.edges)}\")"
   ]
  },
  {
   "cell_type": "markdown",
   "metadata": {},
   "source": [
    "* Who is the top connected rapper? (Report results for the in-degrees and out-degrees). Comment on your findings. Is this what you would have expected?"
   ]
  },
  {
   "cell_type": "code",
   "execution_count": 36,
   "metadata": {},
   "outputs": [
    {
     "data": {
      "text/markdown": [
       "> ✅ We will comment on the most in-connected rapper and out-connected rappers, with additional information like if they are referred back and they opposite type of degree, as it seems important in figuring out the status of the rapper.\n",
       "> * **In-degrees**:\n",
       "> \t* Name: Snoop Dogg\n",
       "> \t* In-Degree: 127\n",
       "> \t* Out-Degree: 22\n",
       "> \t* Refers back 15.75%\n",
       "> * **Out-degrees**:\n",
       "> \t* Name: Drag-On\n",
       "> \t* Out-Degree: 52\n",
       ">   * In-Degree: 6\n",
       "> \t* Referred back 5.77%"
      ],
      "text/plain": [
       "<IPython.core.display.Markdown object>"
      ]
     },
     "metadata": {},
     "output_type": "display_data"
    }
   ],
   "source": [
    "G = DIRECTED_GRAPH\n",
    "most_connected_in = sorted(dict(G.in_degree).items(), key=lambda x:x[1], reverse=True)\n",
    "most_connected_out = sorted(dict(G.out_degree).items(), key=lambda x:x[1], reverse=True)\n",
    "rapper = most_connected_in[0][0]\n",
    "degree = most_connected_in[0][1]\n",
    "in_neighbours = [ u for u,v in G.edges if v == rapper]\n",
    "out_neighbours = [ v for u,v in G.edges if u == rapper]\n",
    "to_print = \"\"\n",
    "to_print += f\"> ✅ We will comment on the most in-connected rapper and out-connected rappers, with additional information like if they are referred back and they opposite type of degree, as it seems important in figuring out the status of the rapper.\"\n",
    "to_print += (f'''\n",
    "> * **In-degrees**:\n",
    "> \t* Name: {rapper}\n",
    "> \t* In-Degree: {len(in_neighbours)}\n",
    "> \t* Out-Degree: {len(out_neighbours)}\n",
    "> \t* Refers back {100*len([el for el in in_neighbours if el in out_neighbours])/len(in_neighbours):.2f}%''')\n",
    "rapper = most_connected_out[0][0]\n",
    "degree = most_connected_out[0][1]\n",
    "in_neighbours = [ u for u,v in G.edges if v == rapper]\n",
    "out_neighbours = [ v for u,v in G.edges if u == rapper]\n",
    "to_print += (f'''\n",
    "> * **Out-degrees**:\n",
    "> \t* Name: {rapper}\n",
    "> \t* Out-Degree: {len(out_neighbours)}\n",
    ">   * In-Degree: {len(in_neighbours)}\n",
    "> \t* Referred back {100*len([el for el in out_neighbours if el in in_neighbours])/len(out_neighbours):.2f}%''')\n",
    "\n",
    "printmd(to_print)"
   ]
  },
  {
   "cell_type": "markdown",
   "metadata": {},
   "source": [
    "> ✅ In the case of the rapper with the largest in-degree, *Snoop Dog*, it makes sense since he's a really popular and prolific rapper, who has probably influenced a lot of other rappers. He refers back to only $15.75\\%$ of the rappers that link to him. This is in consistent with his high popularity, as a lot of rappers can point to his influence without the need of mentioning them in Snoop's Wikipedia article, as these articles do not have to grow in length at the same rythm that links to it grow.\n",
    ">\n",
    "> However, the case of the rapper with the largest out-degree, *Drag-on, is completely different. If we look at his Wikipedia article, we can see with the naked eye that the article is not long, but the density of links is very high. In conjunction with the fact that he very rarely is referred back ($5.75\\%$) and his very low In-Degree ($6$) a good assumption is that he has contributed to some events in a minor role or as a guest with a lot of other rappers, and a very eager Wikipedia contributor has registered it in his article."
   ]
  },
  {
   "cell_type": "markdown",
   "metadata": {},
   "source": [
    "* Who are the top 5 most connected east-coast rappers (again in terms of in/out-degree)? "
   ]
  },
  {
   "cell_type": "code",
   "execution_count": 56,
   "metadata": {},
   "outputs": [
    {
     "data": {
      "text/markdown": [
       "> ✅ Those are:\n",
       "> * **East**:\n",
       ">   * *In-degree (in descending order)*:\n",
       "    >       * Jay-Z (114)\n",
       "    >       * Nas (98)\n",
       "    >       * 50 Cent (91)\n",
       "    >       * Busta Rhymes (82)\n",
       "    >       * The Notorious B.I.G. (63)\n",
       ">   * *Out-degree (in descending order)*:\n",
       "    >       * Drag-On (52)\n",
       "    >       * Black Thought (42)\n",
       "    >       * Jahlil Beats (35)\n",
       "    >       * MC Lyte (35)\n",
       "    >       * Uncle Murda (34)"
      ],
      "text/plain": [
       "<IPython.core.display.Markdown object>"
      ]
     },
     "metadata": {},
     "output_type": "display_data"
    }
   ],
   "source": [
    "east_rappers = [node for node in G.nodes if G.nodes[node]['coast'] == 'east']\n",
    "west_rappers = [node for node in G.nodes if G.nodes[node]['coast'] == 'west']\n",
    "to_print = \"> ✅ Those are:\"\n",
    "to_print += (f'''\n",
    "> * **East**:\n",
    ">   * *In-degree (in descending order)*:''')\n",
    "for (rapper ,degree) in [(name, degree) for (name, degree) in most_connected_in if name in east_rappers][:5]:\n",
    "    to_print += (f'''\n",
    "    >       * {rapper} ({degree})''')\n",
    "to_print += (f'''\n",
    ">   * *Out-degree (in descending order)*:''')\n",
    "for (rapper ,degree) in [(name, degree) for (name, degree) in most_connected_out if name in east_rappers][:5]:\n",
    "    to_print += (f'''\n",
    "    >       * {rapper} ({degree})''')\n",
    "\n",
    "printmd(to_print)"
   ]
  },
  {
   "cell_type": "markdown",
   "metadata": {},
   "source": [
    "* Who are the top 5 most connected west-coast rappers (again in terms of in/out-degree)?"
   ]
  },
  {
   "cell_type": "code",
   "execution_count": 58,
   "metadata": {},
   "outputs": [
    {
     "data": {
      "text/markdown": [
       "> ✅ Those are:\n",
       "> * **West**:\n",
       ">   * *In-degree (in descending order)*:\n",
       "    >       * Snoop Dogg (127)\n",
       "    >       * Dr. Dre (81)\n",
       "    >       * Kendrick Lamar (75)\n",
       "    >       * Tupac Shakur (70)\n",
       "    >       * E-40 (60)\n",
       ">   * *Out-degree (in descending order)*:\n",
       "    >       * DJ Dahi (38)\n",
       "    >       * Dr. Dre (36)\n",
       "    >       * The Game (rapper) (36)\n",
       "    >       * Kendrick Lamar (36)\n",
       "    >       * Kurupt (35)"
      ],
      "text/plain": [
       "<IPython.core.display.Markdown object>"
      ]
     },
     "metadata": {},
     "output_type": "display_data"
    }
   ],
   "source": [
    "to_print = \"> ✅ Those are:\"\n",
    "to_print += (f'''\n",
    "> * **West**:\n",
    ">   * *In-degree (in descending order)*:''')\n",
    "for (rapper ,degree) in [(name, degree) for (name, degree) in most_connected_in if name in west_rappers][:5]:\n",
    "    to_print += (f'''\n",
    "    >       * {rapper} ({degree})''')\n",
    "to_print += (f'''\n",
    ">   * *Out-degree (in descending order)*:''')\n",
    "for (rapper ,degree) in [(name, degree) for (name, degree) in most_connected_out if name in west_rappers][:5]:\n",
    "    to_print += (f'''\n",
    "    >       * {rapper} ({degree})''')\n",
    "\n",
    "printmd(to_print)"
   ]
  },
  {
   "cell_type": "markdown",
   "metadata": {},
   "source": [
    "* Plot the in- and out-degree distributions for the whole network. \n",
    "   * Use axes that make sense for visualizing this particular distribution.\n",
    "   * What do you observe? \n",
    "   * Give a pedagogical explaination of why the in-degree distribution is different from the out-degree distribution?"
   ]
  },
  {
   "cell_type": "code",
   "execution_count": 112,
   "metadata": {},
   "outputs": [],
   "source": [
    "import numpy as np\n",
    "import math\n",
    "def degree_distribution_plot(in_d, out_d, title=\"\", n_bins=100, figsize=(15,7)):\n",
    "    in_d = list(in_d)\n",
    "    out_d = list(out_d)\n",
    "    bins = np.linspace(min(in_d+out_d), max(in_d+out_d), n_bins)\n",
    "    \n",
    "    in_frq, in_edges = np.histogram(a= in_d, bins=bins)\n",
    "    out_frq, out_edges = np.histogram(a= out_d, bins=bins)\n",
    "\n",
    "    import matplotlib.pyplot as plt\n",
    "    from math import log\n",
    "    fig, (ax1) = plt.subplots(1, 1)\n",
    "    fig.set_figwidth(14)\n",
    "    fig.suptitle(title, fontsize=20)\n",
    "    fig.set_figheight(figsize[1])\n",
    "    fig.set_figwidth(figsize[0])\n",
    "\n",
    "    ax1.hist(in_edges[:-1], n_bins, weights=in_frq, label='In-degree', alpha = 0.7)\n",
    "    ax1.hist(out_edges[:-1], n_bins, weights=out_frq, label='Out-degree', alpha = 0.7)\n",
    "    ax1.set_xlabel(\"k\")\n",
    "    ax1.set_ylabel(\"count\")\n",
    "    ax1.legend()\n",
    "    ax1.spines['bottom'].set_visible(False)"
   ]
  },
  {
   "cell_type": "code",
   "execution_count": 113,
   "metadata": {},
   "outputs": [
    {
     "data": {
      "image/png": "[encoded data removed]",
      "text/plain": [
       "<Figure size 1500x700 with 1 Axes>"
      ]
     },
     "metadata": {},
     "output_type": "display_data"
    }
   ],
   "source": [
    "degree_distribution_plot(dict(G.in_degree).values(), dict(G.out_degree).values(), title='In-degree and Out-degree distribution', n_bins=50)"
   ]
  },
  {
   "cell_type": "markdown",
   "metadata": {},
   "source": [
    "> 📊 In this plot we can see the in-degree and out-degree distributions superposed in the form of two histograms. Both are divided into the same bins and the y-axis line has been removed so the bars that are too little (because the count is very low) can be seen, because as degree increases, there are less node counts and more distributed along the x-axis. It's important to show that there are hubs."
   ]
  },
  {
   "cell_type": "markdown",
   "metadata": {},
   "source": [
    "> ✅ "
   ]
  },
  {
   "cell_type": "markdown",
   "metadata": {},
   "source": [
    "* Find the exponent (by using the `powerlaw` package) for the in- and out-degree distributions. What does it say about our network?"
   ]
  },
  {
   "cell_type": "code",
   "execution_count": 114,
   "metadata": {},
   "outputs": [
    {
     "name": "stdout",
     "output_type": "stream",
     "text": [
      "Calculating best minimal value for power law fit\n",
      "Calculating best minimal value for power law fit\n",
      "Calculating best minimal value for power law fit\n",
      "xmin progress: 98%\r"
     ]
    },
    {
     "name": "stderr",
     "output_type": "stream",
     "text": [
      "Values less than or equal to 0 in data. Throwing out 0 or negative values\n",
      "Values less than or equal to 0 in data. Throwing out 0 or negative values\n"
     ]
    }
   ],
   "source": [
    "import powerlaw\n",
    "in_alpha = powerlaw.Fit(list(dict(G.in_degree).values())).alpha\n",
    "out_alpha = powerlaw.Fit(list(dict(G.out_degree).values())).alpha\n",
    "total_alpha = powerlaw.Fit(list(dict(G.degree).values())).alpha"
   ]
  },
  {
   "cell_type": "code",
   "execution_count": 119,
   "metadata": {},
   "outputs": [
    {
     "data": {
      "text/markdown": [
       "\n",
       "> ✅ Exponents of the degree distribution:\n",
       ">    * In: 2.73\n",
       ">    * Out: 12.24\n",
       ">    * Total: 3.53\n"
      ],
      "text/plain": [
       "<IPython.core.display.Markdown object>"
      ]
     },
     "metadata": {},
     "output_type": "display_data"
    }
   ],
   "source": [
    "to_print = (f'''\n",
    "> ✅ Exponents of the degree distribution:\n",
    ">    * In: {in_alpha:.2f}\n",
    ">    * Out: {out_alpha:.2f}\n",
    ">    * Total: {total_alpha:.2f}\n",
    "''')\n",
    "printmd(to_print)"
   ]
  },
  {
   "cell_type": "markdown",
   "metadata": {},
   "source": [
    "> ✅ "
   ]
  },
  {
   "cell_type": "markdown",
   "metadata": {},
   "source": [
    "* Compare the two degree distributions two the degree distribution of a *random network* (undirected) with the same number of nodes and probability of connection *p*. Comment your results."
   ]
  },
  {
   "cell_type": "markdown",
   "metadata": {},
   "source": [
    "> ✅ "
   ]
  },
  {
   "cell_type": "markdown",
   "metadata": {},
   "source": [
    "## _Exercise 1b_: Visualization (see lecture 5 for more hints)"
   ]
  },
  {
   "cell_type": "markdown",
   "metadata": {},
   "source": [
    "* Create a nice visualization of the total (directed) network:\n",
    "   * Color nodes according to the role;\n",
    "   * Scale node-size according to degree;\n",
    "   * Get node positions based on either the Force Atlas 2 algorithm, or the built-in algorithms for networkX;\n",
    "   * Whatever else you feel like that would make the visualization nicer."
   ]
  },
  {
   "cell_type": "markdown",
   "metadata": {},
   "source": [
    "* Describe the structure you observe. What useful information can you decipher from this?"
   ]
  },
  {
   "cell_type": "markdown",
   "metadata": {},
   "source": [
    "# Part 2: Word-clouds\n",
    "\n",
    "Create your own version of the word-clouds (from lecture 7). For this exercise we assume you know how to download and clean text from rappers' Wikipedia pages.\n",
    "\n",
    "Here's what you need to do:\n",
    "> * Create a word-cloud for each coast according to the novel TF-TR method. Feel free to make it as fancy as you like. Explain your process and comment on your results.\n",
    "> * For each coast, what are the 5 words with the highest TR scores? Comment on your result."
   ]
  },
  {
   "cell_type": "markdown",
   "metadata": {},
   "source": [
    "# Part 3: Communities\n",
    "\n",
    "Find communities and their modularity (from lecture 7).\n",
    "\n",
    "Here's what you need to do:\n"
   ]
  },
  {
   "cell_type": "markdown",
   "metadata": {},
   "source": [
    " * In your own words, explain what the measure \"modularity\" is, and the intuition behind the formula you use to compute it. \n"
   ]
  },
  {
   "cell_type": "markdown",
   "metadata": {},
   "source": [
    "> ✅ "
   ]
  },
  {
   "cell_type": "markdown",
   "metadata": {},
   "source": [
    "* Find communities in the network"
   ]
  },
  {
   "cell_type": "code",
   "execution_count": 9,
   "metadata": {},
   "outputs": [],
   "source": [
    "import community as community_louvain\n",
    "\n",
    "rap_graph = UNDIRECTED_GRAPH \n",
    "partition = community_louvain.best_partition(rap_graph)"
   ]
  },
  {
   "cell_type": "markdown",
   "metadata": {},
   "source": [
    "* ...and explain how you chose to identify the communities: Which algorithm did you use and how does it work?\n"
   ]
  },
  {
   "cell_type": "markdown",
   "metadata": {},
   "source": [
    "> ✅ "
   ]
  },
  {
   "cell_type": "markdown",
   "metadata": {},
   "source": [
    "* Comment on your results:\n",
    "    * How many communities did you find in total?\n"
   ]
  },
  {
   "cell_type": "code",
   "execution_count": 12,
   "metadata": {},
   "outputs": [
    {
     "data": {
      "text/markdown": [
       "> ✅ Number of communities: 9"
      ],
      "text/plain": [
       "<IPython.core.display.Markdown object>"
      ]
     },
     "metadata": {},
     "output_type": "display_data"
    }
   ],
   "source": [
    "printmd(f\"> ✅ Number of communities: {max(partition.values()) + 1}\")"
   ]
  },
  {
   "cell_type": "markdown",
   "metadata": {},
   "source": [
    "   * Compute the value of modularity with the partition created by the algorithm.\n"
   ]
  },
  {
   "cell_type": "code",
   "execution_count": 16,
   "metadata": {},
   "outputs": [
    {
     "data": {
      "text/markdown": [
       "> ✅ Modularity: 0.407"
      ],
      "text/plain": [
       "<IPython.core.display.Markdown object>"
      ]
     },
     "metadata": {},
     "output_type": "display_data"
    }
   ],
   "source": [
    "modularity_value = community_louvain.modularity(partition, rap_graph)\n",
    "\n",
    "printmd(f\"> ✅ Modularity: {modularity_value:.3f}\")"
   ]
  },
  {
   "cell_type": "markdown",
   "metadata": {},
   "source": [
    ">   * Plot and/or print the distribution of community sizes (whichever makes most sense). Comment on your result.\n"
   ]
  },
  {
   "cell_type": "code",
   "execution_count": 20,
   "metadata": {},
   "outputs": [],
   "source": [
    "import matplotlib.pyplot as plt\n",
    "from collections import Counter\n",
    "### TODO PROBABLY BETTER TO HAVE THIS ON TOP OF THE DOC\n",
    "def create_histogram(data, title, xlabel, ylabel, color='blue', figuresize= (10, 6)):\n",
    "    counter = Counter(data)\n",
    "    labels = list(counter.keys())\n",
    "    values = list(counter.values())\n",
    "\n",
    "    plt.figure(figsize=figuresize)\n",
    "    plt.bar(labels, values, color=color, edgecolor='black')\n",
    "    plt.title(title)\n",
    "    plt.xlabel(xlabel)\n",
    "    plt.ylabel(ylabel)\n",
    "    plt.show()\n"
   ]
  },
  {
   "cell_type": "code",
   "execution_count": 21,
   "metadata": {},
   "outputs": [
    {
     "data": {
      "image/png": "[encoded data removed]",
      "text/plain": [
       "<Figure size 1000x600 with 1 Axes>"
      ]
     },
     "metadata": {},
     "output_type": "display_data"
    }
   ],
   "source": [
    "community_labels = list(partition.values())\n",
    "\n",
    "create_histogram(community_labels, 'Community Sizes', 'Community Label', 'Number of Nodes')"
   ]
  },
  {
   "cell_type": "markdown",
   "metadata": {},
   "source": [
    "> 📊"
   ]
  },
  {
   "cell_type": "markdown",
   "metadata": {},
   "source": [
    "> * Now, partition your rappers into two communities based on which coast they represent.\n",
    ">   * What is the modularity of this partition? Comment on the result."
   ]
  },
  {
   "cell_type": "code",
   "execution_count": 25,
   "metadata": {},
   "outputs": [
    {
     "data": {
      "text/markdown": [
       "> ✅ The modularity of the partition is: 0.250"
      ],
      "text/plain": [
       "<IPython.core.display.Markdown object>"
      ]
     },
     "metadata": {},
     "output_type": "display_data"
    }
   ],
   "source": [
    "def calculate_modularity(graph: nx.Graph):\n",
    "    L = graph.number_of_edges()\n",
    "    communities = [\"west\", \"east\"]\n",
    "    \n",
    "    communities_nodes =[]\n",
    "    for community in communities:\n",
    "        communities_nodes.append([n for n, attr in graph.nodes(data=True) if attr['coast'] == community])\n",
    "    \n",
    "    return nx.community.modularity(graph, communities_nodes)\n",
    "\n",
    "\n",
    "modularity = calculate_modularity(rap_graph)\n",
    "printmd(f\"> ✅ The modularity of the partition is: {modularity:.3f}\")"
   ]
  },
  {
   "cell_type": "markdown",
   "metadata": {},
   "source": [
    "> ✅ modularity of the coast partition is smaller than the modularity of the best partition. #TODO Add more description "
   ]
  },
  {
   "cell_type": "markdown",
   "metadata": {},
   "source": [
    "# Part 4: Sentiment of communities\n",
    "\n",
    "Analyze the sentiment of communities (lecture 8). More tips & tricks can be found, if you take a look at Lecture 8's exercises.\n",
    "\n",
    "A couple of additional instructions you will need below:\n",
    "* Average the average sentiment of the nodes in each community to find a community-level sentiment.\n",
    "\n",
    "Here's what you need to do (use the LabMT wordlist approach):\n"
   ]
  },
  {
   "cell_type": "markdown",
   "metadata": {},
   "source": [
    "* Calculate and store sentiment for every rapper\n"
   ]
  },
  {
   "cell_type": "code",
   "execution_count": 29,
   "metadata": {},
   "outputs": [],
   "source": [
    "labmt_dict = {}\n",
    "with open('..\\lectures\\data\\labMIT-1.0.txt', 'r') as file:\n",
    "    lines = file.readlines()\n",
    "    for line in lines[1:]:  # Skipping header line\n",
    "        parts = line.strip().split('\\t')\n",
    "        word = parts[0]\n",
    "        score = float(parts[2])\n",
    "        labmt_dict[word] = score\n",
    "\n",
    "def calculate_sentiment(tokens):\n",
    "    total_score = 0\n",
    "    num_tokens = 0\n",
    "    \n",
    "    for token in tokens:\n",
    "        if token in labmt_dict:\n",
    "            total_score += labmt_dict[token]\n",
    "            num_tokens += 1\n",
    "            \n",
    "    if num_tokens == 0:\n",
    "        return 0\n",
    "    \n",
    "    return total_score / num_tokens"
   ]
  },
  {
   "cell_type": "code",
   "execution_count": 33,
   "metadata": {},
   "outputs": [],
   "source": [
    "import re\n",
    "ROOT_FOLDER = \"../lectures/data/\"\n",
    "\n",
    "def tokenize_text(text):\n",
    "    return re.findall(r'\\b\\w+\\b', text.lower())\n",
    "\n",
    "def read_text_from_file(filename):\n",
    "    try:\n",
    "        with open(filename, \"r\", encoding=\"utf-8\") as f:\n",
    "            return f.read()\n",
    "    except Exception as e:\n",
    "        print(f\"An error occurred while processing the file {filename}\")\n",
    "        return None\n",
    "\n",
    "def extract_filename_from_name(rap_name, root_folder, coast):\n",
    "    safe_name = rap_name.replace(\"?\", \"%3F\")\n",
    "    filename = f\"{root_folder}{coast}/{safe_name}.txt\"\n",
    "    return filename\n",
    "\n",
    "def add_sentiment_to_nodes(net, root_folder):\n",
    "    coast_path_dictionary={\n",
    "        \"east\": \"east_coast\",\n",
    "        \"west\": \"west_coast\"\n",
    "    } \n",
    "    for node, attrs in net.nodes(data=True):\n",
    "        coast = coast_path_dictionary[attrs['coast']]\n",
    "        filename = extract_filename_from_name(node, root_folder, coast)\n",
    "        \n",
    "        text = read_text_from_file(filename)\n",
    "        if text is None:\n",
    "            continue\n",
    "\n",
    "        tokens = tokenize_text(text)\n",
    "        sentiment = calculate_sentiment(tokens)\n",
    "        \n",
    "        net.nodes[node]['sentiment'] = sentiment\n",
    "\n",
    "\n",
    "rap_graph_with_sentiment = DIRECTED_GRAPH.copy()\n",
    "add_sentiment_to_nodes(rap_graph_with_sentiment, ROOT_FOLDER)"
   ]
  },
  {
   "cell_type": "markdown",
   "metadata": {},
   "source": [
    "* Create a histogram of all rappers' associated sentiments.\n"
   ]
  },
  {
   "cell_type": "code",
   "execution_count": 38,
   "metadata": {},
   "outputs": [
    {
     "data": {
      "image/png": "[encoded data removed]",
      "text/plain": [
       "<Figure size 640x480 with 1 Axes>"
      ]
     },
     "metadata": {},
     "output_type": "display_data"
    }
   ],
   "source": [
    "sentiments = [attrs['sentiment'] for _, attrs in rap_graph_with_sentiment.nodes(data=True)]\n",
    "\n",
    "    \n",
    "plt.hist(sentiments, bins=20, color='blue', edgecolor='black')\n",
    "\n",
    "plt.title(\"Distribution of Page Sentiments\")\n",
    "plt.xlabel(\"Sentiment Score\")\n",
    "plt.ylabel(\"Frequency\")\n",
    "plt.grid(True)"
   ]
  },
  {
   "cell_type": "markdown",
   "metadata": {},
   "source": [
    "* What are the 10 rappers with happiest and saddest pages?\n"
   ]
  },
  {
   "cell_type": "code",
   "execution_count": 37,
   "metadata": {},
   "outputs": [
    {
     "name": "stdout",
     "output_type": "stream",
     "text": [
      "10 Rappers with the Saddest Pages:\n",
      "1. Slip Capone (Sentiment: 5.27)\n",
      "2. Slow Pain (Sentiment: 5.27)\n",
      "3. Ol' Dirty Bastard (Sentiment: 5.28)\n",
      "4. Droop-E (Sentiment: 5.29)\n",
      "5. Knightowl (Sentiment: 5.32)\n",
      "6. Killa Sin (Sentiment: 5.34)\n",
      "7. Sir Jinx (Sentiment: 5.35)\n",
      "8. Rydah J. Klyde (Sentiment: 5.36)\n",
      "9. Black Rob (Sentiment: 5.36)\n",
      "10. The Jacka (Sentiment: 5.36)\n",
      "\n",
      "10 Rappers with the Happiest Pages:\n",
      "1. Phil Da Agony (Sentiment: 6.11)\n",
      "2. Young Music DYMG (Sentiment: 5.89)\n",
      "3. Skizzy Mars (Sentiment: 5.85)\n",
      "4. Dave Free (Sentiment: 5.84)\n",
      "5. Lamiere (Sentiment: 5.83)\n",
      "6. Jay Critch (Sentiment: 5.83)\n",
      "7. V. Rose (Sentiment: 5.83)\n",
      "8. Mark Batson (Sentiment: 5.81)\n",
      "9. Omega Crosby (Sentiment: 5.80)\n",
      "10. Futuristic (rapper) (Sentiment: 5.80)\n"
     ]
    }
   ],
   "source": [
    "def top_and_bottom_rappers_by_sentiment(net):\n",
    "    sorted_rappers = sorted(net.nodes(data=True), key=lambda x: x[1]['sentiment'])\n",
    "    \n",
    "    bottom_10 = sorted_rappers[:10]\n",
    "    top_10 = sorted_rappers[-10:]\n",
    "    \n",
    "    print(\"10 Rappers with the Saddest Pages:\")\n",
    "    for i, (rapper, attrs) in enumerate(bottom_10, 1):\n",
    "        print(f\"{i}. {rapper} (Sentiment: {attrs['sentiment']:.2f})\")\n",
    "\n",
    "    print(\"\\n10 Rappers with the Happiest Pages:\")\n",
    "    for i, (rapper, attrs) in enumerate(reversed(top_10), 1):\n",
    "        print(f\"{i}. {rapper} (Sentiment: {attrs['sentiment']:.2f})\")\n",
    "        \n",
    "top_and_bottom_rappers_by_sentiment(rap_graph_with_sentiment)"
   ]
  },
  {
   "cell_type": "markdown",
   "metadata": {},
   "source": [
    "\n",
    "Now, compute the sentiment of each coast: \n",
    "> * Which is the happiest and which is saddest coast according to the LabMT wordlist approach? (Take the coast's sentiment to be the average sentiment of the coast's rappers' pages (disregarding any rappers with sentiment 0).\n",
    "> * Use the \"label shuffling test\" (Week 5 and 8) to test if the coast with the highest wikipedia page sentiment has a page sentiment that is significantly higher (5% confidence bound) than a randomly selected group of rappers of the same size.\n",
    "> * Does the result make sense to you? Elaborate.\n",
    "\n",
    "**Congratulations for making it to the end of the Assignment. Good luck with your independent project**\n",
    "\n"
   ]
  }
 ],
 "metadata": {
  "anaconda-cloud": {},
  "kernelspec": {
   "display_name": "Python 3 (ipykernel)",
   "language": "python",
   "name": "python3"
  },
  "language_info": {
   "codemirror_mode": {
    "name": "ipython",
    "version": 3
   },
   "file_extension": ".py",
   "mimetype": "text/x-python",
   "name": "python",
   "nbconvert_exporter": "python",
   "pygments_lexer": "ipython3",
   "version": "3.11.4"
  }
 },
 "nbformat": 4,
 "nbformat_minor": 1
}
