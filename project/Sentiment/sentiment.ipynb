{
 "cells": [
  {
   "cell_type": "code",
   "execution_count": null,
   "metadata": {},
   "outputs": [],
   "source": [
    "import json\n",
    "\n",
    "data_file = '../game_data.json'\n",
    "\n",
    "\n",
    "with open(data_file, encoding=\"utf-8\") as f:\n",
    "    game_data = json.load(f)"
   ]
  },
  {
   "cell_type": "code",
   "execution_count": null,
   "metadata": {},
   "outputs": [],
   "source": [
    "import matplotlib.pyplot as plt\n",
    "\n",
    "def create_histogram(data, title, xlabel, ylabel, color='tab:blue', figuresize=(10, 6)):\n",
    "    labels = list(data.keys())\n",
    "    values = list(data.values())\n",
    "\n",
    "    n_bars = len(labels)\n",
    "    figure_width = max(labels) - min(labels)\n",
    "\n",
    "    bar_width = figure_width / (1.5 * n_bars)\n",
    "\n",
    "    plt.figure(figsize=figuresize)\n",
    "    plt.bar(labels, values, color=color, edgecolor='black', width=bar_width)\n",
    "    plt.title(title)\n",
    "    plt.xlabel(xlabel)\n",
    "    plt.ylabel(ylabel)\n",
    "    plt.show()"
   ]
  },
  {
   "cell_type": "code",
   "execution_count": null,
   "metadata": {},
   "outputs": [],
   "source": [
    "from vaderSentiment.vaderSentiment import SentimentIntensityAnalyzer\n",
    "\n",
    "analyzer = SentimentIntensityAnalyzer()\n",
    "# Function to get sentiment scores\n",
    "weight_neg = 0.7\n",
    "weight_compound = 1-  weight_neg \n",
    "\n",
    "def normalize_score(score, old_min, old_max, new_min, new_max):\n",
    "    return ((score - old_min) / (old_max - old_min)) * (new_max - new_min) + new_min\n",
    "\n",
    "def get_violence_score(neg_score, pos_score, weight_neg, weight_compound):\n",
    "    # Normalize 'neg' score from [0, 1] to [-1, 1]\n",
    "    normalized_neg_score = normalize_score(neg_score, 0, 0.35, 0, 1)\n",
    "    normalized_pos_score = normalize_score(pos_score, 0, 0.3, 0, 1)\n",
    "    \n",
    "    # Calculate the weighted score\n",
    "    violence_score = normalized_neg_score * weight_neg - normalized_pos_score * weight_compound\n",
    "    \n",
    "    return violence_score\n",
    "\n",
    "\n",
    "def get_sentiment_scores(data, subsections = [\"gameplay\"]):\n",
    "    sentiment_scores = {}\n",
    "    for title, content in data.items():\n",
    "        text = \"\\n\".join([content['text'][subsection] for subsection in subsections if subsection in content[\"text\"]])\n",
    "        sentiment = analyzer.polarity_scores(text)\n",
    "        sentiment[\"violence\"] = get_violence_score(sentiment[\"neg\"], sentiment[\"pos\"], weight_neg, weight_compound)\n",
    "        sentiment_scores[title] = sentiment\n",
    "    return sentiment_scores\n",
    "\n",
    "# Function to create a histogram of sentiment scores\n",
    "def create_sentiment_histograms(sentiment_data, sentiments_to_plot=None):\n",
    "    # Default to all sentiment types if none are specified\n",
    "    if sentiments_to_plot is None:\n",
    "        sentiments_to_plot = ['pos', 'neu', 'neg', 'compound']\n",
    "\n",
    "    # Determine the number of plots\n",
    "    num_plots = len(sentiments_to_plot)\n",
    "    cols = 2  # We prefer a 2-column layout\n",
    "    rows = (num_plots + 1) // cols  # Calculate rows needed\n",
    "\n",
    "    # Setting up the figure for multiple subplots\n",
    "    fig, axes = plt.subplots(rows, cols, figsize=(15, 5 * rows))\n",
    "    if rows > 1:\n",
    "        axes = axes.flatten()  # Flatten if we have more than one row\n",
    "    else:\n",
    "        axes = [axes]  # Wrap in list if only one row (i.e., 1 or 2 plots)\n",
    "\n",
    "    fig.suptitle('Sentiment Analysis Histograms')\n",
    "\n",
    "    # Plotting each requested sentiment\n",
    "    for i, sentiment in enumerate(sentiments_to_plot):\n",
    "        scores = [details[sentiment] for details in sentiment_data.values()]\n",
    "        ax = axes[i]\n",
    "        ax.hist(scores, bins=200, color='tab:blue', edgecolor='black')\n",
    "        ax.set_title(f'{sentiment.capitalize()} Sentiment Score')\n",
    "        ax.set_xlabel('Sentiment Score')\n",
    "        ax.set_ylabel('Number of Games')\n",
    "\n",
    "    # Turn off any unused subplots\n",
    "    for j in range(i + 1, len(axes)):\n",
    "        axes[j].axis('off')\n",
    "\n",
    "    # Adjust layout for better spacing\n",
    "    plt.tight_layout(rect=[0, 0.03, 1, 0.95])\n",
    "    plt.show()\n",
    "\n",
    "def print_top_bottom_sentiment_games(sentiment_scores, key='compound', n = 10):\n",
    "    # Sorting the games based on the compound sentiment score\n",
    "    sorted_games = sorted(sentiment_scores.items(), key=lambda x: x[1][key])\n",
    "    \n",
    "\n",
    "    # Printing the 10 most negative games\n",
    "    print(f\"{n} Most Negative Games in terms of {key} sentiment:\")\n",
    "    for game, score in sorted_games[:n]:\n",
    "        print(f\"{game}: {score}\")\n",
    "\n",
    "    print(\"\\n\")  # Adding a newline for better readability\n",
    "\n",
    "    # Printing the 10 most positive games\n",
    "    print(f\"{n} Most Positive Games in terms of {key} sentiment:\")\n",
    "    for game, score in sorted_games[-n:]:\n",
    "        print(f\"{game}: {score}\")\n",
    "\n",
    "def is_subsection_length_valid(data, subsections, min_length, max_length):\n",
    "    \"\"\"\n",
    "    Check if the length of a subsection is within the specified range.\n",
    "    \n",
    "    :param data: The data dictionary of a game\n",
    "    :param subsection: The subsection to check within the data\n",
    "    :param min_length: The minimum length of the subsection string\n",
    "    :param max_length: The maximum length of the subsection string\n",
    "    :return: True if the length is within range, False otherwise\n",
    "    \"\"\"\n",
    "    subsection_text = \"\"\n",
    "    for subsection in subsections:\n",
    "        subsection_text += data.get('text', {}).get(subsection, \"\") + \"\\n\"\n",
    "    word_count = len(subsection_text.split())\n",
    "    return min_length <= word_count <= max_length\n",
    "\n",
    "def count_long_subsections(game_data, subsection='gameplay', min_length=0, max_length=float('inf')):\n",
    "    \"\"\"\n",
    "    Counts the number of entries in the game_data dictionary that have a specified subsection\n",
    "    with a string length within the given range.\n",
    "    \n",
    "    :param game_data: Dictionary containing game information\n",
    "    :param subsection: The subsection to look for within the entries (default is 'gameplay')\n",
    "    :param min_length: The minimum length of the subsection string to count (default is 0)\n",
    "    :param max_length: The maximum length of the subsection string to count (default is infinity)\n",
    "    :return: The count of entries with the subsection string length within the specified range\n",
    "    \"\"\"\n",
    "    return sum(is_subsection_length_valid(data, subsection, min_length, max_length) for _, data in game_data.items())\n",
    "\n",
    "def filter_entries_by_length(game_data, subsections=['gameplay'], min_length=0, max_length=float('inf')):\n",
    "    \"\"\"\n",
    "    Creates a dictionary with only the entries from game_data that have a specified subsection\n",
    "    with a string length within the given range.\n",
    "    \n",
    "    :param game_data: Dictionary containing game information\n",
    "    :param subsection: The subsection to look for within the entries (default is 'gameplay')\n",
    "    :param min_length: The minimum length of the subsection string to filter by (default is 0)\n",
    "    :param max_length: The maximum length of the subsection string to filter by (default is infinity)\n",
    "    :return: A new dictionary with filtered entries\n",
    "    \"\"\"\n",
    "    return {game: data for game, data in game_data.items() if is_subsection_length_valid(data, subsections, min_length, max_length)}\n",
    "\n",
    "\n"
   ]
  },
  {
   "cell_type": "code",
   "execution_count": null,
   "metadata": {},
   "outputs": [],
   "source": [
    "from collections import Counter\n",
    "\n",
    "\n",
    "unique_keys = Counter()\n",
    "intersection = 0\n",
    "for game, content in game_data.items():\n",
    "        intersection += 1 if \"plot\" in content['text'].keys() and \"gameplay\" in content['text'].keys() else 0\n",
    "        unique_keys.update(content['text'].keys())\n",
    "\n",
    "# Display the unique keys\n",
    "unique_keys\n"
   ]
  },
  {
   "cell_type": "code",
   "execution_count": null,
   "metadata": {},
   "outputs": [],
   "source": [
    "import os\n",
    "import json\n",
    "\n",
    "def get_or_create_value(function_to_apply, file_path):\n",
    "    # Check if the file exists\n",
    "    if os.path.exists(file_path):\n",
    "        # Load the value from the file\n",
    "        with open(file_path, 'r') as file:\n",
    "            value = json.load(file)\n",
    "    else:\n",
    "        # Call the function to create the value\n",
    "        value = function_to_apply()\n",
    "        # Save the value to the file\n",
    "        with open(file_path, 'w') as file:\n",
    "            json.dump(value, file)\n",
    "    \n",
    "    return value\n",
    "\n",
    "# Example usage\n",
    "# Assuming get_sentiment_scores is a function you have defined elsewhere"
   ]
  },
  {
   "cell_type": "code",
   "execution_count": null,
   "metadata": {},
   "outputs": [],
   "source": [
    "sentiment_scores = get_or_create_value(lambda: {key: get_sentiment_scores(game_data, list(key)) for key in unique_keys.keys()} , 'vader_sentiment_scores.json')\n"
   ]
  },
  {
   "cell_type": "code",
   "execution_count": null,
   "metadata": {},
   "outputs": [],
   "source": [
    "create_sentiment_histograms(sentiment_scores[\"plot\"])"
   ]
  },
  {
   "cell_type": "code",
   "execution_count": null,
   "metadata": {},
   "outputs": [],
   "source": [
    "create_sentiment_histograms(sentiment_scores[\"gameplay\"])"
   ]
  },
  {
   "cell_type": "code",
   "execution_count": null,
   "metadata": {},
   "outputs": [],
   "source": [
    "create_sentiment_histograms(sentiment_scores[\"reception\"])"
   ]
  },
  {
   "cell_type": "code",
   "execution_count": null,
   "metadata": {},
   "outputs": [],
   "source": [
    "print_top_bottom_sentiment_games(sentiment_scores[\"plot\"])\n"
   ]
  },
  {
   "cell_type": "code",
   "execution_count": null,
   "metadata": {},
   "outputs": [],
   "source": [
    "sentiment_scores[\"gameplay\"][\"Tetris\"], sentiment_scores[\"gameplay\"][\"God of War (2005 video game)\"], sentiment_scores[\"gameplay\"][\"Minecraft\"], sentiment_scores[\"gameplay\"][\"Mortal Kombat (1992 video game)\"],"
   ]
  },
  {
   "cell_type": "code",
   "execution_count": null,
   "metadata": {},
   "outputs": [],
   "source": [
    "sorted(sentiment_scores[\"gameplay\"].items(), key=lambda x: -abs(((x[1][\"neg\"]) * x[1][\"compound\"])))"
   ]
  },
  {
   "cell_type": "code",
   "execution_count": null,
   "metadata": {},
   "outputs": [],
   "source": [
    "constrains = {\n",
    "     \"min_length\": 100,\n",
    "    \"max_length\": 10000\n",
    "}\n",
    "subsections = ['gameplay','plot','story','synopsis','plot and gameplay','plot and gameplay']\n",
    "\n",
    "filtered_by_length = filter_entries_by_length(game_data, subsections=subsections, **constrains)"
   ]
  },
  {
   "cell_type": "code",
   "execution_count": null,
   "metadata": {},
   "outputs": [],
   "source": [
    "sentiment_filtered_by_length = get_or_create_value( lambda: get_sentiment_scores(filtered_by_length, subsections), file_path= \"filtered_gameplay_sentiment.json\")"
   ]
  },
  {
   "cell_type": "code",
   "execution_count": null,
   "metadata": {},
   "outputs": [],
   "source": [
    "# import scipy.stats as stats\n",
    "\n",
    "# neg_scores = [item['pos']+ 0.00001 for item in sentiment_filtered_by_length.values()]\n",
    "\n",
    "# # Apply the Box-Cox transformation to the list of 'neg' scores\n",
    "# # The scipy boxcox function returns the transformed array and the lambda value used\n",
    "# neg_scores_transformed, lambda_value = stats.boxcox(neg_scores)\n",
    "\n",
    "# # Update the original dictionary with the transformed 'neg' scores\n",
    "# for (key, value), transformed_score in zip(sentiment_filtered_by_length.items(), neg_scores_transformed):\n",
    "#     value['pos'] = transformed_score"
   ]
  },
  {
   "cell_type": "code",
   "execution_count": null,
   "metadata": {},
   "outputs": [],
   "source": [
    "violence = [sentiment[\"violence\"] for game, sentiment in sentiment_filtered_by_length.items()]\n",
    "for game, sentiment in sentiment_filtered_by_length.items():\n",
    "    sentiment[\"violence\"] = normalize_score(sentiment[\"violence\"], min(violence), max(violence), 0, 1)"
   ]
  },
  {
   "cell_type": "code",
   "execution_count": null,
   "metadata": {},
   "outputs": [],
   "source": [
    "create_sentiment_histograms(sentiment_data=sentiment_filtered_by_length, sentiments_to_plot= ['pos', 'neu', 'neg', 'compound', \"violence\"])"
   ]
  },
  {
   "cell_type": "code",
   "execution_count": null,
   "metadata": {},
   "outputs": [],
   "source": [
    "print_top_bottom_sentiment_games(sentiment_filtered_by_length, \"compound\", n = 50)"
   ]
  },
  {
   "cell_type": "code",
   "execution_count": null,
   "metadata": {},
   "outputs": [],
   "source": [
    "game_data_with_vader_sentiment_on_gameplay = get_or_create_value(lambda: {\n",
    "    game: {**data, 'sentiment': sentiment_filtered_by_length[game]}\n",
    "    for game, data in filtered_by_length.items() }, \"game_data_with_vader_sentiment.json\")"
   ]
  },
  {
   "cell_type": "code",
   "execution_count": null,
   "metadata": {},
   "outputs": [],
   "source": [
    "print_top_bottom_sentiment_games(sentiment_filtered_by_length, \"violence\", n = 50)"
   ]
  },
  {
   "cell_type": "code",
   "execution_count": null,
   "metadata": {},
   "outputs": [],
   "source": [
    "import pandas as pd\n",
    "\n",
    "def compare_violence_scores(data, most_violent, least_violent):\n",
    "    # Initialize dictionaries to hold the scores for the most and least violent games\n",
    "    most_violences = {'neg': [], 'neu': [], 'pos': [], 'compound': [], \"violence\": []}\n",
    "    least_violences = {'neg': [], 'neu': [], 'pos': [], 'compound': [], \"violence\": []}\n",
    "    \n",
    "    # Helper function to calculate average of a list\n",
    "    def average(lst):\n",
    "        return sum(lst) / len(lst) if lst else 0\n",
    "    \n",
    "    # Extract scores for each game in the most and least violent games lists\n",
    "    for game in most_violent:\n",
    "        if game in data:\n",
    "            most_violences['neg'].append(data[game]['neg'])\n",
    "            most_violences['neu'].append(data[game]['neu'])\n",
    "            most_violences['pos'].append(data[game]['pos'])\n",
    "            most_violences['compound'].append(data[game]['compound'])\n",
    "            most_violences['violence'].append(data[game]['violence'])\n",
    "    \n",
    "    for game in least_violent:\n",
    "        if game in data:\n",
    "            least_violences['neg'].append(data[game]['neg'])\n",
    "            least_violences['neu'].append(data[game]['neu'])\n",
    "            least_violences['pos'].append(data[game]['pos'])\n",
    "            least_violences['compound'].append(data[game]['compound'])\n",
    "            least_violences['violence'].append(data[game]['violence'])\n",
    "    \n",
    "    # Calculate averages for both groups\n",
    "    averages = {\n",
    "        'Score': ['neg', 'neu', 'pos', 'compound', \"violence\"],\n",
    "        'Average Most Violent': [\n",
    "            average(most_violences['neg']),\n",
    "            average(most_violences['neu']),\n",
    "            average(most_violences['pos']),\n",
    "            average(most_violences['compound']),\n",
    "            average(most_violences['violence'])\n",
    "        ],\n",
    "        'Average Least Violent': [\n",
    "            average(least_violences['neg']),\n",
    "            average(least_violences['neu']),\n",
    "            average(least_violences['pos']),\n",
    "            average(least_violences['compound']),\n",
    "            average(least_violences['violence'])\n",
    "        ]\n",
    "    }\n",
    "    \n",
    "    # Create a DataFrame to display the table\n",
    "    df = pd.DataFrame(averages)\n",
    "    \n",
    "    # Calculate and add a column for the difference between the most and least violent scores\n",
    "    df['Difference (Most - Least)'] = df['Average Most Violent'] - df['Average Least Violent']\n",
    "    \n",
    "    return df\n",
    "\n",
    "most_violent = [\"Doom (2016 video game)\", \"Grand Theft Auto V\", \"Mortal Kombat (1992 video game)\", \"God of War (2005 video game)\", \"Manhunt (video game)\", \"Gears of War (video game)\", \"Call of Duty 4: Modern Warfare\", \"Dead Space (2008 video game)\", \"Resident Evil (1996 video game)\", \"Hotline Miami\"]\n",
    "least_violent = [\"Animal Crossing: New Horizons\", \"Stardew Valley\", \"The Sims 4\", \"Minecraft\", \"Tetris\", \"Monument Valley (video game)\", \"Super Mario Odyssey\", \"Journey (2012 video game)\", \"Katamari Damacy\", \"Fez (video game)\"]\n",
    "compare_violence_scores(sentiment_filtered_by_length, most_violent, least_violent)"
   ]
  },
  {
   "cell_type": "code",
   "execution_count": null,
   "metadata": {},
   "outputs": [],
   "source": [
    "def rank_games_by_scores(data, most_violent, least_violent):\n",
    "    # Flatten the data to a list of tuples for sorting\n",
    "    # Assuming the correct key is 'neg' not 'violence' based on the provided data\n",
    "    score = 'violence'\n",
    "    flattened_data = [(game, scores[score], scores['compound']) for game, scores in data.items()]\n",
    "\n",
    "    # Initialize a list to hold the rank data\n",
    "    rank_most = []\n",
    "    rank_least = []\n",
    "\n",
    "    # Sort and rank for the most violent games\n",
    "    for game in most_violent:\n",
    "        # Lower 'neg' scores and more negative 'compound' scores are ranked higher for most violent games\n",
    "        neg_rank = sorted(flattened_data, key=lambda x: -x[1]).index((game, data[game][score], data[game]['compound'])) + 1\n",
    "        compound_rank = sorted(flattened_data, key=lambda x: x[2]).index((game, data[game][score], data[game]['compound'])) + 1\n",
    "        rank_most.append({'Game': game, 'Violence Category': 'Most Violent', 'Neg Rank': neg_rank, 'neg score': data[game][score], 'Compound Rank': compound_rank, \"Compound score\":data[game]['compound']})\n",
    "\n",
    "    # Sort and rank for the least violent games\n",
    "    for game in least_violent:\n",
    "        # Higher 'neg' scores and less negative 'compound' scores are ranked higher for least violent games\n",
    "        neg_rank = sorted(flattened_data, key=lambda x: x[1]).index((game, data[game][score], data[game]['compound'])) + 1\n",
    "        compound_rank = sorted(flattened_data, key=lambda x: -x[2]).index((game, data[game][score], data[game]['compound'])) + 1\n",
    "        rank_least.append({'Game': game, 'Violence Category': 'Least Violent', 'Neg Rank': neg_rank, 'neg score': data[game][score], 'Compound Rank': compound_rank, \"Compound score\":data[game]['compound']})\n",
    "\n",
    "    # Create the DataFrame from the list of rank data\n",
    "    ranks_most_df = pd.DataFrame(rank_most)\n",
    "    ranks_least_df = pd.DataFrame(rank_least)\n",
    "\n",
    "    return ranks_most_df, ranks_least_df\n",
    "\n",
    "ranks_most_df, ranks_least_df = rank_games_by_scores(sentiment_filtered_by_length, most_violent, least_violent)\n"
   ]
  },
  {
   "cell_type": "code",
   "execution_count": null,
   "metadata": {},
   "outputs": [],
   "source": [
    "ranks_most_df"
   ]
  },
  {
   "cell_type": "code",
   "execution_count": null,
   "metadata": {},
   "outputs": [],
   "source": [
    "ranks_least_df"
   ]
  },
  {
   "cell_type": "code",
   "execution_count": null,
   "metadata": {},
   "outputs": [],
   "source": [
    "import matplotlib.pyplot as plt\n",
    "import seaborn as sns\n",
    "\n",
    "# Function to plot score distributions for the most and least violent games.\n",
    "def plot_score_distributions(data, most_violent, least_violent):\n",
    "    # Create a DataFrame for the scores\n",
    "    scores_list = []\n",
    "    for game in data:\n",
    "        if game in most_violent or game in least_violent:\n",
    "            score_data = data[game]\n",
    "            score_data['Game'] = game\n",
    "            score_data['Violence'] = 'Most Violent' if game in most_violent else 'Least Violent'\n",
    "            scores_list.append(score_data)\n",
    "    \n",
    "    scores_df = pd.DataFrame(scores_list)\n",
    "\n",
    "    # Plotting the negativity score distribution\n",
    "    plt.figure(figsize=(10, 5))\n",
    "    sns.histplot(data=scores_df, x='violence', hue='Violence', element='step', stat='density', common_norm=False)\n",
    "    plt.title('Negativity Score Distribution')\n",
    "    plt.show()\n",
    "\n",
    "    # Plotting the compound score distribution\n",
    "    plt.figure(figsize=(10, 5))\n",
    "    sns.histplot(data=scores_df, x='compound', hue='Violence', element='step', stat='density', common_norm=False)\n",
    "    plt.title('Compound Score Distribution')\n",
    "    plt.show()\n",
    "\n",
    "# Call the function with hypothetical data\n",
    "plot_score_distributions(sentiment_filtered_by_length, most_violent, least_violent)\n"
   ]
  }
 ],
 "metadata": {
  "kernelspec": {
   "display_name": "python3.11",
   "language": "python",
   "name": "python3"
  },
  "language_info": {
   "codemirror_mode": {
    "name": "ipython",
    "version": 3
   },
   "file_extension": ".py",
   "mimetype": "text/x-python",
   "name": "python",
   "nbconvert_exporter": "python",
   "pygments_lexer": "ipython3",
   "version": "3.11.0"
  }
 },
 "nbformat": 4,
 "nbformat_minor": 2
}
