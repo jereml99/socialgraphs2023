{
 "cells": [
  {
   "cell_type": "code",
   "execution_count": 2,
   "metadata": {},
   "outputs": [],
   "source": [
    "import networkx as nx\n",
    "\n",
    "G = nx.DiGraph()\n"
   ]
  },
  {
   "cell_type": "code",
   "execution_count": 3,
   "metadata": {},
   "outputs": [],
   "source": [
    "import os\n",
    "import json\n",
    "\n",
    "directory_path = './data'\n",
    "\n",
    "for subdir, dirs, files in os.walk(directory_path):\n",
    "    for file in files:\n",
    "        filepath = subdir + os.sep + file\n",
    "        if filepath.endswith(\".json\"):\n",
    "            with open(filepath, 'r', encoding='utf-8') as json_file:\n",
    "                data = json.load(json_file)\n",
    "                page_title = data['title']\n",
    "                G.add_node(page_title)\n",
    "                for outpage in data['outpages']:\n",
    "                    G.add_edge(page_title, outpage)\n"
   ]
  },
  {
   "cell_type": "code",
   "execution_count": 6,
   "metadata": {},
   "outputs": [
    {
     "name": "stdout",
     "output_type": "stream",
     "text": [
      "Number of Nodes: 26720\n",
      "Number of Edges: 44777\n",
      "Average Degree: 3.35\n"
     ]
    },
    {
     "data": {
      "image/png": "[encoded data removed]",
      "text/plain": [
       "<Figure size 1000x600 with 1 Axes>"
      ]
     },
     "metadata": {},
     "output_type": "display_data"
    },
    {
     "name": "stdout",
     "output_type": "stream",
     "text": [
      "Graph Density: 0.0001\n"
     ]
    }
   ],
   "source": [
    "from collections import Counter\n",
    "import networkx as nx\n",
    "import matplotlib.pyplot as plt\n",
    "\n",
    "# Assuming G is your graph\n",
    "\n",
    "# Number of nodes and edges\n",
    "num_nodes = G.number_of_nodes()\n",
    "num_edges = G.number_of_edges()\n",
    "\n",
    "print(f\"Number of Nodes: {num_nodes}\")\n",
    "print(f\"Number of Edges: {num_edges}\")\n",
    "\n",
    "# Average degree\n",
    "avg_degree = sum(dict(G.degree()).values()) / num_nodes\n",
    "print(f\"Average Degree: {avg_degree:.2f}\")\n",
    "\n",
    "# Degree distribution\n",
    "degree_sequence = sorted([d for n, d in G.degree()], reverse=True)\n",
    "degree_count = Counter(degree_sequence)\n",
    "deg, cnt = zip(*degree_count.items())\n",
    "\n",
    "plt.figure(figsize=(10, 6))\n",
    "plt.bar(deg, cnt, width=0.80, color=\"b\")\n",
    "plt.title(\"Degree Distribution\")\n",
    "plt.ylabel(\"Count\")\n",
    "plt.xlabel(\"Degree\")\n",
    "plt.show()\n",
    "\n",
    "# Graph density\n",
    "density = nx.density(G)\n",
    "print(f\"Graph Density: {density:.4f}\")\n"
   ]
  },
  {
   "cell_type": "code",
   "execution_count": 11,
   "metadata": {},
   "outputs": [
    {
     "data": {
      "text/plain": [
       "(27362, 26720)"
      ]
     },
     "execution_count": 11,
     "metadata": {},
     "output_type": "execute_result"
    }
   ],
   "source": [
    "import pandas as pd\n",
    "\n",
    "all_names = pd.read_csv(\"../all_page_names.csv\")\n",
    "\n",
    "len(all_names[\"Page Names\"]) ,len(set(all_names[\"Page Names\"])) # some games names are repeated curios! "
   ]
  },
  {
   "cell_type": "code",
   "execution_count": null,
   "metadata": {},
   "outputs": [],
   "source": [
    "# Visualize graph\n",
    "import networkx as nx\n",
    "pos = nx.spring_layout(G)\n",
    "nx.draw(G, pos, with_labels=True)\n",
    "plt.show()"
   ]
  },
  {
   "cell_type": "code",
   "execution_count": null,
   "metadata": {},
   "outputs": [],
   "source": [
    "# Maybe we need this\n",
    "import powerlaw\n",
    "\n",
    "fit = powerlaw.Fit(degree_sequence)\n",
    "alpha = fit.power_law.alpha\n",
    "\n",
    "print(f\"Estimated Power-Law Exponent (alpha): {alpha}\")"
   ]
  },
  {
   "cell_type": "code",
   "execution_count": null,
   "metadata": {},
   "outputs": [],
   "source": [
    "from math import log\n",
    "\n",
    "connected = nx.is_connected(G)\n",
    "k_avg = sum(dict(G.degree()).values()) / len(G)\n",
    "\n",
    "print(f\"<k>={k_avg} & ln(N)={log(num_nodes)}\")\n",
    "\n",
    "response = \"\"\n",
    "\n",
    "if 0 < k_avg < 1:\n",
    "    response += \"The network is in the subcritical regime \"\n",
    "elif k_avg == 1:\n",
    "    response += \"The network is in the critical point regime \"\n",
    "elif k_avg > 1:\n",
    "    response += \"The network is in the supercritical regime\"\n",
    "elif k_avg > log(num_nodes):\n",
    "    response += \"The network is in the connected regime\"\n",
    "response +=  \"and is \"\n",
    "if connected:\n",
    "    response += \"\"\n",
    "else:\n",
    "    response += \"not \"\n",
    "response += \"connected.\"\n",
    "print(response)"
   ]
  }
 ],
 "metadata": {
  "kernelspec": {
   "display_name": "python3.11",
   "language": "python",
   "name": "python3"
  },
  "language_info": {
   "codemirror_mode": {
    "name": "ipython",
    "version": 3
   },
   "file_extension": ".py",
   "mimetype": "text/x-python",
   "name": "python",
   "nbconvert_exporter": "python",
   "pygments_lexer": "ipython3",
   "version": "3.11.5"
  }
 },
 "nbformat": 4,
 "nbformat_minor": 2
}
